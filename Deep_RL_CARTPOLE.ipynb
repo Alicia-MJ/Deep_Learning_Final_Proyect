{
  "cells": [
    {
      "cell_type": "markdown",
      "metadata": {
        "id": "3a013b75"
      },
      "source": [
        "10 / Diciembre / 2022"
      ],
      "id": "3a013b75"
    },
    {
      "cell_type": "markdown",
      "metadata": {
        "id": "093c8b99"
      },
      "source": [
        "# Proyecto Final - Curso de Redes Neuronales"
      ],
      "id": "093c8b99"
    },
    {
      "cell_type": "markdown",
      "metadata": {
        "id": "403a7208"
      },
      "source": [
        "**Integrantes de Equipo:** \n",
        "\n",
        "* Alicia Muñiz Jiménez        -  418002179\n",
        "* Carlos Rafael Mundo Levano   - 723031598"
      ],
      "id": "403a7208"
    },
    {
      "cell_type": "markdown",
      "metadata": {
        "id": "b6269033"
      },
      "source": [
        "# Breve introducción al aprendizaje por refuerzo profundo"
      ],
      "id": "b6269033"
    },
    {
      "cell_type": "markdown",
      "metadata": {
        "id": "12126181"
      },
      "source": [
        "El aprendizaje por refuerzo (RL por sus siglas en inglés) es un paradigma que nace en las ciencias cognitivas y del comportamiento y que con el tiempo se extiende a la ciencias computacionales para ser aplicado en la Inteligencia Artificial, esto debido a su atractivo en poder mapear situaciones a acciones maximizando una recompensa (Ravindran, 2013). En esencia los algoritmos RL están diseñados para resolver cierto tipo de problemas de aprendizaje donde un agente interactúa con su entorno/ambiente, el cual le dará recompenzas o castigos, dependiendo de las acciones del agente. Es así, que el agente tiene que aprender asociaciones entre los estímulos del ambiente en determinados estados, sus acciones y la ocurrencia de las recompensas, así como identificar qué información es relevante y cuál no (Palminteri y Pessiglione, 2013). \n",
        "\n",
        "De acuerdo con Francois-Lavent, Henderson, Islam, Bellemare y Pinau (2018), el problema general de RL se formaliza como un proceso de control estocástico de tiempo discreto donde un agente interactúa con su entorno de la siguiente manera: el agente empieza en un estado dado dentro de su entorno, \n",
        "$s_{0} ∈ S$, reuniendo una observación inicial $ω_{0} ∈ Ω$. Y en cada paso de tiempo t, el agente tiene que tomar una acción $a_{t} ∈ A$, la cual tendrá las siguientes consecuencias: \n",
        "\n",
        "1.   El agente obtiene una recompensa $r_{t} ∈ R$.\n",
        "2.   El agente transita al estado $s_{t+1} ∈ S$.\n",
        "3.   El agente obtiene una observación $w_{t+1} ∈ Ω$. \n",
        "\n",
        "Lo anterior es más fácil de entender si se observa la siguiente imagen donde se ilustra el diagrama de un proceso de decisión markoviano. "
      ],
      "id": "12126181"
    },
    {
      "cell_type": "markdown",
      "metadata": {
        "id": "YnmeHKqBCS-a"
      },
      "source": [
        "![agente1.jpg](data:image/jpeg;base64,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)"
      ],
      "id": "YnmeHKqBCS-a"
    },
    {
      "cell_type": "markdown",
      "metadata": {
        "id": "fa4e2c49"
      },
      "source": [
        "En particular, desde la perspectiva computacional el RL combina los campos de la programación dinámica y el aprendizaje supervizado (al el RL se le conoce como semi-supervizado) para crear sistemas de machine learning más potentes. Esto ha llamado la atención de muchos investigadores debido a la generalidad y flexibilidad de estos modelos para cierto tipo de problemas que antes eran irresolubles, ya que los agentes aprenden a través de prueba y error con las interacciones de su ambiente (Harmon y Harmon, 2000). El campo de mayor interés es el Deep Reinforcement Learning (DRL), puesto que combina el RL y el uso de redes neuronales profundas para poder resolver problemas más complejos, donde el RL se encarga de definir el objetivo y el deep learning da el mecanismo para consegirlo (Silver, s.f.). Por ejemplo, los agentes que aprenden a jugar juegos de atari o solucionar problemas de control tienen un modelo detrás de este tipo.  "
      ],
      "id": "fa4e2c49"
    },
    {
      "cell_type": "markdown",
      "metadata": {
        "id": "073890af"
      },
      "source": [
        "Adicionalmente, no hay que olvidar que las políticas de eleccion de comportamiento son las que definen cómo un agente elige determinada acción dado el estado en que se encuentra (Francois-Lavet, et al., 2018).  Y algunas de las políticas más usadas son: \n",
        "\n",
        "*  **Greedy:** Elige siempre la opción de mayor recompensa.\n",
        "*   **Epsilon-greedy:** Elige la opción de mayor recompensa la mayoría de las veces y con probabilidad $ϵ$ elige aleatoriamente el resto de las veces. \n"
      ],
      "id": "073890af"
    },
    {
      "cell_type": "markdown",
      "metadata": {
        "id": "6ecad568"
      },
      "source": [
        "Por otro lado, el valor de un estado es definido como la suma de los reforzadores recibidos comenzando en ese estado, considerando alguna política de comportamiento, hasta llegar al estado terminal (Sutton y Barto, 2015). Y lo que se busca en RL es la política óptima que maximice los reforzadores y que actualiza la función de valor, comenzando desde un estado arbitrario y realizando las acciones elegidas hasta un estado terminal. Es por ello, que la función de valor depende de la política y se puede definir como la predicción de la recompensa futura, dado un estado y una política específica. Sin embargo, hay que hacer énfasis en que un agente puede ser off-policy o on-policy, es decir, en el primero la política óptima es diferente de la política de elección de comportaminto, mientras que en el segundo caso la política óptima es la misma (Sagar, 2020).   La clave para resolver problemas RL es encontrar la política óptima de la función de valor para el problema específico. No obstante, los algoritmos RL pueden ser basados en políticas, basados en valor o una combinación de ambas (a esto se le llama actor crítico) (Jang, B. Kim, M. Harerimana, G. y Kim, 2019). \n",
        "\n",
        "Finalmente, hay una diferencia entre los algoritmos basados en modelos y los algoritmos libres de modelo: mientras que en los primeros el agente no se basa en ensayos, sino que explota lo aprendido del modelo, en los segundos el agente depende del ensayo y error para actualizar su experiencia y conocimiento del entorno, ya que tienen que aprender la dinámica del sistema a través de la experiencia (Jang, et al., 2019). "
      ],
      "id": "6ecad568"
    },
    {
      "cell_type": "markdown",
      "metadata": {
        "id": "vd3i_pDhOSLg"
      },
      "source": [
        "**Nota 1:** El Q-learning es un algoritmo del tipo modelo libre del RL basado en valor y es un policy off-learner. Su Q proviene de quality (cualidad en inglés), ya que el q-learning representa qué tan útil es una acción en ganar una recompensa a futuro (Shyalika, 2019). Es así que el q-learning estima la función Q, $Q(s,a)$, que es el valor esperado de hacer una acción 'a' en un estado 's' para estimar la política óptima. La ecuación de la función Q se basa en la ecuación de Bellman, más también hay otra ecuación que funciona como regla de actualización del valor Q (para saber más sobre esto pueden visitar el siguiente link https://towardsdatascience.com/a-beginners-guide-to-q-learning-c3e2a30a653c. \n",
        "\n",
        "\n",
        "\n"
      ],
      "id": "vd3i_pDhOSLg"
    },
    {
      "cell_type": "markdown",
      "metadata": {
        "id": "2smsMQFq2GcY"
      },
      "source": [
        "## Descripción del problema"
      ],
      "id": "2smsMQFq2GcY"
    },
    {
      "cell_type": "markdown",
      "metadata": {
        "id": "HwHLzbnY2KdS"
      },
      "source": [
        "**Problema:** Implementación de un agente artificial que use aprendizaje por reforzamiento profundo (DRL) al problema de control conocido como 'cartpole' de la librería OpenAI, para así poder evaluar el desempeño de este tipo de modelo en comparación de la selección de acciones aleatorias sin aprendizaje. El problema de 'cartpole' consiste en un poste que está unido por una articulación no accionada a un carro, el cual se mueve a lo largo de una pista sin fricción (OpenAI, 2022). El péndulo se coloca en posición vertical sobre el carro y el objetivo es equilibrar el poste aplicando fuerzas en la dirección izquierda y derecha del carro.\n",
        "\n",
        "**Objetivo:** Crear un agente que aprenda con DRL a equilibrar el poste aplicando fuerzas en la dirección izquierda y derecha del carro, obteniendo la máxima puntuación posible. "
      ],
      "id": "HwHLzbnY2KdS"
    },
    {
      "cell_type": "markdown",
      "metadata": {
        "id": "074GH-_Z2KuX"
      },
      "source": [
        "## Descripción del dataset a utilizar"
      ],
      "id": "074GH-_Z2KuX"
    },
    {
      "cell_type": "markdown",
      "metadata": {
        "id": "eYl9OhvQ2TDt"
      },
      "source": [
        "Por el tipo de problema que se está abordando, aprendizaje por refuerzo profundo, en realidad no se tiene ni necesita un dataset para que el agente aprenda, sino que se pondrá al agente a experimentar en el entorno virtual 'CartPole-v1' de la biblioteca OpenAI para que así aprenda por su cuenta a resolver el problema del 'cartpole'. Con cada iteración que tenga con el entorno virtual el agente irá recopilando datos para aprender la política óptima del problema. Por ello en vez de describir un dataset se describirá el entorno en donde el agente aprenderá. \n",
        "\n",
        "**Descripción del entorno virtual:**\n",
        "\n",
        "\n",
        "*   ***Espacio de acciones:***\n",
        "        -   0 = mover el carro a la izquierda\n",
        "        -   1 = mover el carro a la derecha.\n",
        "\n",
        "        La velocidad del carro con la que ejecuta cada acción depende del ángulo del posto, por lo que no es algo que tenga ue aprender el agente. \n",
        "\n",
        "*   ***Espacio observacional (estados):***\n",
        "\n",
        "    El entorno tiene 4 observaciones posibles en cada estado, como se muestra en la tabla de abajo. "
      ],
      "id": "eYl9OhvQ2TDt"
    },
    {
      "cell_type": "markdown",
      "metadata": {
        "id": "iFiJz9_NzUdi"
      },
      "source": [
        "![Imagen2.png](data:image/png;base64,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)"
      ],
      "id": "iFiJz9_NzUdi"
    },
    {
      "cell_type": "markdown",
      "metadata": {
        "id": "Ex_ehDStzaPo"
      },
      "source": [
        "**Nota:** Los rangos de la tabla anterior denotan los posibles valores del espacio de observaciones para cada elemento, sin embargo, aunque la posición del carro puede tomar valores entre (-4.8, 4.8), el episodio se termina si el carro deja el rango (-2.4, 2.4). De igual forma, aunue el ángulo del poste puede estar entre (-0.418, 0.418) radianes, el episodio termina si el ángulo no está en el rango (-0.2095, 0.2095).  "
      ],
      "id": "Ex_ehDStzaPo"
    },
    {
      "cell_type": "markdown",
      "metadata": {
        "id": "kZvVG3Vk0qD-"
      },
      "source": [
        "\n",
        "\n",
        "*   ***Recompensas:***\n",
        "\n",
        "    El objetivo es mantener el poste derecho el mayor tiempo posible y se le dará una recompensa al agente de +1 por cada paso que de donde lo consiga. El puntaje máximo que puede tener es de 200. \n",
        "*   ***Estado inicial:*** \n",
        "    \n",
        "    Todas las observaciones del espacio de observaciones se asignan de manera uniformemente aleatoria entre valores de (-0.05, 0.05). \n",
        "\n",
        "*   ***Final de un episodio:*** \n",
        "    \n",
        "    Un episodio termina si: \n",
        "\n",
        "    - La posición del carro deja valores del rango (-2.4, 2.4). \n",
        "    - El ángulo del poste  no está en el rango (-0.2095, 0.2095).\n",
        "    - El número de episodios es mayor a 200.\n",
        "\n"
      ],
      "id": "kZvVG3Vk0qD-"
    },
    {
      "cell_type": "markdown",
      "metadata": {
        "id": "JVnsCprx2TNq"
      },
      "source": [
        "## Descripción y justificación del modelo neuronal adoptado"
      ],
      "id": "JVnsCprx2TNq"
    },
    {
      "cell_type": "markdown",
      "metadata": {
        "id": "p3pRBEAC2XyD"
      },
      "source": [
        "**¿Por qué escogimos usar RL para resolver el problema?**\n",
        "\n",
        "El RL es un tipo de algoritmo dentro del aprendizaje automático el cual no se puede categorizar como supervisado (pues enrealidad no se depende de obtener un dataset con una variable a predecir) o no supervisado (pues sí es necesario que el modelo dependa y aprenda según las recompenzas del ambiente), es por eso que se le llama semi-supervizado.\n",
        "\n",
        "Este problema tambien pudo ser resuelto usando aprendizaje supervisado, pues se pudo haber creado un dataset donde se tenga el estado actual del ambiente y la acción que se realiza al jugarlo. Pero si se hace esto para cualquier tipo de problema donde se deba jugar, no se alcanzaría el objetivo de que el agente aprenda a jugar a un nivel superior al del humano, ya que si se aborda el problema con un dataset en realidad sólo se estarían replicando las acciones humanas y por ende se replicaría el nivel de juego de un humano promedio. Debido a lo anterior se eligió el aprendizaje por refuerzo para abordar el problema, aunque se implementó el uso de redes neuronales profundas para que el agente aprendiera y a esto se le llama aprendizaje de reforzamiento profundo (DRL).\n",
        "\n"
      ],
      "id": "p3pRBEAC2XyD"
    },
    {
      "cell_type": "markdown",
      "metadata": {
        "id": "ST5UpjA6WkF-"
      },
      "source": [
        "**Modelo Neuronal:**\n",
        "\n",
        "\n",
        "*   **Agente:** \n",
        "    \n",
        "    - Tipo de agente: **DQNAgente**\n",
        "    \n",
        "    Deep Q-Network Agent ( DQNAgent) es uno de los más usados en DRL y consiste en aproximar una función de valor-estado desde una aproximación con el Q-learning y una red neuronal, usando un actor crítico. Este tipo de agente funciona bien cuando el entorno que se va a tratar es simple y la función Q(s,a) queda representada como una matriz de valores (Vallejo del Moral, 2021). Es por ello que se eligió este tipo de agente, ya que usa un modelo libre de aprendizaje, es decir, no necesita conocer el modelo del entorno de antemano, sino que através de la experiencia aprende la dinámica del sistema. Y este tipo de aprendizaje es lo más cercano a  el aprendizaje humano en muchas situaciones.  \n",
        "\n",
        "    - Política de elección de comportamiento: **BoltzmanQPolicy**\n",
        "    \n",
        "    La política BoltzmanQPolicy de keras es una política epsilon-greedy, donde al inicio el valor de epsilon será alto, ya que el agente no conoce nada del entorno y necesita explorarlo, pero conforme lo explora el valor de epsilon disminuye y comienza a explotar el entorno (O'Reilly, 2018). Esta política es muy  útil para modelos de actor crítico y q-learning, es por ello que se eligió.\n",
        "\n",
        "    - Sequential Memory: **50,000**\n",
        "\n",
        "    La memoria sequencial es usada por agentes DQN para guardar varios estados, acciones y recompensas, esto para generar el aprendizaje y aprender a generalizar. Se limitará al agente a poder guardar 50,000 estados con sus respectivas acciones y recompensas, ya que se ha encontrado es de lo más útil en la literatura de acuerdo a problemas de control como el cartpole. \n",
        "\n",
        "*   **Red neuronal:** \n",
        "\n",
        "Tomando el cuenta el problema que se intenta resolver desde la perspectiva de DRL, donde se quiere encontrar la política óptima con una función de valor Q a partir de un par estado-acción, en realidad lo que se tendrá que construir es una red neuronal que básicamente sea una regresión, donde la entrada será el estado (representado en un vector) y la salida serán los Q-valores para cada acción posible, por lo que se devolverá un output como un vector flotante con la misma cantidad de componentes como acciones posee el problema.\n",
        "\n",
        "Para lograr esto se implementará una red en Keras del tipo Sequential, ya que el problema requiere solo una pila de capas simples donde cada capa tiene exactamente un tensor de entrada y un tensor de salida. Además, la primera capa será del tipo flatten para convertir el estado actual de entrada en un vector unidimensional y luego se tendrán dos capas neuronales totalmente conectadas de 24 unidades y con función de activación ReLU. Su justificación parte de que el agente tiene que aprender una representación más compleja de los estados para poder predecir los valores Q y se debn usar almenos dos capas totalmente conectadas con funciones de activación no lineales para que funcione. En este caso se escogió la función ReLU por dos motivos: primero, dado los teoremas de aproximado universal se sabe que se puede aproximar cualquier función borel medible con una capa con ReLU y por otro lado las RL se entrenan por mucho tiempo y muchas iteraciones, por lo que otras funciones como la tanh y la sigmoide tendrán problemas al entrenar, pues se conoce que si se alejan mucho del 0 las derivadas se hacen tan pequeñas que hará el entrenamiento incluso más lento o incluso se puede perder lo aprendido. Además, la función relu tiene derivadas constantes, por lo que son la mejor opción en este caso, así como que no limita los números de la capa activada, en comparación de la tanh y la sigmoide que limitan los números de - 1 a 1 y 0 a 1, respectivamente. Es así que las salidas de estas capas ocultas servirán para regresión que se llevará a cabo en la capa de salida que tendrá una activación lineal. \n",
        "\n",
        "\n",
        "\n",
        "\n",
        "\n",
        "\n"
      ],
      "id": "ST5UpjA6WkF-"
    },
    {
      "cell_type": "markdown",
      "metadata": {
        "id": "a6d2fb60"
      },
      "source": [
        "## Implementación del modelo al problema"
      ],
      "id": "a6d2fb60"
    },
    {
      "cell_type": "markdown",
      "metadata": {
        "id": "94e20340"
      },
      "source": [
        "**Instalar dependencias** "
      ],
      "id": "94e20340"
    },
    {
      "cell_type": "code",
      "execution_count": null,
      "metadata": {
        "colab": {
          "base_uri": "https://localhost:8080/"
        },
        "id": "DdK5Tk-hCd4q",
        "outputId": "7dcda0cf-eabd-4eaa-8d60-f0970e7ca6cd"
      },
      "outputs": [
        {
          "output_type": "stream",
          "name": "stdout",
          "text": [
            "\r0% [Working]\r            \rGet:1 https://cloud.r-project.org/bin/linux/ubuntu bionic-cran40/ InRelease [3,626 B]\n",
            "\r0% [Connecting to archive.ubuntu.com (185.125.190.36)] [Connecting to security.\r0% [Connecting to archive.ubuntu.com (185.125.190.36)] [Connecting to security.\r0% [1 InRelease gpgv 3,626 B] [Connecting to archive.ubuntu.com (185.125.190.36\r                                                                               \rIgn:2 https://developer.download.nvidia.com/compute/machine-learning/repos/ubuntu1804/x86_64  InRelease\n",
            "\r0% [1 InRelease gpgv 3,626 B] [Connecting to archive.ubuntu.com (185.125.190.36\r                                                                               \rGet:3 http://security.ubuntu.com/ubuntu bionic-security InRelease [88.7 kB]\n",
            "Get:4 https://developer.download.nvidia.com/compute/cuda/repos/ubuntu1804/x86_64  InRelease [1,581 B]\n",
            "Hit:5 https://developer.download.nvidia.com/compute/machine-learning/repos/ubuntu1804/x86_64  Release\n",
            "Hit:6 http://ppa.launchpad.net/c2d4u.team/c2d4u4.0+/ubuntu bionic InRelease\n",
            "Hit:7 http://archive.ubuntu.com/ubuntu bionic InRelease\n",
            "Get:8 https://developer.download.nvidia.com/compute/cuda/repos/ubuntu1804/x86_64  Packages [1,073 kB]\n",
            "Get:10 http://archive.ubuntu.com/ubuntu bionic-updates InRelease [88.7 kB]\n",
            "Hit:11 http://ppa.launchpad.net/cran/libgit2/ubuntu bionic InRelease\n",
            "Get:12 http://security.ubuntu.com/ubuntu bionic-security/universe amd64 Packages [1,567 kB]\n",
            "Hit:13 http://ppa.launchpad.net/deadsnakes/ppa/ubuntu bionic InRelease\n",
            "Get:14 http://archive.ubuntu.com/ubuntu bionic-backports InRelease [83.3 kB]\n",
            "Hit:15 http://ppa.launchpad.net/graphics-drivers/ppa/ubuntu bionic InRelease\n",
            "Get:16 http://security.ubuntu.com/ubuntu bionic-security/restricted amd64 Packages [1,311 kB]\n",
            "Get:17 http://security.ubuntu.com/ubuntu bionic-security/main amd64 Packages [3,099 kB]\n",
            "Get:18 http://archive.ubuntu.com/ubuntu bionic-updates/universe amd64 Packages [2,342 kB]\n",
            "Get:19 http://archive.ubuntu.com/ubuntu bionic-updates/main amd64 Packages [3,524 kB]\n",
            "Get:20 http://archive.ubuntu.com/ubuntu bionic-updates/restricted amd64 Packages [1,352 kB]\n",
            "Fetched 14.5 MB in 2s (6,234 kB/s)\n",
            "Reading package lists... Done\n",
            "Reading package lists... Done\n",
            "Building dependency tree       \n",
            "Reading state information... Done\n",
            "The following package was automatically installed and is no longer required:\n",
            "  libnvidia-common-460\n",
            "Use 'sudo apt autoremove' to remove it.\n",
            "The following additional packages will be installed:\n",
            "  libpython3.9-minimal libpython3.9-stdlib python3.9-minimal\n",
            "Suggested packages:\n",
            "  python3.9-venv binfmt-support\n",
            "The following NEW packages will be installed:\n",
            "  libpython3.9-minimal libpython3.9-stdlib python3.9 python3.9-minimal\n",
            "0 upgraded, 4 newly installed, 0 to remove and 34 not upgraded.\n",
            "Need to get 4,920 kB of archives.\n",
            "After this operation, 19.1 MB of additional disk space will be used.\n",
            "Get:1 http://ppa.launchpad.net/deadsnakes/ppa/ubuntu bionic/main amd64 libpython3.9-minimal amd64 3.9.16-1+bionic1 [806 kB]\n",
            "Get:2 http://ppa.launchpad.net/deadsnakes/ppa/ubuntu bionic/main amd64 python3.9-minimal amd64 3.9.16-1+bionic1 [1,939 kB]\n",
            "Get:3 http://ppa.launchpad.net/deadsnakes/ppa/ubuntu bionic/main amd64 libpython3.9-stdlib amd64 3.9.16-1+bionic1 [1,681 kB]\n",
            "Get:4 http://ppa.launchpad.net/deadsnakes/ppa/ubuntu bionic/main amd64 python3.9 amd64 3.9.16-1+bionic1 [494 kB]\n",
            "Fetched 4,920 kB in 4s (1,100 kB/s)\n",
            "debconf: unable to initialize frontend: Dialog\n",
            "debconf: (No usable dialog-like program is installed, so the dialog based frontend cannot be used. at /usr/share/perl5/Debconf/FrontEnd/Dialog.pm line 76, <> line 4.)\n",
            "debconf: falling back to frontend: Readline\n",
            "debconf: unable to initialize frontend: Readline\n",
            "debconf: (This frontend requires a controlling tty.)\n",
            "debconf: falling back to frontend: Teletype\n",
            "dpkg-preconfigure: unable to re-open stdin: \n",
            "Selecting previously unselected package libpython3.9-minimal:amd64.\n",
            "(Reading database ... 124013 files and directories currently installed.)\n",
            "Preparing to unpack .../libpython3.9-minimal_3.9.16-1+bionic1_amd64.deb ...\n",
            "Unpacking libpython3.9-minimal:amd64 (3.9.16-1+bionic1) ...\n",
            "Selecting previously unselected package python3.9-minimal.\n",
            "Preparing to unpack .../python3.9-minimal_3.9.16-1+bionic1_amd64.deb ...\n",
            "Unpacking python3.9-minimal (3.9.16-1+bionic1) ...\n",
            "Selecting previously unselected package libpython3.9-stdlib:amd64.\n",
            "Preparing to unpack .../libpython3.9-stdlib_3.9.16-1+bionic1_amd64.deb ...\n",
            "Unpacking libpython3.9-stdlib:amd64 (3.9.16-1+bionic1) ...\n",
            "Selecting previously unselected package python3.9.\n",
            "Preparing to unpack .../python3.9_3.9.16-1+bionic1_amd64.deb ...\n",
            "Unpacking python3.9 (3.9.16-1+bionic1) ...\n",
            "Setting up libpython3.9-minimal:amd64 (3.9.16-1+bionic1) ...\n",
            "Setting up libpython3.9-stdlib:amd64 (3.9.16-1+bionic1) ...\n",
            "Setting up python3.9-minimal (3.9.16-1+bionic1) ...\n",
            "Setting up python3.9 (3.9.16-1+bionic1) ...\n",
            "Processing triggers for mime-support (3.60ubuntu1) ...\n",
            "Processing triggers for man-db (2.8.3-2ubuntu0.1) ...\n",
            "update-alternatives: error: alternative path /usr/bin/python3.7 doesn't exist\n",
            "Python 3.8.16\n"
          ]
        }
      ],
      "source": [
        "#Es necesario tener puthon mayor a 3.8.1 para usar OpenAI\n",
        "\n",
        "#install python 3.9\n",
        "!sudo apt-get update -y\n",
        "!sudo apt-get install python3.9\n",
        "\n",
        "#change alternatives\n",
        "!sudo update-alternatives --install /usr/bin/python3 python3 /usr/bin/python3.7 1\n",
        "!sudo update-alternatives --install /usr/bin/python3 python3 /usr/bin/python3.9 2\n",
        "\n",
        "#check python version\n",
        "!python --version\n",
        "#3.9.6"
      ],
      "id": "DdK5Tk-hCd4q"
    },
    {
      "cell_type": "code",
      "execution_count": null,
      "metadata": {
        "colab": {
          "base_uri": "https://localhost:8080/",
          "height": 1000
        },
        "id": "e3443f64",
        "outputId": "0e4fb4cf-7d71-4f15-bba8-6b6c70902da7"
      },
      "outputs": [
        {
          "output_type": "stream",
          "name": "stdout",
          "text": [
            "Looking in indexes: https://pypi.org/simple, https://us-python.pkg.dev/colab-wheels/public/simple/\n",
            "Collecting tensorflow==2.3.0\n",
            "  Downloading tensorflow-2.3.0-cp38-cp38-manylinux2010_x86_64.whl (320.5 MB)\n",
            "\u001b[K     |████████████████████████████████| 320.5 MB 1.5 kB/s \n",
            "\u001b[?25hRequirement already satisfied: astunparse==1.6.3 in /usr/local/lib/python3.8/dist-packages (from tensorflow==2.3.0) (1.6.3)\n",
            "Requirement already satisfied: google-pasta>=0.1.8 in /usr/local/lib/python3.8/dist-packages (from tensorflow==2.3.0) (0.2.0)\n",
            "Collecting scipy==1.4.1\n",
            "  Downloading scipy-1.4.1-cp38-cp38-manylinux1_x86_64.whl (26.0 MB)\n",
            "\u001b[K     |████████████████████████████████| 26.0 MB 1.2 MB/s \n",
            "\u001b[?25hRequirement already satisfied: protobuf>=3.9.2 in /usr/local/lib/python3.8/dist-packages (from tensorflow==2.3.0) (3.19.6)\n",
            "Requirement already satisfied: opt-einsum>=2.3.2 in /usr/local/lib/python3.8/dist-packages (from tensorflow==2.3.0) (3.3.0)\n",
            "Collecting tensorflow-estimator<2.4.0,>=2.3.0\n",
            "  Downloading tensorflow_estimator-2.3.0-py2.py3-none-any.whl (459 kB)\n",
            "\u001b[K     |████████████████████████████████| 459 kB 75.2 MB/s \n",
            "\u001b[?25hRequirement already satisfied: wrapt>=1.11.1 in /usr/local/lib/python3.8/dist-packages (from tensorflow==2.3.0) (1.14.1)\n",
            "Requirement already satisfied: six>=1.12.0 in /usr/local/lib/python3.8/dist-packages (from tensorflow==2.3.0) (1.15.0)\n",
            "Collecting h5py<2.11.0,>=2.10.0\n",
            "  Downloading h5py-2.10.0-cp38-cp38-manylinux1_x86_64.whl (2.9 MB)\n",
            "\u001b[K     |████████████████████████████████| 2.9 MB 75.4 MB/s \n",
            "\u001b[?25hRequirement already satisfied: tensorboard<3,>=2.3.0 in /usr/local/lib/python3.8/dist-packages (from tensorflow==2.3.0) (2.9.1)\n",
            "Collecting gast==0.3.3\n",
            "  Downloading gast-0.3.3-py2.py3-none-any.whl (9.7 kB)\n",
            "Requirement already satisfied: keras-preprocessing<1.2,>=1.1.1 in /usr/local/lib/python3.8/dist-packages (from tensorflow==2.3.0) (1.1.2)\n",
            "Collecting numpy<1.19.0,>=1.16.0\n",
            "  Downloading numpy-1.18.5-cp38-cp38-manylinux1_x86_64.whl (20.6 MB)\n",
            "\u001b[K     |████████████████████████████████| 20.6 MB 1.2 MB/s \n",
            "\u001b[?25hRequirement already satisfied: termcolor>=1.1.0 in /usr/local/lib/python3.8/dist-packages (from tensorflow==2.3.0) (2.1.1)\n",
            "Requirement already satisfied: wheel>=0.26 in /usr/local/lib/python3.8/dist-packages (from tensorflow==2.3.0) (0.38.4)\n",
            "Requirement already satisfied: grpcio>=1.8.6 in /usr/local/lib/python3.8/dist-packages (from tensorflow==2.3.0) (1.51.1)\n",
            "Requirement already satisfied: absl-py>=0.7.0 in /usr/local/lib/python3.8/dist-packages (from tensorflow==2.3.0) (1.3.0)\n",
            "Requirement already satisfied: google-auth-oauthlib<0.5,>=0.4.1 in /usr/local/lib/python3.8/dist-packages (from tensorboard<3,>=2.3.0->tensorflow==2.3.0) (0.4.6)\n",
            "Requirement already satisfied: requests<3,>=2.21.0 in /usr/local/lib/python3.8/dist-packages (from tensorboard<3,>=2.3.0->tensorflow==2.3.0) (2.23.0)\n",
            "Requirement already satisfied: setuptools>=41.0.0 in /usr/local/lib/python3.8/dist-packages (from tensorboard<3,>=2.3.0->tensorflow==2.3.0) (57.4.0)\n",
            "Requirement already satisfied: tensorboard-plugin-wit>=1.6.0 in /usr/local/lib/python3.8/dist-packages (from tensorboard<3,>=2.3.0->tensorflow==2.3.0) (1.8.1)\n",
            "Requirement already satisfied: werkzeug>=1.0.1 in /usr/local/lib/python3.8/dist-packages (from tensorboard<3,>=2.3.0->tensorflow==2.3.0) (1.0.1)\n",
            "Requirement already satisfied: google-auth<3,>=1.6.3 in /usr/local/lib/python3.8/dist-packages (from tensorboard<3,>=2.3.0->tensorflow==2.3.0) (2.15.0)\n",
            "Requirement already satisfied: markdown>=2.6.8 in /usr/local/lib/python3.8/dist-packages (from tensorboard<3,>=2.3.0->tensorflow==2.3.0) (3.4.1)\n",
            "Requirement already satisfied: tensorboard-data-server<0.7.0,>=0.6.0 in /usr/local/lib/python3.8/dist-packages (from tensorboard<3,>=2.3.0->tensorflow==2.3.0) (0.6.1)\n",
            "Requirement already satisfied: rsa<5,>=3.1.4 in /usr/local/lib/python3.8/dist-packages (from google-auth<3,>=1.6.3->tensorboard<3,>=2.3.0->tensorflow==2.3.0) (4.9)\n",
            "Requirement already satisfied: cachetools<6.0,>=2.0.0 in /usr/local/lib/python3.8/dist-packages (from google-auth<3,>=1.6.3->tensorboard<3,>=2.3.0->tensorflow==2.3.0) (5.2.0)\n",
            "Requirement already satisfied: pyasn1-modules>=0.2.1 in /usr/local/lib/python3.8/dist-packages (from google-auth<3,>=1.6.3->tensorboard<3,>=2.3.0->tensorflow==2.3.0) (0.2.8)\n",
            "Requirement already satisfied: requests-oauthlib>=0.7.0 in /usr/local/lib/python3.8/dist-packages (from google-auth-oauthlib<0.5,>=0.4.1->tensorboard<3,>=2.3.0->tensorflow==2.3.0) (1.3.1)\n",
            "Requirement already satisfied: importlib-metadata>=4.4 in /usr/local/lib/python3.8/dist-packages (from markdown>=2.6.8->tensorboard<3,>=2.3.0->tensorflow==2.3.0) (4.13.0)\n",
            "Requirement already satisfied: zipp>=0.5 in /usr/local/lib/python3.8/dist-packages (from importlib-metadata>=4.4->markdown>=2.6.8->tensorboard<3,>=2.3.0->tensorflow==2.3.0) (3.11.0)\n",
            "Requirement already satisfied: pyasn1<0.5.0,>=0.4.6 in /usr/local/lib/python3.8/dist-packages (from pyasn1-modules>=0.2.1->google-auth<3,>=1.6.3->tensorboard<3,>=2.3.0->tensorflow==2.3.0) (0.4.8)\n",
            "Requirement already satisfied: idna<3,>=2.5 in /usr/local/lib/python3.8/dist-packages (from requests<3,>=2.21.0->tensorboard<3,>=2.3.0->tensorflow==2.3.0) (2.10)\n",
            "Requirement already satisfied: chardet<4,>=3.0.2 in /usr/local/lib/python3.8/dist-packages (from requests<3,>=2.21.0->tensorboard<3,>=2.3.0->tensorflow==2.3.0) (3.0.4)\n",
            "Requirement already satisfied: certifi>=2017.4.17 in /usr/local/lib/python3.8/dist-packages (from requests<3,>=2.21.0->tensorboard<3,>=2.3.0->tensorflow==2.3.0) (2022.9.24)\n",
            "Requirement already satisfied: urllib3!=1.25.0,!=1.25.1,<1.26,>=1.21.1 in /usr/local/lib/python3.8/dist-packages (from requests<3,>=2.21.0->tensorboard<3,>=2.3.0->tensorflow==2.3.0) (1.24.3)\n",
            "Requirement already satisfied: oauthlib>=3.0.0 in /usr/local/lib/python3.8/dist-packages (from requests-oauthlib>=0.7.0->google-auth-oauthlib<0.5,>=0.4.1->tensorboard<3,>=2.3.0->tensorflow==2.3.0) (3.2.2)\n",
            "Installing collected packages: numpy, tensorflow-estimator, scipy, h5py, gast, tensorflow\n",
            "  Attempting uninstall: numpy\n",
            "    Found existing installation: numpy 1.21.6\n",
            "    Uninstalling numpy-1.21.6:\n",
            "      Successfully uninstalled numpy-1.21.6\n",
            "  Attempting uninstall: tensorflow-estimator\n",
            "    Found existing installation: tensorflow-estimator 2.9.0\n",
            "    Uninstalling tensorflow-estimator-2.9.0:\n",
            "      Successfully uninstalled tensorflow-estimator-2.9.0\n",
            "  Attempting uninstall: scipy\n",
            "    Found existing installation: scipy 1.7.3\n",
            "    Uninstalling scipy-1.7.3:\n",
            "      Successfully uninstalled scipy-1.7.3\n",
            "  Attempting uninstall: h5py\n",
            "    Found existing installation: h5py 3.1.0\n",
            "    Uninstalling h5py-3.1.0:\n",
            "      Successfully uninstalled h5py-3.1.0\n",
            "  Attempting uninstall: gast\n",
            "    Found existing installation: gast 0.4.0\n",
            "    Uninstalling gast-0.4.0:\n",
            "      Successfully uninstalled gast-0.4.0\n",
            "  Attempting uninstall: tensorflow\n",
            "    Found existing installation: tensorflow 2.9.2\n",
            "    Uninstalling tensorflow-2.9.2:\n",
            "      Successfully uninstalled tensorflow-2.9.2\n",
            "\u001b[31mERROR: pip's dependency resolver does not currently take into account all the packages that are installed. This behaviour is the source of the following dependency conflicts.\n",
            "xarray-einstats 0.3.0 requires numpy>=1.19, but you have numpy 1.18.5 which is incompatible.\n",
            "xarray-einstats 0.3.0 requires scipy>=1.5, but you have scipy 1.4.1 which is incompatible.\n",
            "tifffile 2022.10.10 requires numpy>=1.19.2, but you have numpy 1.18.5 which is incompatible.\n",
            "tables 3.7.0 requires numpy>=1.19.0, but you have numpy 1.18.5 which is incompatible.\n",
            "plotnine 0.8.0 requires numpy>=1.19.0, but you have numpy 1.18.5 which is incompatible.\n",
            "plotnine 0.8.0 requires scipy>=1.5.0, but you have scipy 1.4.1 which is incompatible.\n",
            "jaxlib 0.3.25+cuda11.cudnn805 requires numpy>=1.20, but you have numpy 1.18.5 which is incompatible.\n",
            "jaxlib 0.3.25+cuda11.cudnn805 requires scipy>=1.5, but you have scipy 1.4.1 which is incompatible.\n",
            "jax 0.3.25 requires numpy>=1.20, but you have numpy 1.18.5 which is incompatible.\n",
            "jax 0.3.25 requires scipy>=1.5, but you have scipy 1.4.1 which is incompatible.\n",
            "cupy-cuda11x 11.0.0 requires numpy<1.26,>=1.20, but you have numpy 1.18.5 which is incompatible.\n",
            "cmdstanpy 1.0.8 requires numpy>=1.21, but you have numpy 1.18.5 which is incompatible.\u001b[0m\n",
            "Successfully installed gast-0.3.3 h5py-2.10.0 numpy-1.18.5 scipy-1.4.1 tensorflow-2.3.0 tensorflow-estimator-2.3.0\n"
          ]
        },
        {
          "output_type": "display_data",
          "data": {
            "application/vnd.colab-display-data+json": {
              "pip_warning": {
                "packages": [
                  "numpy"
                ]
              }
            }
          },
          "metadata": {}
        },
        {
          "output_type": "stream",
          "name": "stdout",
          "text": [
            "Looking in indexes: https://pypi.org/simple, https://us-python.pkg.dev/colab-wheels/public/simple/\n",
            "Requirement already satisfied: gym[classic_control] in /usr/local/lib/python3.8/dist-packages (0.25.2)\n",
            "Requirement already satisfied: cloudpickle>=1.2.0 in /usr/local/lib/python3.8/dist-packages (from gym[classic_control]) (1.5.0)\n",
            "Requirement already satisfied: gym-notices>=0.0.4 in /usr/local/lib/python3.8/dist-packages (from gym[classic_control]) (0.0.8)\n",
            "Requirement already satisfied: numpy>=1.18.0 in /usr/local/lib/python3.8/dist-packages (from gym[classic_control]) (1.18.5)\n",
            "Requirement already satisfied: importlib-metadata>=4.8.0 in /usr/local/lib/python3.8/dist-packages (from gym[classic_control]) (4.13.0)\n",
            "Collecting pygame==2.1.0\n",
            "  Downloading pygame-2.1.0-cp38-cp38-manylinux_2_17_x86_64.manylinux2014_x86_64.whl (18.3 MB)\n",
            "\u001b[K     |████████████████████████████████| 18.3 MB 7.3 MB/s \n",
            "\u001b[?25hRequirement already satisfied: zipp>=0.5 in /usr/local/lib/python3.8/dist-packages (from importlib-metadata>=4.8.0->gym[classic_control]) (3.11.0)\n",
            "Installing collected packages: pygame\n",
            "Successfully installed pygame-2.1.0\n",
            "Looking in indexes: https://pypi.org/simple, https://us-python.pkg.dev/colab-wheels/public/simple/\n",
            "Requirement already satisfied: keras in /usr/local/lib/python3.8/dist-packages (2.9.0)\n",
            "Looking in indexes: https://pypi.org/simple, https://us-python.pkg.dev/colab-wheels/public/simple/\n",
            "Collecting keras-rl2\n",
            "  Downloading keras_rl2-1.0.5-py3-none-any.whl (52 kB)\n",
            "\u001b[K     |████████████████████████████████| 52 kB 836 kB/s \n",
            "\u001b[?25hRequirement already satisfied: tensorflow in /usr/local/lib/python3.8/dist-packages (from keras-rl2) (2.3.0)\n",
            "Requirement already satisfied: gast==0.3.3 in /usr/local/lib/python3.8/dist-packages (from tensorflow->keras-rl2) (0.3.3)\n",
            "Requirement already satisfied: scipy==1.4.1 in /usr/local/lib/python3.8/dist-packages (from tensorflow->keras-rl2) (1.4.1)\n",
            "Requirement already satisfied: absl-py>=0.7.0 in /usr/local/lib/python3.8/dist-packages (from tensorflow->keras-rl2) (1.3.0)\n",
            "Requirement already satisfied: termcolor>=1.1.0 in /usr/local/lib/python3.8/dist-packages (from tensorflow->keras-rl2) (2.1.1)\n",
            "Requirement already satisfied: six>=1.12.0 in /usr/local/lib/python3.8/dist-packages (from tensorflow->keras-rl2) (1.15.0)\n",
            "Requirement already satisfied: astunparse==1.6.3 in /usr/local/lib/python3.8/dist-packages (from tensorflow->keras-rl2) (1.6.3)\n",
            "Requirement already satisfied: h5py<2.11.0,>=2.10.0 in /usr/local/lib/python3.8/dist-packages (from tensorflow->keras-rl2) (2.10.0)\n",
            "Requirement already satisfied: keras-preprocessing<1.2,>=1.1.1 in /usr/local/lib/python3.8/dist-packages (from tensorflow->keras-rl2) (1.1.2)\n",
            "Requirement already satisfied: protobuf>=3.9.2 in /usr/local/lib/python3.8/dist-packages (from tensorflow->keras-rl2) (3.19.6)\n",
            "Requirement already satisfied: wheel>=0.26 in /usr/local/lib/python3.8/dist-packages (from tensorflow->keras-rl2) (0.38.4)\n",
            "Requirement already satisfied: tensorflow-estimator<2.4.0,>=2.3.0 in /usr/local/lib/python3.8/dist-packages (from tensorflow->keras-rl2) (2.3.0)\n",
            "Requirement already satisfied: grpcio>=1.8.6 in /usr/local/lib/python3.8/dist-packages (from tensorflow->keras-rl2) (1.51.1)\n",
            "Requirement already satisfied: google-pasta>=0.1.8 in /usr/local/lib/python3.8/dist-packages (from tensorflow->keras-rl2) (0.2.0)\n",
            "Requirement already satisfied: opt-einsum>=2.3.2 in /usr/local/lib/python3.8/dist-packages (from tensorflow->keras-rl2) (3.3.0)\n",
            "Requirement already satisfied: numpy<1.19.0,>=1.16.0 in /usr/local/lib/python3.8/dist-packages (from tensorflow->keras-rl2) (1.18.5)\n",
            "Requirement already satisfied: wrapt>=1.11.1 in /usr/local/lib/python3.8/dist-packages (from tensorflow->keras-rl2) (1.14.1)\n",
            "Requirement already satisfied: tensorboard<3,>=2.3.0 in /usr/local/lib/python3.8/dist-packages (from tensorflow->keras-rl2) (2.9.1)\n",
            "Requirement already satisfied: markdown>=2.6.8 in /usr/local/lib/python3.8/dist-packages (from tensorboard<3,>=2.3.0->tensorflow->keras-rl2) (3.4.1)\n",
            "Requirement already satisfied: setuptools>=41.0.0 in /usr/local/lib/python3.8/dist-packages (from tensorboard<3,>=2.3.0->tensorflow->keras-rl2) (57.4.0)\n",
            "Requirement already satisfied: requests<3,>=2.21.0 in /usr/local/lib/python3.8/dist-packages (from tensorboard<3,>=2.3.0->tensorflow->keras-rl2) (2.23.0)\n",
            "Requirement already satisfied: tensorboard-data-server<0.7.0,>=0.6.0 in /usr/local/lib/python3.8/dist-packages (from tensorboard<3,>=2.3.0->tensorflow->keras-rl2) (0.6.1)\n",
            "Requirement already satisfied: werkzeug>=1.0.1 in /usr/local/lib/python3.8/dist-packages (from tensorboard<3,>=2.3.0->tensorflow->keras-rl2) (1.0.1)\n",
            "Requirement already satisfied: google-auth-oauthlib<0.5,>=0.4.1 in /usr/local/lib/python3.8/dist-packages (from tensorboard<3,>=2.3.0->tensorflow->keras-rl2) (0.4.6)\n",
            "Requirement already satisfied: tensorboard-plugin-wit>=1.6.0 in /usr/local/lib/python3.8/dist-packages (from tensorboard<3,>=2.3.0->tensorflow->keras-rl2) (1.8.1)\n",
            "Requirement already satisfied: google-auth<3,>=1.6.3 in /usr/local/lib/python3.8/dist-packages (from tensorboard<3,>=2.3.0->tensorflow->keras-rl2) (2.15.0)\n",
            "Requirement already satisfied: cachetools<6.0,>=2.0.0 in /usr/local/lib/python3.8/dist-packages (from google-auth<3,>=1.6.3->tensorboard<3,>=2.3.0->tensorflow->keras-rl2) (5.2.0)\n",
            "Requirement already satisfied: rsa<5,>=3.1.4 in /usr/local/lib/python3.8/dist-packages (from google-auth<3,>=1.6.3->tensorboard<3,>=2.3.0->tensorflow->keras-rl2) (4.9)\n",
            "Requirement already satisfied: pyasn1-modules>=0.2.1 in /usr/local/lib/python3.8/dist-packages (from google-auth<3,>=1.6.3->tensorboard<3,>=2.3.0->tensorflow->keras-rl2) (0.2.8)\n",
            "Requirement already satisfied: requests-oauthlib>=0.7.0 in /usr/local/lib/python3.8/dist-packages (from google-auth-oauthlib<0.5,>=0.4.1->tensorboard<3,>=2.3.0->tensorflow->keras-rl2) (1.3.1)\n",
            "Requirement already satisfied: importlib-metadata>=4.4 in /usr/local/lib/python3.8/dist-packages (from markdown>=2.6.8->tensorboard<3,>=2.3.0->tensorflow->keras-rl2) (4.13.0)\n",
            "Requirement already satisfied: zipp>=0.5 in /usr/local/lib/python3.8/dist-packages (from importlib-metadata>=4.4->markdown>=2.6.8->tensorboard<3,>=2.3.0->tensorflow->keras-rl2) (3.11.0)\n",
            "Requirement already satisfied: pyasn1<0.5.0,>=0.4.6 in /usr/local/lib/python3.8/dist-packages (from pyasn1-modules>=0.2.1->google-auth<3,>=1.6.3->tensorboard<3,>=2.3.0->tensorflow->keras-rl2) (0.4.8)\n",
            "Requirement already satisfied: idna<3,>=2.5 in /usr/local/lib/python3.8/dist-packages (from requests<3,>=2.21.0->tensorboard<3,>=2.3.0->tensorflow->keras-rl2) (2.10)\n",
            "Requirement already satisfied: chardet<4,>=3.0.2 in /usr/local/lib/python3.8/dist-packages (from requests<3,>=2.21.0->tensorboard<3,>=2.3.0->tensorflow->keras-rl2) (3.0.4)\n",
            "Requirement already satisfied: urllib3!=1.25.0,!=1.25.1,<1.26,>=1.21.1 in /usr/local/lib/python3.8/dist-packages (from requests<3,>=2.21.0->tensorboard<3,>=2.3.0->tensorflow->keras-rl2) (1.24.3)\n",
            "Requirement already satisfied: certifi>=2017.4.17 in /usr/local/lib/python3.8/dist-packages (from requests<3,>=2.21.0->tensorboard<3,>=2.3.0->tensorflow->keras-rl2) (2022.9.24)\n",
            "Requirement already satisfied: oauthlib>=3.0.0 in /usr/local/lib/python3.8/dist-packages (from requests-oauthlib>=0.7.0->google-auth-oauthlib<0.5,>=0.4.1->tensorboard<3,>=2.3.0->tensorflow->keras-rl2) (3.2.2)\n",
            "Installing collected packages: keras-rl2\n",
            "Successfully installed keras-rl2-1.0.5\n"
          ]
        }
      ],
      "source": [
        "!pip install tensorflow==2.3.0\n",
        "!pip install gym[classic_control]\n",
        "!pip install keras\n",
        "!pip install keras-rl2"
      ],
      "id": "e3443f64"
    },
    {
      "cell_type": "markdown",
      "metadata": {
        "id": "ISY59DsuZKPr"
      },
      "source": [
        "Las siguientes librerias son instaladas sólo para poder visualizar en Colab al agente interactuando en el ambiente debido a que en Colab no posee un display, por lo tanto en vez de \"presentar\" el entorno y al agente, se \"grabarán\" las acciones y luego se creará un video con los frames obtenidos. Esto se hará sólo para la parte aleatoria (para entender mejor en qué consiste el problema y cómo se desempeña el agente con acciones aleatorias), ya que si se hace en el entrenamiento consumiría mucho más tiempo."
      ],
      "id": "ISY59DsuZKPr"
    },
    {
      "cell_type": "code",
      "execution_count": null,
      "metadata": {
        "colab": {
          "base_uri": "https://localhost:8080/"
        },
        "id": "bVx20JlOY-p3",
        "outputId": "4a120971-80f4-495c-bec6-1f10f142bbad"
      },
      "outputs": [
        {
          "output_type": "stream",
          "name": "stdout",
          "text": [
            "Reading package lists... Done\n",
            "Building dependency tree       \n",
            "Reading state information... Done\n",
            "The following package was automatically installed and is no longer required:\n",
            "  libnvidia-common-460\n",
            "Use 'apt autoremove' to remove it.\n",
            "The following additional packages will be installed:\n",
            "  libxxf86dga1\n",
            "Suggested packages:\n",
            "  mesa-utils\n",
            "The following NEW packages will be installed:\n",
            "  libxxf86dga1 x11-utils xvfb\n",
            "0 upgraded, 3 newly installed, 0 to remove and 34 not upgraded.\n",
            "Need to get 994 kB of archives.\n",
            "After this operation, 2,982 kB of additional disk space will be used.\n",
            "Get:1 http://archive.ubuntu.com/ubuntu bionic/main amd64 libxxf86dga1 amd64 2:1.1.4-1 [13.7 kB]\n",
            "Get:2 http://archive.ubuntu.com/ubuntu bionic/main amd64 x11-utils amd64 7.7+3build1 [196 kB]\n",
            "Get:3 http://archive.ubuntu.com/ubuntu bionic-updates/universe amd64 xvfb amd64 2:1.19.6-1ubuntu4.12 [785 kB]\n",
            "Fetched 994 kB in 1s (852 kB/s)\n",
            "Selecting previously unselected package libxxf86dga1:amd64.\n",
            "(Reading database ... 124652 files and directories currently installed.)\n",
            "Preparing to unpack .../libxxf86dga1_2%3a1.1.4-1_amd64.deb ...\n",
            "Unpacking libxxf86dga1:amd64 (2:1.1.4-1) ...\n",
            "Selecting previously unselected package x11-utils.\n",
            "Preparing to unpack .../x11-utils_7.7+3build1_amd64.deb ...\n",
            "Unpacking x11-utils (7.7+3build1) ...\n",
            "Selecting previously unselected package xvfb.\n",
            "Preparing to unpack .../xvfb_2%3a1.19.6-1ubuntu4.12_amd64.deb ...\n",
            "Unpacking xvfb (2:1.19.6-1ubuntu4.12) ...\n",
            "Setting up xvfb (2:1.19.6-1ubuntu4.12) ...\n",
            "Setting up libxxf86dga1:amd64 (2:1.1.4-1) ...\n",
            "Setting up x11-utils (7.7+3build1) ...\n",
            "Processing triggers for man-db (2.8.3-2ubuntu0.1) ...\n",
            "Processing triggers for libc-bin (2.27-3ubuntu1.6) ...\n",
            "Looking in indexes: https://pypi.org/simple, https://us-python.pkg.dev/colab-wheels/public/simple/\n",
            "Collecting pyvirtualdisplay==0.2.*\n",
            "  Downloading PyVirtualDisplay-0.2.5-py2.py3-none-any.whl (13 kB)\n",
            "Collecting EasyProcess\n",
            "  Downloading EasyProcess-1.1-py3-none-any.whl (8.7 kB)\n",
            "Installing collected packages: EasyProcess, pyvirtualdisplay\n",
            "Successfully installed EasyProcess-1.1 pyvirtualdisplay-0.2.5\n",
            "Looking in indexes: https://pypi.org/simple, https://us-python.pkg.dev/colab-wheels/public/simple/\n",
            "Requirement already satisfied: PyOpenGL==3.1.* in /usr/local/lib/python3.8/dist-packages (3.1.6)\n",
            "Looking in indexes: https://pypi.org/simple, https://us-python.pkg.dev/colab-wheels/public/simple/\n",
            "Collecting PyOpenGL-accelerate==3.1.*\n",
            "  Downloading PyOpenGL-accelerate-3.1.5.tar.gz (538 kB)\n",
            "\u001b[K     |████████████████████████████████| 538 kB 6.0 MB/s \n",
            "\u001b[?25hBuilding wheels for collected packages: PyOpenGL-accelerate\n",
            "  Building wheel for PyOpenGL-accelerate (setup.py) ... \u001b[?25l\u001b[?25hdone\n",
            "  Created wheel for PyOpenGL-accelerate: filename=PyOpenGL_accelerate-3.1.5-cp38-cp38-linux_x86_64.whl size=1876819 sha256=2c9d213978f2f75f9135c14c812700b76f6258ae3206fd0ca60185584ea5ccec\n",
            "  Stored in directory: /root/.cache/pip/wheels/78/c1/00/02b87e2b442a92cfa76c4650476396a245dc7e1bcbfc010ae2\n",
            "Successfully built PyOpenGL-accelerate\n",
            "Installing collected packages: PyOpenGL-accelerate\n",
            "Successfully installed PyOpenGL-accelerate-3.1.5\n"
          ]
        }
      ],
      "source": [
        "# dependencias del sistema\n",
        "!apt-get install -y xvfb x11-utils\n",
        "# dependencias de Open AI y de Python\n",
        "!pip install pyvirtualdisplay==0.2.* \n",
        "!pip install PyOpenGL==3.1.* \n",
        "!pip install PyOpenGL-accelerate==3.1.*"
      ],
      "id": "bVx20JlOY-p3"
    },
    {
      "cell_type": "markdown",
      "metadata": {
        "id": "bYOve8OwojES"
      },
      "source": [
        "Importación de algunas de las librerías que se usarán más adelante"
      ],
      "id": "bYOve8OwojES"
    },
    {
      "cell_type": "code",
      "execution_count": null,
      "metadata": {
        "id": "b5CxuXYxfsj4"
      },
      "outputs": [],
      "source": [
        "#librerías para la visualización de agente en su entorno \n",
        "\n",
        "import pyvirtualdisplay\n",
        "import gym\n",
        "import matplotlib.pyplot as plt\n",
        "from IPython import display\n",
        "from matplotlib.pyplot import figure"
      ],
      "id": "b5CxuXYxfsj4"
    },
    {
      "cell_type": "code",
      "execution_count": null,
      "metadata": {
        "id": "6864c809"
      },
      "outputs": [],
      "source": [
        "#librerías para usar el entorno de OpenAI\n",
        "\n",
        "import gym  #para más adelante definir el ambiente donde entrenará el agente\n",
        "import random #para poder tener steps aleatorios y probar el entorno"
      ],
      "id": "6864c809"
    },
    {
      "cell_type": "markdown",
      "metadata": {
        "id": "df1b94ba"
      },
      "source": [
        "**Creación del enterno de entrenamiento con OpenAI**"
      ],
      "id": "df1b94ba"
    },
    {
      "cell_type": "code",
      "execution_count": null,
      "metadata": {
        "colab": {
          "base_uri": "https://localhost:8080/"
        },
        "id": "227e3e1c",
        "outputId": "393ea5d7-3ccf-4a5a-fac9-7b097c832cb5"
      },
      "outputs": [
        {
          "output_type": "stream",
          "name": "stderr",
          "text": [
            "/usr/local/lib/python3.8/dist-packages/gym/envs/registration.py:593: UserWarning: \u001b[33mWARN: The environment CartPole-v0 is out of date. You should consider upgrading to version `v1`.\u001b[0m\n",
            "  logger.warn(\n",
            "/usr/local/lib/python3.8/dist-packages/gym/core.py:317: DeprecationWarning: \u001b[33mWARN: Initializing wrapper in old step API which returns one bool instead of two. It is recommended to set `new_step_api=True` to use new step API. This will be the default behaviour in future.\u001b[0m\n",
            "  deprecation(\n",
            "/usr/local/lib/python3.8/dist-packages/gym/wrappers/step_api_compatibility.py:39: DeprecationWarning: \u001b[33mWARN: Initializing environment in old step API which returns one bool instead of two. It is recommended to set `new_step_api=True` to use new step API. This will be the default behaviour in future.\u001b[0m\n",
            "  deprecation(\n"
          ]
        }
      ],
      "source": [
        "env = gym.make(\"CartPole-v0\")          #creación del ambiente a partir del gimnasio de entrenamiento ------ de OpenAI\n",
        "states = env.observation_space.shape[0] # extraer los estados del ambiente\n",
        "actions = env.action_space.n            #extraer las acciones posibles en el ambiente"
      ],
      "id": "227e3e1c"
    },
    {
      "cell_type": "code",
      "execution_count": null,
      "metadata": {
        "colab": {
          "base_uri": "https://localhost:8080/"
        },
        "id": "e06379bf",
        "outputId": "0f751b54-1a18-4451-a8c2-4005747e46ea"
      },
      "outputs": [
        {
          "name": "stdout",
          "output_type": "stream",
          "text": [
            "2\n"
          ]
        }
      ],
      "source": [
        "print(actions) #número de acciones posibles"
      ],
      "id": "e06379bf"
    },
    {
      "cell_type": "code",
      "execution_count": null,
      "metadata": {
        "colab": {
          "base_uri": "https://localhost:8080/"
        },
        "id": "497c7905",
        "outputId": "b0b3a596-7d0e-4556-cea8-5105b4ad937c"
      },
      "outputs": [
        {
          "data": {
            "text/plain": [
              "4"
            ]
          },
          "execution_count": 8,
          "metadata": {},
          "output_type": "execute_result"
        }
      ],
      "source": [
        "states #entradas del vector de estado"
      ],
      "id": "497c7905"
    },
    {
      "cell_type": "markdown",
      "metadata": {
        "id": "541e7016"
      },
      "source": [
        "**Prueba del entorno de entrenamiento con acciones aleatorias**"
      ],
      "id": "541e7016"
    },
    {
      "cell_type": "markdown",
      "metadata": {
        "id": "Dh9D6OSuZ_hm"
      },
      "source": [
        "Visualizaremos el ambiente, primero crearemos los frames y luego veremos la animación generada por ellos"
      ],
      "id": "Dh9D6OSuZ_hm"
    },
    {
      "cell_type": "code",
      "execution_count": null,
      "metadata": {
        "colab": {
          "base_uri": "https://localhost:8080/"
        },
        "id": "otyiViltZ9Yh",
        "outputId": "2332e664-8ec4-48e5-e2a1-bd25b5ce397a"
      },
      "outputs": [
        {
          "output_type": "stream",
          "name": "stderr",
          "text": [
            "/usr/local/lib/python3.8/dist-packages/gym/core.py:43: DeprecationWarning: \u001b[33mWARN: The argument mode in render method is deprecated; use render_mode during environment initialization instead.\n",
            "See here for more information: https://www.gymlibrary.ml/content/api/\u001b[0m\n",
            "  deprecation(\n"
          ]
        },
        {
          "output_type": "stream",
          "name": "stdout",
          "text": [
            "Episode:1 Score:11.0\n",
            "Episode:2 Score:41.0\n",
            "Episode:3 Score:28.0\n",
            "Episode:4 Score:25.0\n",
            "Episode:5 Score:17.0\n",
            "Episode:6 Score:20.0\n",
            "Episode:7 Score:21.0\n",
            "Episode:8 Score:11.0\n",
            "Episode:9 Score:16.0\n",
            "Episode:10 Score:39.0\n",
            "Episode:11 Score:14.0\n",
            "Episode:12 Score:35.0\n",
            "Episode:13 Score:20.0\n",
            "Episode:14 Score:42.0\n",
            "Episode:15 Score:13.0\n",
            "Episode:16 Score:25.0\n",
            "Episode:17 Score:15.0\n",
            "Episode:18 Score:33.0\n",
            "Episode:19 Score:12.0\n",
            "Episode:20 Score:19.0\n"
          ]
        }
      ],
      "source": [
        "#Prueba del entorno con acciones aleatorias\n",
        "\n",
        "#Se usarán estas iteraciones para visualizar al agente en su entorno más adelante\n",
        "\n",
        "frames = []                # aqui se almacenarán todas las imagenes de cada paso de la ejecucion...\n",
        "episodes = 20              # número de episodios en los que se iterará\n",
        "\n",
        "for episode in range(1, episodes+1):\n",
        "    \n",
        "    state = env.reset()    #se resetea el entorno en cada episodio\n",
        "    done = False\n",
        "    score = 0 \n",
        "\n",
        "    while not done:         #mientras no se termine el juego(ganando o perdiendo) ejecutar todo lo siguiente\n",
        "\n",
        "      action = random.choice([0,1])                       # tome una accion aleatoria de las 2 posibles\n",
        "      observation, reward, done, info = env.step(action)  # se ejecuta la acción en el ambiente y se obtienen varios resultados: nuevo estado, recompensa, si terminó o no el juego, y otros datos. \n",
        "      score+=reward                                     # se suma la recompensa (calcular recompensa acumulada)     \n",
        "\n",
        "\n",
        "      #Para guardar los frames de cada acción del agente y después desplegarlos en un video\n",
        "      frame_save = env.render(mode='rgb_array')\n",
        "      frames.append(frame_save)\n",
        "\n",
        "\n",
        "    print('Episode:{} Score:{}'.format(episode, score))  #imprimir la recompensa acumulada de cada episodio de entrenamiento\n",
        "\n"
      ],
      "id": "otyiViltZ9Yh"
    },
    {
      "cell_type": "code",
      "execution_count": null,
      "metadata": {
        "colab": {
          "base_uri": "https://localhost:8080/",
          "height": 327
        },
        "id": "bZtA4Lyxf__w",
        "outputId": "6a054dfc-9931-49d1-a748-dc2d10dad7a1"
      },
      "outputs": [
        {
          "output_type": "execute_result",
          "data": {
            "text/plain": [
              "<IPython.core.display.HTML object>"
            ],
            "text/html": [
              "<video width=\"432\" height=\"288\" controls autoplay>\n",
              "  <source type=\"video/mp4\" src=\"data:video/mp4;base64,AAAAHGZ0eXBNNFYgAAACAGlzb21pc28yYXZjMQAAAAhmcmVlAACAeW1kYXQAAAKuBgX//6rcRem9\n",
              "5tlIt5Ys2CDZI+7veDI2NCAtIGNvcmUgMTUyIHIyODU0IGU5YTU5MDMgLSBILjI2NC9NUEVHLTQg\n",
              "QVZDIGNvZGVjIC0gQ29weWxlZnQgMjAwMy0yMDE3IC0gaHR0cDovL3d3dy52aWRlb2xhbi5vcmcv\n",
              "eDI2NC5odG1sIC0gb3B0aW9uczogY2FiYWM9MSByZWY9MyBkZWJsb2NrPTE6MDowIGFuYWx5c2U9\n",
              "MHgzOjB4MTEzIG1lPWhleCBzdWJtZT03IHBzeT0xIHBzeV9yZD0xLjAwOjAuMDAgbWl4ZWRfcmVm\n",
              "PTEgbWVfcmFuZ2U9MTYgY2hyb21hX21lPTEgdHJlbGxpcz0xIDh4OGRjdD0xIGNxbT0wIGRlYWR6\n",
              "b25lPTIxLDExIGZhc3RfcHNraXA9MSBjaHJvbWFfcXBfb2Zmc2V0PS0yIHRocmVhZHM9MyBsb29r\n",
              "YWhlYWRfdGhyZWFkcz0xIHNsaWNlZF90aHJlYWRzPTAgbnI9MCBkZWNpbWF0ZT0xIGludGVybGFj\n",
              "ZWQ9MCBibHVyYXlfY29tcGF0PTAgY29uc3RyYWluZWRfaW50cmE9MCBiZnJhbWVzPTMgYl9weXJh\n",
              "bWlkPTIgYl9hZGFwdD0xIGJfYmlhcz0wIGRpcmVjdD0xIHdlaWdodGI9MSBvcGVuX2dvcD0wIHdl\n",
              "aWdodHA9MiBrZXlpbnQ9MjUwIGtleWludF9taW49MjUgc2NlbmVjdXQ9NDAgaW50cmFfcmVmcmVz\n",
              "aD0wIHJjX2xvb2thaGVhZD00MCByYz1jcmYgbWJ0cmVlPTEgY3JmPTIzLjAgcWNvbXA9MC42MCBx\n",
              "cG1pbj0wIHFwbWF4PTY5IHFwc3RlcD00IGlwX3JhdGlvPTEuNDAgYXE9MToxLjAwAIAAAAFuZYiE\n",
              "ADv//vdOvwKbRZdqA5JXCvbKpCZZuVJrAfKmAAADAAARsG58lw15q9IkAACtgAI4M4+FsvXj/BaP\n",
              "vID3KgHmm0r7E5fTjPWfUXItCodYMnB4bOqQDLDfURe3TYmOpnYmNbtxL52a8B2Mz/5C9LkTvRop\n",
              "lo6AEICbCs7tuPtZrhzxZ/X2FOQYPyIEE22DSdwXRJrMJW/GfT47odPiDQl8eEaX3OAK+pMmd9Fa\n",
              "rzeBhKsyfGgNNEgD/ES+PFFWB8C9s0idgS8PjmXAQLJPVZylPc94O1MCjFqIbH52uOOxf6pln8oP\n",
              "qMLG1y0vjHI/LuvM4+HHvW/JCuHAl/JSa1YDsd0DSkf0Yo7dw+yvgfu2FRwDZsWl7LhYspvYNHr8\n",
              "D/QWx2XjJ6O4kNGCTD3dbkQKhCi2ebjsGhTC1T6n7dz/y9vtFqFzPVeUHeRYGy2wNloZDCXyPoS4\n",
              "mA/hdVdmeYOEvgDH4DdgGKAAAAa1AAAApUGaJGxDv/6plgAFb9xKRCZlABdBIzJRoPiXGV/JDwar\n",
              "kHH9/9IxKJkLvu9u0IDeV3bipgSI3QASzI1uEO8RzTPv7kHBRQLSfNh4gVyQT0epoIZ7rV4eEF14\n",
              "uLT+jHD5PT0V5/53R82QHfZB3lrBElF6T/eoVRXGIAijRGEkrt3a1hNkZa9ztYoHwk8Gxl9w6gSc\n",
              "16W4DOllSfhtK6U7CgvDKv0deAAAACZBnkJ4hf8AAyOFVavjuWQLDtlWR3yLsT0Ab3+35W7BvAdT\n",
              "vkQTCQAAABgBnmF0Qr8ABFfBkQKs0J6Cm6OXEZaN2voAAAAhAZ5jakK/AARVICYYgqN6O+e19sYL\n",
              "1KhKnAeQFmKjmg3XAAAA50GaaEmoQWiZTAh3//6plgAFd+BQlb3nNqH12O0Caeb4KwbD8g1mRcer\n",
              "y9mTd9F8UknPJ//U0h0bapsAhJIIOZZs62pZ6UrU9QQlBXd9HxM8RMAF8u5Eebj3Om7M0iiRleL5\n",
              "PVOJKPV7cJGsbvDQYdFuKazkNysz51JUz6DIf5EnMAbx6Aif8EBklVcoUpTx9e/41pq+o4VSaTdu\n",
              "qQJAfeBefRqLt0q0HIHhsE/XKqX95F9Syj1CAV9ynXZ/A45FZGRjri1nTOJwQo5yumiWzef1wuSf\n",
              "G2JBfumn5D0/z7NUB+ookfL6mQAAAD9BnoZFESwv/wADN1fZq/hzS+mbYApn4mCZNTxAx9rFwvA0\n",
              "6L3MayWfSXxrsHWysPiQKPho41I4eaCuBXteNMEAAAAuAZ6ldEK/AAivSVDvY3TdyPr6SGKP7Tja\n",
              "QAmXKV/wyGkggkGVoX/gewjW4qnn4wAAAC8BnqdqQr8ABFUtWf0Ir71ilBYKqn74cqUTTr5k5pO8\n",
              "jjCtYfPWh/Y2ch+3MfAXxgAAAJFBmqxJqEFsmUwId//+qZYABXBTf/3OFZlCd2wn7OIAnX4ujAh2\n",
              "7D4D+cyhO5BQJmAJ6cL6+w+5lY5oU5Z9Rbk3dL9Tv61zsYB45087HuTlrPA0DzB3WB9ZtGMTmrEJ\n",
              "U4lPPXpc0g6K91vkYOhJ6d6VZEjb8eoVrgf82/to6vEfW7kV7nO54T/orFffEuZO5hAcAAAAS0Ge\n",
              "ykUVLC//AAZfcyzYOxByiahFMXobFAj+V3UewAE24tLi6OwY2ujJHMMhp1HW/8rJtHsuudz1qkNZ\n",
              "XGzO194VXA9vfebdQVHSYQAAADwBnul0Qr8ACKuhHdjEo0//m1C4nPtKUkput+ncdU47kXA+tXEo\n",
              "BNVrH3gARB3berSGh9QHw3MISkHcJYAAAAAsAZ7rakK/AAisICn2MUFxtc6mdrD+RQPtmWpT+k6S\n",
              "RWwsuoY96oJiRyyRCEAAAABsQZrwSahBbJlMCHf//qmWAAVvYz7EqKA4cAOo0s4nzygCxS+Ykyi8\n",
              "3M9N/s8agOC2c2cKUtWkEPXxPwwXqEXcDLiSSCjGoM0MHLVTfnR9kD9jJjZdR5hgM8cndVDIqvB/\n",
              "u0Wczk3wrjqa9gAZAAAAKUGfDkUVLC//AAZJTo1xNWeY6yDKI08Or6zgAtrAYVocb9gOkmwcZnEJ\n",
              "AAAAGAGfLXRCvwABFe/v844DorZNwg8R1cDuoQAAACkBny9qQr8ACG7AaY4t1XoIzIrI1f1O7LiA\n",
              "N00KYLVACSjWVu00gvoMEAAAAGZBmzRJqEFsmUwId//+qZYABW9jYOQCWeTfUAR3WP0Fltp5cnsF\n",
              "kJjYRpgalTGTm9PI128I0G4rqU/ZUDojBq1MJATc+WzZaDj5bIo8MJ49a7ghgAwa3aXgE6xE4uX/\n",
              "K4Qj0dq2sYAAAAAlQZ9SRRUsL/8AAyQajgOOAAmjfQFuQAAlM3q/TtxtShkL6THEIQAAABoBn3F0\n",
              "Qr8AAivihgBv6dnYdyctfwE1/p7W4AAAABIBn3NqQr8AAIEqkge4zKMOqmAAAACCQZt2SahBbJlM\n",
              "FEw7//6plgACt8haAEZXYMhwS0aUIoHvgTCnHWjKXa3OCgTBbIVKQWQuQmQkRUzfYdnLfgIwCjIJ\n",
              "LHsBsuV9HQ2ZrjlM1qd7DVuiP38x0aJW757PtqocFP+aWnQ3+aqYH0SVtA3aRu7znQJBwIL7h5Nt\n",
              "midfkUItMQAAABsBn5VqQr8AAisiOkAzEdVIsEcTxOTXflwgkaAAAACeQZuaSeEKUmUwId/+qZYA\n",
              "AruPG5WuAEZT94+WXDVzWKZtph07YCUg67fTXurx/bnjq+v+IJHqtlquSWFui0uQVKTHk56wPCMH\n",
              "uKSOVL09879WKVAUYPNBDOafp//838qhCZ6sXyg7PG8UJJCJ6SsP3s86Wo0VTBziEs/sIxCaNPyp\n",
              "WMIWXzQG1F1wVf8XgsBoj+8jv9t/zwhxgDj+hkEAAAAzQZ+4RTRML/8AAZ130AK518IJv2KYqRT7\n",
              "cehu+WY4uzT5SK7BKWx4VMkwZycTzE9sZs8lAAAAGwGf13RCvwACKpcCO3CSfTsHoM7+DHK8Vba8\n",
              "LAAAABkBn9lqQr8AAitqE72f2Cw0FhOzBqsR1IrNAAAAdkGb3kmoQWiZTAh3//6plgAFb18hR6ll\n",
              "n2YhRk9h5IELvFICCJw72X1rvMUkQShjBJ1315AICwdZo9rfwnK61p6OyQ61gkiMv/JIKTwggGoH\n",
              "Df3Va//wXIamSF8Q9lw9pAXQf2JHT+a+A8lFqAYZTAgqD43wSzAAAAAZQZ/8RREsL/8ABnA0Tqie\n",
              "hgNJER7j8QFUmQAAABYBnht0Qr8ABFfBkQHxv6hE7NOkyf2tAAAACwGeHWpCvwAAAwGLAAAAa0Ga\n",
              "AkmoQWyZTAh3//6plgACt/FmMnpEbjuupPK6ALNPoR3J57kZlSsxIl70oxStxInayM28gRAnUotY\n",
              "6fYVF/+4OFbpuDb5tDZeO1zQtgMEd60TTJfuTR5kNogTofjgGVNsyX6U22uj671AAAAAHkGeIEUV\n",
              "LC//AAGcUyHqhWYtuUYuCiDCqxu1ZiARUQAAAA0Bnl90Qr8AACGuhqJgAAAAJAGeQWpCvwABFbV5\n",
              "w6s0d4AEVHaNTSADilQNHT6VoF8NlX6vmQAAABVBmkZJqEFsmUwId//+qZYAAAMA8IAAAAAuQZ5k\n",
              "RRUsL/8AAZwxVhI/gC53iVCDlM+2+wln2AC7QAgtDdn7ahCxOXhiARZDUwAAABYBnoN0Qr8AAivi\n",
              "O+IMx07BdmwWrAOhAAAAFQGehWpCvwABFddy+ag5xOE6ueFHYwAAAJBBmolJqEFsmUwId//+qZYA\n",
              "BW8/CbyR8A7le9Ht+lQU4r+CwDIj50RHDL0MEEzmmdHYmaCtNXC/b44H3tiB5eW+BGw2dwTNdMnI\n",
              "Vn315XX9to7rITAyi03RNsad9MfaB9SFGMaDavR1PZpVNu9x1RC6bys9VRSVk4whNwCj3o4qsRAC\n",
              "vfjNjudyR3hak1hYW0EAAAAyQZ6nRRUsK/8ACK6/jIUtfy1uQ21gYxeKquKwUZN3YtQAJ603JaFL\n",
              "SlSuojQeVARgnhUAAAAcAZ7IakK/AAiuu5fNQuNAKEBaqI6+PH9R2YCpMAAAAJdBms1JqEFsmUwI\n",
              "b//+p4QACsZl8ur5Ldf0QBEAEgUQScH+cm/q9t83EwAAHtUz0B/T49w2toPqGa5QiubnS+hxKSrW\n",
              "MH0qm2+wgggVMg+32UDzEBRmULt3/YDFyk5/29KU1kEh/at2+5L829Zh36jd1eBROr1iDCRWvZof\n",
              "v95FjO/sAPNlzktmp1JOy9vj/qHHo3Kqfm49AAAANUGe60UVLC//AAMjIZnw98kxusjm4zOF59MQ\n",
              "1PU8RaQ7AAPheJD/x0VKcCM16HnuDOOl+WCFAAAAGgGfCnRCvwAEV8Hj3bmNN9hLjhhAqBOuyw10\n",
              "AAAAHQGfDGpCvwAEV13MFKvbyWq2ttetG1W3Tl109oixAAAAgkGbEEmoQWyZTAhn//6eEAAqPu/K\n",
              "/aTx0qr2gkIBq2zsAaWeGR2FJTbuUd0+BnWfNndUAwPghFaT3G36GBZshZ44e76TdAieKIu4DcLm\n",
              "W9NTlR25wxNah2dNgOjqHfJHc64/zWyI9eUdDzgxaXQ/FLi9+iupvNTbvT9JxlalOh5BwB0AAAAm\n",
              "QZ8uRRUsK/8ACK1WzSeZmZMS2kFr8A/qEwwRx9UcKgBAktmkvlkAAAAhAZ9PakK/AAiwZW7WipGo\n",
              "eHvAcRWE0eNABqJYOuirEntAAAAAbkGbUUmoQWyZTAhv//6nhAAFamWfUSOUIeAAXDfCSATb0Hj8\n",
              "ADxygW8Bk0ft0ogNnBtaFUJQ6HhBjZsoViDDiIZYDhOT5aFtRwOecki8iOZvtdxOKwmQPb+aaq+G\n",
              "1ao3z+sKGbqV/7f0DzZADmDoAAAAc0GbcknhClJlMCG//qeEAAVo0c6+AATssVfEBTrqaNOi/vro\n",
              "Moe8PSGS9dKGrMyd5jHdFk0xEI9mJdVy2D3W0Tp7yh5x/+kVGSHfLA8P17zp/kaLT3vd6zVqqGB0\n",
              "xgLeZtx12d0PKKqQFtugwYw3Wv082nkAAADuQZuUSeEOiZTBTRMO//6plgAFU4W+eIKEwm1Extwv\n",
              "0lUlwLbgw6Fm6e3/w3yBfqgecJtWw0MZvigcziw6dP+00bOsVuCPOIKc62nLUPtY/fa/kS9kfT/0\n",
              "JXDcgIV7pfRUBPxJRm+aQX/wU3hgkELZvQxMPtkrtjwexEI/g1yo+xUt2q3nZw7/JrYeod3Uw/hz\n",
              "45F4G8BgKjkaPvyYeIzl5SoFyF2qrPiA9jEJdTUdT9j6/xdEkHdhVp9I5OuRMOIdZmEF25EDXA2n\n",
              "oavLb0GKFxnj02dS4sX8svJggnUfQ1ydgYczU/SxzdNbUkGe4AAAACsBn7NqQr8ACG7AaXvntb8o\n",
              "44fab+hOY8Z3YTBspqSpJNXmWiiW7tUve85WAAAAa0GbuEnhDyZTAhv//qeEAAVFDvD0AHSgbebB\n",
              "33RsvIBp05yUY+fGsfyME9KOnvcUMNFRcexjz2fgnNTQwvUPdHPSMLUJlfj8sFMB8hso9cG1OVco\n",
              "aDwg3bAqzvAGxTX11x+o8CujZnqgU+ihAAAAKUGf1kURPC//AAGcZY+nrTrhqxxpmNsaHoAFw/wT\n",
              "fogV1hanHq/C0WSEAAAAGAGf9XRCvwACKuhL/IqMJ4r3vHPO7vKHyQAAABUBn/dqQr8AAiuv4h/a\n",
              "BwPayrazf7EAAAByQZv8SahBaJlMCG///qeEAAVrlAtKACQ64q4mkhcS+oAnvNyXh4w5QEGAl0gN\n",
              "8nrUsZ4tW37bG7oqtpl6zPSXAvceT6Hbi1BxrQPGCyPKqt76WtbbNiwY3yhbM1NdXCj2qlaE5WIa\n",
              "5IKPtD4l0hTEmeOAAAAAGEGeGkURLC//AAZwNE6onoVW4HANCmA/gQAAACUBnjl0Qr8ACKuh7A8v\n",
              "oAOWMO08YYkjOXJzLpHyOGBxWgV8m2yoAAAACwGeO2pCvwAAAwGLAAAAcUGaPkmoQWyZTBRMN//+\n",
              "p4QAArXtFMIfgVGuASx7LcYFyq/Ia9GRH2Y8DZrUgaRpPVUarpukmaPrloDkfUwOot0jYBHS99ZG\n",
              "eE7pYcYxKfxyHaAFfvbXQaicjqwH83bvbAPH+LDjxVrGlTMn1SDMVWLBAAAAFwGeXWpCvwACKqqS\n",
              "HaVsNopl0zlA8kmwAAAAdUGaQEnhClJlMFLDf/6nhAAFa94Lk+rxAEPVoqUdk/J0eNsvn9dPWJS6\n",
              "e/hy5szDALPiAVR+9hogzba9ZWKwtYK6zs/T//70/Eew/ubsDS5T4jzPrJO5sRwUad5hbJmB5UBJ\n",
              "OcSl+2uf5MmMLJ3+F7SWXMUSOgAAACEBnn9qQr8ABFZHa/u+R5fTCFLQbGW8Z/S5cABBB7z3fPMA\n",
              "AABtQZphSeEOiZTAhv/+p4QABUUPdvXf5DSpAJrvD843+Qfqbqu40F7cJgOtTXp4QhlgYtxIHF0u\n",
              "ehq0zMwmioHk0yTOUNy4oNKS7epnP2raTOCjvkwy1ohmHKjBn7dV8mZwpojZ1YrxOvhqQ+8/DgAA\n",
              "AHtBmoJJ4Q8mUwId//6plgAFb2Ng4HdFAYMtwznx6Tp4dPGeZj8U5UY+42l9H8axoXF6weX/o9He\n",
              "rQTDhxUXHgKoz/cAmZ1dzHeVyJonemfG641dywH63MXM0d0r1hqs0KsxBYnlJ0DgmfVNXmFmRTjG\n",
              "9yGYnUgrm/fl1ikAAACDQZqmSeEPJlMCHf/+qZYABW9OTXiKGzNRgIJQfpPaPsj5Q87/OE52IvsP\n",
              "8VIf8vIC5aVqaL6TP7+IXSG7EK24o5b+c/IW5iET3j9YdunTWPrzJt/ni010jk2S071gM6FwqofK\n",
              "Cu2rzu88RIoZStO7jlH/WuQ5vw4GYOwnfPTzFdSw9oAAAAAnQZ7ERRE8L/8ABnA0WCqGfqga6lnh\n",
              "fwOTuR9Ex7NHzRwBxbeAzsrpAAAAKAGe43RCvwAIqun/D0mIl2zYxJ07BE9SCTPqBuKJdsB7cPEI\n",
              "ALveNFkAAAAgAZ7lakK/AARXX8Q/qCx8wUamKt2iaoAN2+BZxOuAV8EAAABuQZrqSahBaJlMCHf/\n",
              "/qmWAAK6aKM4Am1cwExiV5MW2ihor7951HPeNGKm01wnWLWcP/iThpKHr149rA4L8k17NxUltGut\n",
              "lzQTFbFZxr5hzLnArtNJzUx/FzKKZym25QAfq+XAJmzlv0RjRdtrNuEAAAAvQZ8IRREsL/8AAzil\n",
              "aQYQONujYQ1N1hepbVjKbE9YAAfunjGYDcM6jK/Qk1w0ESYAAAAYAZ8ndEK/AAIq52rZeh0MdvbG\n",
              "2AiN8F7wAAAAIQGfKWpCvwAEUqS1YqIXuQJPNPju9zOBOa6/cYemOKwGsQAAAJ5Bmy5JqEFsmUwI\n",
              "d//+qZYABVPgHGVejqO4iguACyvbVzlg6GFnkIW/P1IX5HBSNogakawmshMKXpDA8SEx3Yj+RTSH\n",
              "K1NU/FR3VQib8XWM3ipMV2qCx2PqgfbtS0o5tQhPPqaiBOqbcSsSq4J9x8PgXtifwAfk/nuN+txb\n",
              "gs5VnW3pHCXK5GLd+m4BgVhzgN2BejnVcFX10PZp+b+lmAAAADxBn0xFFSwv/wAGcP21oNx+8vZW\n",
              "mdcXeV7MTHXs+BtIPg0N6aimuqBvBHM/QAAJzmg5H+VujUd3s/JU6zAAAAAlAZ9rdEK/AAQ3Fkl+\n",
              "iDhVidXCc1AJ7eDt+9Rjo698SBpqS5bhKQAAACoBn21qQr8ABFYsrwn5/jDBN4oALogTjIVC6u57\n",
              "cyJj9jGICSjqzlK5tZkAAAEkQZtySahBbJlMCHf//qmWAAVwVBO2oKF3kDwL6MJpf/ukADhkF1ai\n",
              "qm8L/bgyePkauJVwlWOA+tt9dAqdGkrBIZ03vNXt9UgFNO+/d7GPhIaM1m/0i1raWeZ6J13dMmz3\n",
              "l9yR3ibZvxLjkOCNzHDfuUN89pf6pvX6Z0fCYAjPCywLjK+vgE1c3uzn3WKJ3jYyDmXYtoeZCHup\n",
              "aMhe19xuOdTve49cSqTlIqMnfRGr0VZNaF1rpwQdth2KgXsqDXrCo4yVRBT0SmKDYLPbDNvxl5hJ\n",
              "7REwOzuEMv2DePkGk7XruNObaynzSn4MvnA7ADHf+zOc0kWMkxbQ6Nd31Doh2WZNajWZ4oqYfFHE\n",
              "m7TRBdRN1exxCA4KmgzvCWegJByRT82hQQAAAC1Bn5BFFSwv/wAGbb3ivL3GBW5vvfj2ix0zYLKw\n",
              "LNDuKs1gFVayBwgS4oFUY2AAAAA6AZ+vdEK/AAiSqOf8S8nZ0MYUt4bAC6BrbO14qivnhXKzypRP\n",
              "/VnIHWNKqKHJdzHKJh75BYbWHqYA1QAAAB8Bn7FqQr8ACG7AaS6pRUvWy9HJT6CzGpagDtbk/riB\n",
              "AAAAGkGbtUmoQWyZTAh3//6plgAFS2zhDi1eDPbgAAAAFkGf00UVLCv/AAhsj8O8vJNrU/ekSegA\n",
              "AAAVAZ/0akK/AAIraRJOR/twDRk5EPeRAAAAoEGb+UmoQWyZTAh3//6plgAFb1XW3JWF3kAEGXPM\n",
              "snPJos/POJrwI4dwFxJYzpv9prsio6B1QUR1Wkyh6Ne9oOxUWS6NX5dtOf9L2fAVMiHt3Mmbc1PP\n",
              "srlXeaY2qKm6uv4eA47Pj9PMZixiVFPtK8VeYI9MIMEAlH5WXd4a/i91d98PuUD8w+3lhYpWYDj9\n",
              "Ua9iNnekNu7Cn27ifXvSpt8AAAApQZ4XRRUsL/8AAzhjD/h0TzwkCgB75tDFCAaQy01Q4Zk0ejM+\n",
              "I8Xc4VMAAAAXAZ42dEK/AARVzY1siXN7JaKLzPeftsEAAAAXAZ44akK/AARXX8ebXeNntn/7j4hh\n",
              "PngAAABwQZo9SahBbJlMCHf//qmWAAVvbOCF3JhmJD0sj5Gas/t8AjzwkbcpvI5RUGGaC4ULpiTZ\n",
              "8djv3UDJVo2+QpdZOwKWou/I/qqFruMsva2vYmmQ0AF9rCzBoBnw6rbqh5L8EGi4k08AXrtVCXTI\n",
              "2e+I9wAAACNBnltFFSwv/wADOKZdUPNSA+4ftU/UnkDlm5RON1E88t2epAAAACwBnnp0Qr8ABDXR\n",
              "JEpRZyaKCYwRlh3CAC7WDAmc0lhAXxi5mNBOyO9eckadWQAAADkBnnxqQr8ABFZCeacEHvq5OWtK\n",
              "m/xACadxV7br3prnkiHUi8tyGtNJ9J2y1XO478DgFXO9eJIvSYEAAAB7QZphSahBbJlMCHf//qmW\n",
              "AAVvPg/0PawwocAKs3j+qEho9uI5iaOX+o3vMP1b3cdd9D8mzMcvKdWtgHCTbTQiba+UMXuN9VCd\n",
              "7IcFDwme/o/u+peQJq1/YB4/wh5+0ZcRAn0NQV82n8QG1429a93yvvn74BRXuHDMci2AAAAAKEGe\n",
              "n0UVLC//AAZxL5Ve9fXsjNZnWdhVztKlBdEUvr2asi5s3Wy09t4AAAAbAZ6+dEK/AAhrokh+bsj6\n",
              "8uG1BEvePYxfqQDNAAAAGQGeoGpCvwAIrr+Ivquetzr/yS8LsBbg904AAACjQZqlSahBbJlMCHf/\n",
              "/qmWAAV34FH9/nq93ks9QMwl+wPl8lftjR4svgLgeozxOcrqWWsp5Qo9KYOeDcccauC38dSKO70R\n",
              "ujGK5hjffFxAmDGNC1GeHZQ+NsmSlhhZuGyUZPZq2YY9mCHLoRaNhomdKW0Zwytp9BBE45sHmtXm\n",
              "233Tw7dfjDGazpfo/HL1r/jFSF9aenLL63XApLgEnpwrIzG0YQAAAElBnsNFFSwv/wAGcDEa5Ll+\n",
              "z43pQKY9oZ5EXFzo0eXK6lfRR2QAlmDAfIWChGNhAuFrrekbG8PABM6wEZgoqtkfoYAbNEK7IBLm\n",
              "AAAAIgGe4nRCvwAIq6FKIiM8neyvRM6Qx85EKCmGtvyGDB5fQIEAAAAfAZ7kakK/AAhunAUT1VIp\n",
              "I6uwiD7QLFBmtq8801MTBQAAAKxBmulJqEFsmUwId//+qZYABW6LfPElRoJKgsMMQZLXai+RrRUg\n",
              "5LSTJqlK888d2J+S8NBKNLekgQKEam+OYbtK8wY1Y5MZhVlu7GfY8BoNDNydkOBlSMO3BO3K+Rrx\n",
              "tV/ZPONPlASEGCLpkyO6cRvVV1tzkPzMz0iXHou5lx/PuxmP5Kms+rT0vCP1EXGgJYLsPUXB5xP4\n",
              "oH0DGf1rkfGIup53n2BLf5FhPlq1AAAAPkGfB0UVLC//AAZxRr/ZrXlsul943qC+oAVlhjf7sfbp\n",
              "ghwVZRoO6aovF/ciS7HHqWIT2AUyrajx6QB04QWFAAAAHgGfJnRCvwAIUqkmEj8e7rEaQ0uDeSfb\n",
              "LaceKWpwIAAAADsBnyhqQr8ACK68dHEFe652HI0+jJnYvT0WkjgikLilYATSpfySsOkjtulG3SIW\n",
              "J/8pGX86HPYTXi1newAAAHpBmy1JqEFsmUwId//+qZYAArdFyCHgBAqaMYwzYxdvHGKAVbFzY1zQ\n",
              "+2vgDWXPPFhtu+O2lPY2sipmZVn/fuj6N69VTA7vLdZuGkblBQdfx9opX0IXKrOg43ITkfLn4574\n",
              "yPHeeN8B1inA+RvG4VEDymIRJfOC0BsaDQAAADBBn0tFFSwv/wAGSJwEIXJdx7K5iPlvKoBVnYGy\n",
              "b7D/9SuFzaM2mRufnjjz/Y6890AAAAAZAZ9qdEK/AARVzY1sw3fCOY1hzub5LvUmSAAAACkBn2xq\n",
              "Qr8ABFZDIJ07D74yFVZUg0AE7bTjVMfmvOM/OfxSXhpNHpxnSQAAAGlBm3FJqEFsmUwId//+qZYA\n",
              "ArpxuLMOADc+baWfqO2ctFfVCYcbY2WW2N5/T99pkFs2lWdWTtpgooA3TiwmT9voj6XeoA5V58Xu\n",
              "Ecllr2JFeWmmBZfvVUVAW/tTsUmRpc67rzRCWt4t9oEAAAAfQZ+PRRUsL/8AAySnRxOV6/+kyJYP\n",
              "/uUhqq42t0YQIQAAAA8Bn650Qr8AACOunUvdKCAAAAAhAZ+wakK/AAQ3X8RqJV7tWO4dEpegAz6s\n",
              "WGupYq7UuVhAAAAAnEGbtUmoQWyZTAh3//6plgAFbw7J3NoeCMYgABOqh0YZ3TOSbBNnSHXF1ACo\n",
              "kV/aZ2M9RSqscHtHij8WMC04PefgUQiWRFhn2W3ZqTY6yyyVlQGvKOEua5vzuHTLDCKusb2fCr2W\n",
              "u4CQ/UXKmVe6MuUmgsIIktwoOG9KZ6I8Xe6+Nhlzy+/Wd97/3LZ+yk55wqKSHuxrMYa9y7dsWwAA\n",
              "AD9Bn9NFFSwv/wAGcTapweVA7c7sL+HyGQA0bPNYbn55uvTnVUCeobMY5+EFO9v5p7GSbMj4BErU\n",
              "P8211d8e1zAAAAAkAZ/ydEK/AAhrokbjABBV0QKSHeqc6CoGZFp+iOyHUu6nKQICAAAAJwGf9GpC\n",
              "vwAIro0uGO78A8XNZlMUNs8N4w5/8dDJH3MUg9a/wVZusQAAAMVBm/lJqEFsmUwId//+qZYABXfg\n",
              "HBjLHa+9+JVaiwAAdl9vc1P3Na349L3uvgTzd67EHjrKtYYaFFv3utd1urbNJUtUrthl2dM+r7Fc\n",
              "rzR4dyFW52PFcaaIsOMsb5U5vc+5+TsXKGnWBikHusrEAJq9eDNLpKmUEXClRb4DoTc0hBUj6IPw\n",
              "yfnsR1GSFd2fdlsnrAebpOsPKeM8ivJqGPG/cjZzL2n2/Zgr2+uS9r8jACD2IpM+wWFcnFWn/CHT\n",
              "X7J++lq/gAAAAEBBnhdFFSwv/wAGcDNLoYKGKuLPNAC2nYOZwpDxEf0B0TR6M+nWqzfVpXUblYiM\n",
              "xfWMtEsmU0PK40/KtGUW1LZBAAAAOQGeNnRCvwAIqyUxfuDjVVZ8C0NVlhcSYxjItICuh0kDHR1o\n",
              "vFjRgy8mpYAH8SNy7+FT52ae0EZtCQAAADQBnjhqQr8ABFTX7VdTIAPbX5AwHDnqZmu7vZpfLA7z\n",
              "XCWYSx6gA3WeT4UHW9WttVlKjHEgAAAAmkGaO0moQWyZTBRMO//+qZYABXBVK/aCSoLC5qdnl8sv\n",
              "2iwsz04oU0Mms+SeVwg6eFXWG7ZhdGzN7YYZEQ4orOocaGXk2buV+XLXXsdk4yWIGlulqTT3Dgzx\n",
              "FmoKb/q2Rp5WUfTZzVrhrsTg99+CITlKckvDtS3FiB9rFjdHgCrp4PYJAa6ntUcPfYr0q6uQ9Xks\n",
              "x0xpIYhMNGkAAAAcAZ5aakK/AAishPMQq4+rb3w5f26IisoL9oXQ4AAAAIFBml9J4QpSZTAh3/6p\n",
              "lgAFb2y+xLYCEfgBuQLw21vyiYTtfoNZvc1rHVG5I1d/uYdZpTZ+QhAJHVbG+Mp+JSnb3vXeYujJ\n",
              "LgHD5x/51Sqx54Crg278oUDWIYH4NpCXNwPAMQ+nEotBGYO+SfP3dFOpJoLALt+yQN68xyQd1mJ4\n",
              "W6EAAAAmQZ59RTRML/8ABnFONAbTkg1kZiBuvUdE6uWKfg443LAI6Zofx3EAAAArAZ6cdEK/AAEV\n",
              "iNEsaIrxw7GRKbEwXKkADfaWBbF2Fytj3Cgkm1zibhItMAAAABYBnp5qQr8ABFddy+ahlBHDutoF\n",
              "1tJsAAAAXkGag0moQWiZTAh3//6plgAFcBn0Li1n5nY4ARAGA+vsuwfScUwQDKbLoFag5H7xJS0X\n",
              "9mVtx12kiBnK1lHz3dU3piVeeR1RBHADcU76gcscPukiErgwYCwZZxOqNVkAAAAiQZ6hRREsL/8A\n",
              "Ay31ivgGzADWmxjTTfgIwXQDYu1f/GCnQAAAACMBnsB0Qr8ABFg/ofh+IghAQs6+h8MzUilukSA5\n",
              "1Rp+V9moaQAAADABnsJqQr8ABFdeRfJ+6+iE+KPjh9n45uas6gA2WlgWxdhcrEmPf/EEk2ub3u+4\n",
              "i9wAAABoQZrFSahBbJlMFEw7//6plgAFb2Mzm8FRHvQAsW276XALldCZ3bkWW4sJqs8Ib4gdhM2G\n",
              "GhNd57s+BjidWcX4b8DMI4FMdyyX5a+qVFvOwfnPl8UNcel5yq+xcRmdNaZhaWm9zSLWZfEAAAAy\n",
              "AZ7kakK/AARXXcuWsVPj/8TY3TMVMAA63gdE5k5bXyrvW0UtIoM9kBf0WZ3HzXD3pYEAAACaQZrp\n",
              "SeEKUmUwId/+qZYABW/UobjYyYJRNACRpHFS10C8yTbisiFKBpnZf/NcbtSfu9f7bd8Lcd7GYMdd\n",
              "KaNBKGubyYvHBi/ZdBmgwrYBFvrIwrI+pTXVQ6EI8/cuX+CtEf/yqOvZqxG3a7wdQc8LA8+dq4BO\n",
              "EdJ0YBfNFPfZK8M1C0Ue082Bo1pAZzQu67gjBbWmhywBZ1XMzQAAAEFBnwdFNEwv/wAGcDQCwd9D\n",
              "in/rV0An65Of1tYN228+U7ZDiDqNwxEWBgh2xxIfgA1hhGVMtpJWs4MmXbIKo4ePoQAAACYBnyZ0\n",
              "Qr8ACK+I/zNrFAjir8KG+IiLnuSeAwPO7pCb8TbXcAKMWAAAABoBnyhqQr8AARW0tmES7ONmlMrQ\n",
              "/Lqbpt5FIAAAALFBmy1JqEFomUwId//+qZYABXfgGzdqe83BOscjlABsxwNN4MGqDIvwfhKNGx+q\n",
              "hO+LQwNi4JiIVEWV4JtMFg+uSOSiUi0C9LVDnftrzZbb1BndXIrvY7bn1K5TeJaM8JcY8trhDIj+\n",
              "IJrANB3FSieWUYUbDJ5u2mL+ONcCXyi4KtoSHwRKG13+0EYI/A9N6W+BxeYMLRLxHjELwp72miK/\n",
              "Up/MRQIqPgBtG+DEASj3JFEAAABDQZ9LRREsL/8ABl9zjIQRtQmnEiAFnIQW3qwypdF0qdDGb7J3\n",
              "owAYYc3TCwOHsQ0SRfUa/JGuqiX0CrAKoBGKlySyrAAAACYBn2p0Qr8ACK+Jazl43WTfwkKz62e2\n",
              "2SwiN5RWkw06r9mazh30wAAAADEBn2xqQr8ACJKpGOFkIgBNRK92NMKiPD6n0KsNmX9EqX0oeguP\n",
              "R8tBLyKY6xwoUmjBAAAAw0GbcEmoQWyZTAh3//6plgAFciu2WmagAq8NHRcAATxXC6Bg5u/n2UaX\n",
              "0ZO7y2donN5GwZdEIRb2ytyrnGgu/YYtSuYyT9fO+tw2uQsuV/GBxgtpyr5yNsWe4I2Vl/rHEJkU\n",
              "bYlRMoO3zoTkQsAX6I1VUVo5C4YscXCUjTPAK7rzQ/25x29YgMiWKBs52/IJDC5rsWSeT36QadQz\n",
              "mOzwNuClTU+F536hjpkB+4h28aOcpVVEqM+7N8UkLpcrSCfsEfG3gQAAAC9Bn45FFSwr/wAIrI3i\n",
              "EQbXBlv5DTy4sII8q2CV4LBfvK9OVutoV0Hs77NLe3/KQQAAABQBn69qQr8AAisj8gpQX26FlizK\n",
              "gAAAABVBm7RJqEFsmUwId//+qZYAAAMA8IAAAAAhQZ/SRRUsL/8AAzhg5FZz6t0Lm9Y0ziUv70f7\n",
              "7qsYtXtBAAAAFQGf8XRCvwAEVdCgj4Y1MU1oXGR98wAAABUBn/NqQr8AAisjtmCs+QnCtuPP+YAA\n",
              "AABzQZv4SahBbJlMCHf//qmWAAK6ptgtBSBmUUnADjz/Yca37NdUC8xKvgiMS6BQz1rzspVCHEFl\n",
              "Ds1sZtnB6SWKUvwDBQlkF3roFtsnI0Yv/7/gsYWxBd22aJ3HL8rR3KYUomQIsh3x28Ew1o1ixITZ\n",
              "OziWQQAAACJBnhZFFSwv/wADOBos6FmTMT3z6xRMb17Soj4pb0d5Ke+qAAAAGwGeNXRCvwACLB/J\n",
              "787FJOxGyO+/2jjUA6L4WwAAABcBnjdqQr8AAitf7d/6lrrkeYWlxMJawQAAAI1BmjxJqEFsmUwI\n",
              "d//+qZYABW/VLgkCraPBu4ALdgc8/2GilS1h/GnOIh75J2H48J4wHxZmbjyQZxbjkUlESmZjPrhP\n",
              "orOwSt1guYkNjLGmd0Dwf7pYqtCUFWp/PbLfd2uGf6ENdO2exQc+WPwY2e6klRhITkRgZvG9Gd8a\n",
              "hzr4MOEx5eEqdzwdeSnZOsAAAAAoQZ5aRRUsL/8ABnA0zv86V1r70TeKTZi7fEEOT8H2JlMcj87q\n",
              "mVAXVQAAABkBnnl0Qr8ABFXQpRbklS6Z4A8BPp4TVrkmAAAAKAGee2pCvwAEUNITpo0VglWF2DXK\n",
              "3dBTysj46Szz3YcP4BlwqGTKbMsAAACFQZp/SahBbJlMCHf//qmWAAV34BwY/C1WZPaOAAQ2AG2M\n",
              "oWkCIK6Gas8ofUy5H6J4xziogABctfT9EB6amCD0JZKN5RYxl/r5Ykci/djAhoDiDcCU+wvPmLhX\n",
              "nUXfybs5WTApUobp9gC/tZc38lJkTUbVgDNjZiCmko0O4Q/HOTR68rpx4QAAAClBnp1FFSwr/wAE\n",
              "VR+G41lr9Wk+D427VjVBrU49WPbp2/1ojJtmFpe6MAAAAC0Bnr5qQr8ABFV92agA82te0CiNmfis\n",
              "PLIC/HtFme071xnMzMNXhvDgr0gI3RgAAACHQZqjSahBbJlMCHf//qmWAAVLm62AamiTCKrLWUIM\n",
              "dpS5qKASCdhc+OMkexuYi+bpG3q7tbQPGI7NtWIM0pD2fcL/+1XLgP5MOLaAX59kFhM42HT/ntAP\n",
              "wcYfla9e/m//75Jx6/fOV0DCVJ3KLbcsVV1NYScNk7Q8zxU6WOkfnn9qv2KTxqRzAAAASUGewUUV\n",
              "LC//AAZJTo2rjxswSpO2gBXrWITRWYwqCAljT6tT0aTlWrqAtDJp3HCwXXOqxjJzhbVm0UUNYaIs\n",
              "ZhJZX78VYqa3yuAAAAA3AZ7gdEK/AARVtgrAATLhEZ+dBapVAz+uyE28SiI2nKsVWLi+If+7feiE\n",
              "Rin9OSzJER1Y11d/aQAAADABnuJqQr8ACG7AZ/1evAXNIf/W6GHLV8uAxfE4BpfI+4KlL/3u0hZ0\n",
              "2Ilc4pbc2jAAAAB7QZrnSahBbJlMCHf//qmWAAVL1S8v4FCUzcqHR1wG+4AO3emq3q5WVppV9Thh\n",
              "8S8+X1TuQax3GW/zK+4GXp5PLmfapXaW8oy/rYo9B3BGeSCy0DBbBJpKviTMbSowQuYDI3r3G9XS\n",
              "h+aNPPoNGxNWu4V6NMOmLMCchD7ZAAAAM0GfBUUVLC//AAZHD3KsyEvxnG71O+m95t3BCsrRAzGA\n",
              "vMUA+aSc5xzMGXUERXd67AgM0QAAABkBnyR0Qr8ABFfBkQ0nX2Ktg2UX+I33ltu5AAAALAGfJmpC\n",
              "vwAEUyjNZtSuz6wEsPpUcBbuUU8RMAcxd1o2fbC4ff/UBrh7moqRAAAAnEGbKUmoQWyZTBRMO//+\n",
              "qZYABVPgHCYsDazK2dDtABqgq2l5T4LXHHszbKCXKHmgvU+C1ev0AIfGv0Q+5r6T+o0LwTcDgMvt\n",
              "8UKlVBkZk6JJIV28hdpRPcjARjDg15Pe143PmlEmwGtUGHzwNQqFyl4s/hnq1u6YKVHxCVmSv7Ax\n",
              "dbwfrOkeA9fOB5IG3eMiLxtpWdtVZ1RAmIfGoAAAACIBn0hqQr8ACHCOxBcScOgvVPSttg3jIL53\n",
              "y4y0JYdJQ2TWAAAAhkGbTUnhClJlMCHf/qmWAAKoXvBp2+akgJABsoDCRsiXH6kG5n/GmE8Ym36Z\n",
              "d81VIRJ6Sp2o4jsX9dY/Kaem+au1tK+rftrSuqk/aO+eKiw3+OVsZhZfjklxDInFSjEeVyGJEgzH\n",
              "e9NB4wXtQjvO1OfqeAfohZ79aIqdBTyqM2ZNAszodZF1AAAAOEGfa0U0TC//AAY3c6wnXHebPnLX\n",
              "AqS5LuMpOwH94tziCFSb52JSAE1Ns+UHaaD1SPCzB14PpdywAAAAJgGfinRCvwAIa6HuOSJ7K7RK\n",
              "gSUSidt/kkgACCFGl2ff3hfC8yCcAAAAJAGfjGpCvwAIbr+HnTnGwT+G5dUeblV3+hZOok71DRRt\n",
              "IuVWuQAAAOlBm5FJqEFomUwId//+qZYABXeFvhGnXSA/7km/VnNdwI8Tp+R8AaucULxm4kP83bBg\n",
              "+gwu7+sFg+JBONKJG/HrYQlzP0LQfxNSs/BzYPBDmyGGH1CvLnF4SqxP1fazL0Wy8qAcRZ3jWAkJ\n",
              "kRI3+ARxRA4lBguXFgMSMMqcs8sNp5DmXXqXS84fJRDsrvxQaGL4ywwLFzVgxoJe5vSWPq6CNOsk\n",
              "lVNPDHXckQ+mCDgqIQnX4n0r9IincQQO89Kjk3shDibPKUjBAdZq7VBaFDXl6HFEZJTEM7MNOLIl\n",
              "KULtSHyAm2hwaQU8tQAAACFBn69FESwv/wAGcDHDwhWFLVw8FmVXJuKE6/50vBMXNIEAAAAYAZ/O\n",
              "dEK/AAirmxrMFnQqq+XTPAzoeqpYAAAAHQGf0GpCvwAIbsBpvqVFrgY5Ya2+fUvTxz7uNmvaAAAA\n",
              "VkGb1UmoQWyZTAh3//6plgACuG1qU2ACWlRpOKLtVs8Nb9dq04WrMfOLb2WrzKcG5aQmnECCjo5j\n",
              "x2EDsDMMiWA1ZxoIlpSSjmtiWOqvc30KNBlaoDqhAAAAIEGf80UVLC//AAZKIxCb00Au0APOevun\n",
              "apdckPzq9y4GAAAAFgGeEnRCvwAIa6JIl7E3Syyi9+CwMoAAAAAdAZ4UakK/AAhuwGkvj0us4T1A\n",
              "ryoJbXWrS558+sEAAACcQZoZSahBbJlMCG///qeEAArKkAw9uzVi8u4AWwZ5bURkA+cQcFYghW+9\n",
              "vZgrcbd77363rFnQZtOa6BFbFahZnBwMV/E83MFpVQDDULiQjDkkzkssPg9T0P+fhEyxW6BrG6kW\n",
              "3SAgNfzQ1M7dk3lVUBSd9nxRivyJAHjeejgD3y/5m2anAtW/t+FfW+bfjM1bdzZwUGs1L6t0eo2A\n",
              "AAAAOkGeN0UVLC//AAZxL5EHpUZ8XNgT6tgVGYSrQGZH46UALeEp0WWrBO2Z89dxOdkw0SBhjg8Q\n",
              "ouz2xmEAAAAkAZ5WdEK/AAhrokgcn/6jf32d++i5k3qFkzT4tz1ZBAKgBkkvAAAALwGeWGpCvwAI\n",
              "kSFqXy14Wxt8cGHr5RwdrqXAEFMMOo/swRvQ1nme2ikNQvrFOs7WAAAAsUGaXUmoQWyZTAhv//6n\n",
              "hAAK17woDXtWXBGBOAD4onpVwHhI7dV5l+ilinEFq0XmuyT58Tg7HDeFRVuVnCsgQqtxipdgi0Q1\n",
              "cCtDaNT37hLXMMLxq8XfGAsJ9Q4vSOo4ghfWB0jVLIyrfcq5vIdLCudA3jdb3NAwXYZCEHdc0jnx\n",
              "xfobw6G/IlI6DZfsP6Mk9vB+u/V9VvflpzCV2ZVZ9fRSdMbwO3eOwXDDWsNf6iCUgQAAAERBnntF\n",
              "FSwv/wAGX3OYcsSVgtYkNiihLR+l2X9mt7TjplsMYeiTfCkCAEk3YuCCFauHMxOJqUevjBhs4Inc\n",
              "jn6RRd13cAAAACgBnpp0Qr8ACGuh7jv5P8dLbwQawCB2YqBav0J9gxsQ6Oq/ug5Q3QpBAAAAOQGe\n",
              "nGpCvwAIrruXEon4suZAB5qStnibGDVslkrEEdwRPp6URboHay5D70xjHP/fSC4D+Kn1oE17gQAA\n",
              "ALJBmp5JqEFsmUwIb//+p4QACshinSAYtbRCUTKP3WRfF4gZtOcjZudAoFpk5C7rsMj3jRmt2SjS\n",
              "lQ2NHcCTLVCX18i2Uq7Y+z4FgLvrIH4OeoAVeIIktyPy0KaWxYpL40zW5hxHkCfrECCS2rW80YnN\n",
              "Fzp8Uon7tdHCYqtLr6jcK4C98KPkqJ/z5TZELiSNxskB1wl0UgDEGDtuIJHFWtV1NYGdtw5ZSCXX\n",
              "R6ltotP1chjwAAAAmkGaoEnhClJlMFFSw7/+qZYAArfjmYACjTnk7uOrdroy4DF3WOxYxQLQKbBn\n",
              "PgF6UJQ1ObqDurgaeUd8I9e/84eebXjm9MpQHix4rXHeNkKKnRqNhedKRQ2y98lkEacgs8Ba5RXB\n",
              "Xi6+zrQICIq8lYjZ+rWOtbvbcwrrAgcbuXMz6nGdVGCG1tLWJbgGWIZD1Oo0812f+fbluYAAAAAg\n",
              "AZ7fakK/AAQ16h8CLORy87I8gLttlY4A5w/2byQ/PzkAAACvQZrDSeEOiZTAh3/+qZYABXeFvgu3\n",
              "8QV1Yv3lanzUZ5cW+FNJMQR5KJ3sHGNg43BG8NAk9FexGR8Nt98qcw1XZA6pongUsThe4tARTpzz\n",
              "ibVi+zCk4vwkmJZpizMCUaLyLSXHwVSOZJkSoJUXPvd5EUoeQ4Rhb7n0mFFgk7hxLPDBkCHXYyPZ\n",
              "mpFPJF0rruPwHDANVONS8bSFt8t22ETGCTsfgExh0yIpJS/8WnZJiAAAAC1BnuFFFTwr/wAIqjmQ\n",
              "cSP7eEdaC12jV5kqsWb3RBGqxugZTAOLLw6wyGXSHYEAAAAkAZ8CakK/AARTq06+DkETlVcRPOqQ\n",
              "8SJ93GIg4D51UPEquHGAAAAAfUGbBkmoQWiZTAh3//6plgAFb2Ng8FwPe/ACoNPkvX630OfNaI40\n",
              "2S5AxUmBRGhbO8Fs8rH2PKAx4jqz6G/iDtldduI7L1sB1HEQ6Ghzg2zA7mhUn3RMVsCbHpRKXiQg\n",
              "/7loolMCeQl1raa3QNXgLwDU1vGHCGlJhOXMdnMRAAAAMkGfJEURLCv/AARXkcRUioR/o5RspdM0\n",
              "U0CDoYANlpYFsXYXKxSQFoeAhGlIt3rhClJhAAAAFAGfRWpCvwAEVkdswOQdlzTnbk8JAAAAUkGb\n",
              "SUmoQWyZTAh3//6plgACphOuLWAR+HACJAa2RkFc2mcj4LQ9SI2meX/4nUvdAsjt7Pji2JBzergB\n",
              "NiiSZoKy1dTrRRpMANWRqmdWCVRf/jEAAAAWQZ9nRRUsK/8ABDZH5AnAFeqCdnefBAAAABQBn4hq\n",
              "Qr8AARUBy496pjcOUeS0wAAAAGJBm41JqEFsmUwId//+qZYABXEQkjRET7Y8yWye74wxR1jU+h4J\n",
              "Q2Oz1bSWb2thyl/zK2t/3lvVqrxEHuy1saYUg86EfW/bDxQt6+ZIvNlV5p1m9jwh1VFsXQ2gs0fS\n",
              "N4UymQAAAChBn6tFFSwv/wAGcTEqrDCUNYLR/9HH6X1RuViARKaZ8YYSyOCI2UKQAAAAFQGfynRC\n",
              "vwAEVdCgj3dQKekDmCWCQAAAABgBn8xqQr8ABFddy+ahi0TJJhJFoLAq98EAAABgQZvRSahBbJlM\n",
              "CHf//qmWAAVvV50dADrQoe2MZ8EACEk6CchgZKzObUTDJfJd7utCzYWsSvRr36E+zbr4Ex2IYDfC\n",
              "WiQKYIcPMXW0Bb0GwGyiYrc7PIFRt99olmMZDgJxAAAAJEGf70UVLC//AANLwfhHcSn+7vvSe6VW\n",
              "VULmcISJ59XKN16YLQAAABQBng50Qr8ABFXNjWYLOhcIJcI58AAAACABnhBqQr8ABFZDqoGOd/lU\n",
              "GyFRSvO7+OEu0wxrELdAWAAAAHJBmhVJqEFsmUwId//+qZYABW89lI5u9MOmSmegAaYbYMDoGLet\n",
              "1iIdYhcUjHhC94yLxaXn7NYgFj18r4ojv+3Cx9YutrPUSK9sLe5QntTXFDDIj7ICFpVO4591HmCR\n",
              "9s/8Rmn6uwUOwNzFExbhJzmo0C0AAAA1QZ4zRRUsL/8ABm/v1PJ+noU1sD7d0f4CuD8JjpPOm9Xk\n",
              "ociDPWKm79H8tsewAhEgo4nz2jYAAAAiAZ5SdEK/AARTkYpiZokwi/w/WieLvPWwp2mb3HU9lE8f\n",
              "sAAAACIBnlRqQr8ABFdGoph+sT/tvPDxIIUx80PsMPzKC5bvyAMDAAAAfUGaWUmoQWyZTAh3//6p\n",
              "lgAFd+AcZV1xVzkwHb31ODVDpVtgrLhdXhx4J/W1RqWem6hS4R4W8AvUOaypOAoKt8XDquVJvN/+\n",
              "k1f8c1wXSw8XlhZZU+J3DtU98y0f9MLJ+GFWyckECPe9BM/FaYCr2nlCDB88cQyYMsAtr8WAAAAA\n",
              "M0Ged0UVLC//AAZfc7TlBKWu7n4ZlACWz0tlTnZ5qdFKEXPnvVHm2YhGlBy6wgHgF5ZKMQAAACQB\n",
              "npZ0Qr8ACK8tD/d+bbWLpLxRn1HHrXb6oIn1L2uDVa7+N7EAAAAjAZ6YakK/AAR2Dme8r0Tm5Vc9\n",
              "gyiNF+HPMF0YZLImr5pTYsAAAAByQZqdSahBbJlMCHf//qmWAALNEYno8vVcWAIZJlIg0eWfA+Wr\n",
              "kNZKKhzt4axxPYWLsWKC0Ot9HhpSqckZbY6imj07fqUEsUG75BmYkke3uM6BJ2MYOfIZO24U4NJK\n",
              "Kmh4Oi4faUy0R51/yya0ShEjqHWBAAAAMEGeu0UVLC//AAZyIxGUBr36AZTgADdZIOxvT4y10ASj\n",
              "IBBR1HSZ0PCoshsJunpmUAAAACUBntp0Qr8ABHeEeSbXx855YSQpKEUaEc97EAIUdFfJh2COcq9h\n",
              "AAAAKgGe3GpCvwAIkqkmE7eye/SMQQXHaqDiKN+wYsPXSEAFAJCFnBi2548O+QAAAFVBmsFJqEFs\n",
              "mUwId//+qZYAAsxeuvt3vQAtm0KKaWkrn/PjpdBN23iEyYyx7L21Hxw1M0KVyf7sZaPAe8odGEld\n",
              "QpEKx/F0rYbMI/uyhEDGipwZ2aDAAAAAO0Ge/0UVLC//AAZfc7TjLITivfkCTLTq/V8aeVq6AD3p\n",
              "6qehBOLe25pLYMZtqxAFLUPzZPxRq/vLVapYAAAAKwGfHnRCvwAIq6JIBOPrmMM3xuWxPD6dM0q7\n",
              "5jEbiYd/C/F3c1rCM97alYEAAAAkAZ8AakK/AAiuwGijyXkAJlsKpQd3LohKnkOlETkcEH6d2Wbw\n",
              "AAAAxkGbBUmoQWyZTAh3//6plgAFd4W+CzX3Afx98kscLbAOnPIFPqoa5/mnWyvfHqgBrH9sOR//\n",
              "BtfGU4ACobq6b65upw68ywZvuBCmnjLPQK0jJ9z532USmjDbSTX1536+2nmGKM+ge4+jgpmkHjYs\n",
              "oP+ZMZ2+KTG29pIOWzRHHLxIpWhdoq2A3aw/WNYWhdmecnVj4BA+/yJEp1ZOtkZTO2y4cPNC3x9u\n",
              "Zuseopus3vvKSYBvtvF6YNwXCETrPsZVyOUE5izNgQAAADlBnyNFFSwv/wAGciMRfVdWrIeHGEWI\n",
              "I7zK/jW+g176GBaF/GcMLcNE2BJ83xpTIs5jQWgzpwZ/GuAAAAAuAZ9CdEK/AAirokmz5fcUkRSJ\n",
              "tWXBjNefNyUvOmcayqNpb6QAcJIonGysubGbwQAAADUBn0RqQr8ACK7AahxSaN+2av2JLqfofh2L\n",
              "OgZZVLxW04eh1yxbfTeL+wAbLRlfOUS0Lwr3wQAAAJ1Bm0lJqEFsmUwId//+qZYABUts4TssjOoo\n",
              "ARiW+EqWwmtwU4ZZsnlnmr/dbjTIkYEpFH4OhGwRVjhtKQ9UCP2/KoK7f0O5O7AyspWwDRmgmuSt\n",
              "2Z3JLxoZQUZCyfn9b51/MQf6K85vpjkjAKXJozFecz8hgj05rFqZMI2YFY43GUR6re/MzRFSo+qe\n",
              "QtrPJQ4pInuaa9yk/4yEv1ihAAAAKUGfZ0UVLC//AAM4nuYRwbid7vqgBHoyNpCZzfajgHOJaREq\n",
              "Z7uSfKWBAAAAKQGfhnRCvwAIUqkmIF8rBV5iotBag4C46bS2v1hP5QAUAjup9a1w5HqgAAAAMAGf\n",
              "iGpCvwAIbsBpL4pxWMYVDDusHVcugH5sr4xmAEI1Vw5xbAbcmlRKrSXtT2w4EAAAAKxBm4tJqEFs\n",
              "mUwUTDv//qmWAAVuizigTf/KhIPMuAENq3lEeyBkIxeeRXjmqpyNvjUmgKIl/QSAxfYdJhAu95tE\n",
              "AIDbezGOs7mSJgenDleMMeOUOb4z3KSj+FToHQy5gbCZ+mYOqdJ5OkSUhLayi8OoR3+vzgeHN/9D\n",
              "2/GXPzgHcu1jQSw6HTfSe1aWuzh3yoidLdTODrF9LkoIR+xuh1+F3MWh3iil/cJSr2l7AAAAJgGf\n",
              "qmpCvwAIbVhA1q3wk0s8KYpGXxVwsC7S3oVPwYVfN6Q44FLgAAAAqUGbr0nhClJlMCHf/qmWAAVv\n",
              "UQOtJ+5swk3FyKw7KTH7LqXRsoq7UJQx0Ncx+6Z2/0ISw8njbOH5gl0EYUTkojAMKrPsX0s6dVKh\n",
              "XHmdg/qp72334UyPSK7Oo1N63jlNNKZXbIDFist+nrdGW6F1PnX7BW7Oh5Oo+JTFMBgldTHgJ9ea\n",
              "mCBadkTze3SJjpKFKPYNW0rp15Ax7WdwC72HjbjFfWj00VA0/WAAAAAoQZ/NRTRML/8ABkj+hpvf\n",
              "bkTbRvDB0p4EYaDdkSxzjlYlIQkVFDZ7KQAAACIBn+x0Qr8ACG+KLVvPqiscKJvPkQ3ht6maSpzM\n",
              "lIGsfTCBAAAAKwGf7mpCvwAIbsBpLOcBlHtSy5lo4N3P80Rf8ijqoFRB13vSADdqLnUpCWEAAACn\n",
              "QZvzSahBaJlMCHf//qmWAAVvTsocGa7Dgm2FZaOkdbkALd6EFBCE3e1f3VJi4AcrBMF8UL/ibZSx\n",
              "COavKb8wxkhyTf0QAtgSJn7UtwGWWIibIQRi+Ht7U7ArUH/rlID5XREXoEUikPGtr7P0yFWOHpcR\n",
              "uGtsowFgXt2poRVqaE7ahaTavzSTnOgdRqjHGESL8cFt0A97MJWpt9MdM4s9U2OlAfBuTPgAAABY\n",
              "QZ4RRREsL/8ABmDf4URkJWvW4ktEeiAHBL/NFsAM3l994+9KpypK6SO3C5Xz+kZ8/zgF6z6yxUHY\n",
              "ZOD1W+wr7os5q5FnvPqZDs4S1+HLLHBQ1VVIjfeuWAAAADQBnjB0Qr8ACKubGrjpnVfPRrCQ3YXD\n",
              "muFowBTIjvDmLt2J6vJlWk4uBrbuComWhCDggoTBAAAAOQGeMmpCvwAIrruXyq6OCFAC1vVrOCn/\n",
              "ctYt38v328EAb2H/4cAYHbecqKLfer7WV+ibCv/PAw4XxgAAAG9BmjdJqEFsmUwId//+qZYABW9f\n",
              "GzktX/TgCWY6mZwc8QE9jWAA0X6neiBSffXmsjHksQeN/eyuPlt4EPlklXvyVfkYq0rcZf3rLh3r\n",
              "QTZOsnmKq9OtO8H//uzmFv9BAmTUhsVmopoJ6Ql6/9NwXsAAAAAoQZ5VRRUsL/8ABklOjg6pl6Dh\n",
              "ryCSePUfdYXi2WY6jMGWsEvFSJm6LQAAAA0BnnR0Qr8AACK2eZ9wAAAALwGedmpCvwAIsI5/qamb\n",
              "SNxbl9ZSaG4v64qfGADZHOlvQFXR5IAiq3zHp0SgqRFVAAAAOUGaeUmoQWyZTBRML//+jLAAFTs/\n",
              "ssfFfcYLO79ltH0Y08eIAGyBkazlsE4x5nGdtnbaAmjCeJn1gQAAABoBnphqQr8AAhskNHOJ3Tv7\n",
              "804qPvqGKuz7MAAAAcNliIIABH/+94gfMstp+TrXchHnrS6tH1DuRnFepL3+IAAAAwAWnJlD+2HH\n",
              "TlrDQABCgACFi9NLLIJk/+C0fASveWG64XJ7D1Lz3fJc/f11nROT1NfNzTCT4S53KGj8hhwLvRAo\n",
              "xBeXpdYnvQituIBtxNb5cXrB3IVEQh5uWJKRvb5NZ/5/d5PLKVmhPOA8TYRbMU7qAnA7MZ5NB46S\n",
              "YVRtDwm7SnEJSqls7qh+8KhrRpUXyCRTGFRcM8pkkZGwINE9mdILPBZSEQQjjqZRMlrw3XSnZkKG\n",
              "av9kvQ1shm6ooZQmEDCuFzv+IQ8SYSTFwQUGsbNxbFyiT4w/F9XcI9o6u9bsmmmGZ9XrX81hAAe7\n",
              "OlnH6nhE9a93IySZ2up3MZBq7bQcaodV2/+YuQtNUTtWmeOVvGbVVRKQOrdb7Wf/zcmC+EaggmEt\n",
              "kMaYM7BFTFNPYh4D776RtNBXeTS/gnXcw32chlNmgJXVQhum+q4sv24wKinASf9OO0RC2RqEkdpJ\n",
              "1+k4NpO76toOjaxts16x6gvo6Hr063cHg1e56jCtaLesGgKTDzartKXj7QQ7fHVQOnD6VLXa+LwB\n",
              "ZtCTAAADACahAAAAh0GaJGxDv/6plgACuxy92AAqiBGvX25g52PTv6ChmTHrTstDlX2UbU1cInCR\n",
              "P593tb3JG8RfnD4Xs995u5Bh5zl2IQhNFXHj1zOHDXc9BTxB/J/3A7XqVnzXEwKC+xZuiF4fKX4J\n",
              "QFxLbrkhy2ai+/k7r0JtmhpJSh+rSPR9X4p8hFZ4O25AXAAAABhBnkJ4hf8AAM5GGl0EIVcJ4VQb\n",
              "TVXCNIEAAAAeAZ5hdEK/AAQ3xRaRbAmzCsR2Cw1DdnKADdvQlV2BAAAAEgGeY2pCvwABDZIaOkbo\n",
              "RTFlJAAAAFpBmmhJqEFomUwId//+qZYAAVxrIUKPdggFrbqBBEzD50X62Z0a9crQm0Sw0BbVjElt\n",
              "8jEz2b+/AxcIGj+uiCvpHs8+H9MfK2w0oNeje1Kb7JSFryUE2pVeBDAAAAAbQZ6GRREsL/8AAZlE\n",
              "gOuk9NHmturHYWacTEBTAAAADQGepXRCvwAAIa6GomAAAAAVAZ6nakK/AAIrrN1hwxpf50Is5kL7\n",
              "AAAAd0GarEmoQWyZTAh3//6plgAFb2M+xLWJd6VzdaSxCjkH2c6j2pszTQr2SpAaUo6Sh+6Ig9O+\n",
              "B8AzG7gGohG0tIMs40QYqb8CNlomiLBEZCDbAHifMgW4MKPQoAEaRzUxCtCtMMICMlqMo9qELG+2\n",
              "xBhSvWNHhFzAAAAAG0GeykUVLC//AAM4pkPVCrQGLQyMj6kGsBa9mwAAABgBnul0Qr8AAitnX1Od\n",
              "L+HtHt1thCTRA9kAAAAWAZ7rakK/AARWQnl4cV58wBc6CHhpgQAAAENBmvBJqEFsmUwIb//+p4QA\n",
              "CsiFfpYS4qAI9tcd6X6DipERgm6z1LQTS3rAlAZU8GpSo2I6iLaEgF+xKf6TQ3xFFXdtAAAAG0Gf\n",
              "DkUVLC//AAM4F/5l7aiz/xnX1yiV/MkGNgAAABYBny10Qr8ABFfBkQHwrFWukgro5E+gAAAAFAGf\n",
              "L2pCvwABFddy+ag5xOTSmklJAAAASEGbM0moQWyZTAhv//6nhAACsiGC9icls9Zq1BkagC8meInE\n",
              "U6UaL5/m7qFPVJUmQq0w/YfW2HJbQwQZS1uEAH+XNhOOM+Q3wAAAABlBn1FFFSwr/wACG7Aair5k\n",
              "uZJbhhJ4DTO0AAAAFAGfcmpCvwACK67mClXt5G6N2S9JAAAAtkGbd0moQWyZTAhv//6nhAAK17wD\n",
              "Ut7S8fBX9LYUARLr1jOLFv9Qm7fT22kcO+iMjcs/zRhF7B4xqkiad2ik+8N81jF8TGxrAYsdNn/T\n",
              "eR9wGQYkD+dlw0aDlNOko7UFB+qYjpkm1f+zzrkVGNGzpiQOrTndMNZHKZ2js2pekRVQfZlk+Eor\n",
              "DMBk8l8zs10T9XuDfEfkS9g80PoLkNnyvOHkDgGqGR4sII3cPpc+K3rFUp6yDvafAAAAN0GflUUV\n",
              "LC//AAZxLOWNmrV/ztWvf89MrCy/NMLfn5HCkFJdBFXPNohDNYwOxUhC5RJADIHTKkEAAAAfAZ+0\n",
              "dEK/AAhvSiB/rlV3GZU9/frgDc2xwROtQeUKSAAAACQBn7ZqQr8ABFR+/gXLA1z6XvGG/whRNPKb\n",
              "dxskc9hnYeKtTJAAAABpQZu4SahBbJlMCG///qeEAAVjzX/F8WdywAlDyTSnORufgkQV2mlxvnzS\n",
              "cX2sF1uWhRI4LfImvwyymVzglPePfCZ7e4LR4jy1gI3Y/G/3Td6seeQ1W64SBLOCU9213oTkm4LP\n",
              "dvGSIj0xAAAAXUGb2UnhClJlMCHf/qmWAAVT4BxlbAcwRLxLDveAEDZzeYdMoG+OL6s9+edqhuV4\n",
              "BCsh8WbD89PIdf5KFJzbuJ5h/UWZ4VRPxYAppCWtveegWyHsknJl//08ffP4wAAAALhBm/1J4Q6J\n",
              "lMCHf/6plgAFb5kUBjaEw4vQyy1wU0PsFUKZwzvqoC1EshPZ7WJwiyZoqQl1F6Hfuyd/5nrYCt6T\n",
              "Qn7vzVJv8BiQArS7V/lkY0X1kGxW/d8MC9cVdRmHjt9ngToMnzJJWlCJQnE+ROUWkdp96m+AtZfg\n",
              "kvML/aO8JON7+quMxmC1dYdm90PTtjyJCff2eabF/atlO9tsAN695uCrSao1FtYjx6MskeBlaH8i\n",
              "bnSoo+2gAAAAOEGeG0URPC//AAZxTjQAZax1D9jw0GkH00+UYzcYUkkIAAmeTKH8xctJyAvsdas2\n",
              "tSTrQPbzR7ZZAAAALAGeOnRCvwAEViiVHWnampEAHu0uqhx2WMkIKkeM5B9A05CN1cVoJXRT/q4C\n",
              "AAAAIwGePGpCvwAIrITy8OJkv1hHAPcRf2XsjANp4lr8VbvtuwQFAAAAY0GaIUmoQWiZTAh3//6p\n",
              "lgAFcVWpwN9fHBjiZ7oihj3xIILcbcoc4ain8Fv4GAEWi1tabN1ARhI5YuxOVETWupY6hNyXVgkZ\n",
              "w+z5/6bmipwmopgGwRK9NTr6fcNDMVJ+pwpgXQAAAB1Bnl9FESwv/wAGcDRPNTKsGufsa6oA5cLi\n",
              "ufGmFgAAABoBnn50Qr8ABFfE0fQ6Souxp5hhLwaWRtU7fwAAABIBnmBqQr8AAQ3YDxmS71sMGKMA\n",
              "AAB5QZplSahBbJlMCHf//qmWAAFcXWriUfBcy2swpSiYbop0fWarcIpKwr1xZ9uk+L4tZTFkqBLQ\n",
              "dhnFzTSysMTGc6m+/JZgnd3SJMd6Y+XcPVbpHPeexGugpA+1vtSOwRLzujoxomv3d5/a/CKVbhcH\n",
              "swrSAF8GxXz2QQAAABhBnoNFFSwv/wABnA0TtVT6gnYG4P9daYEAAAAUAZ6idEK/AAIq6FAnHA4m\n",
              "NyjIDTAAAAAPAZ6kakK/AAEN1/xeipQwAAAAe0GaqEmoQWyZTAh3//6plgAFb1Qw23V98AAupg/R\n",
              "6KFIgDQ75OVnvboli+OwYuT9LwcvG/E3sz6oJgHNA80GfdwSyV75VrWmZoeF6u8X8IwJsoUoGXaE\n",
              "oB0/7Dxo+c1wIlgW8mprcaLLm+75SlyByoATv4M0980XPs1p4QAAACBBnsZFFSwr/wAEVR5JdGjD\n",
              "eUDyDXOoisrqAI3/Tc/iwAAAACIBnudqQr8ABFZHfwFJ9fEWz1FY0vm8Jj7S/Zp5wydbxb2BAAAA\n",
              "hUGa7EmoQWyZTAh3//6plgAFcTmqn+apCGc/MmgA8ZGyZPbetIUxhvTuKvMvA3+qGVLW/M7VTv+8\n",
              "KuBky0nD7fbhUop4cYgaQuEdfQR1+Ae+VxF5zgdckpHNMDHwrvXbO4cNiWfTvRfDPh7e7j7QwddR\n",
              "4zK37we/wVO2VburXDjyvzMWgeAAAAAuQZ8KRRUsL/8AA0yj2cvFRtJTowBHFVbX/I7FamWGh4iM\n",
              "J5dZABqcLiHzNM96uQAAABwBnyl0Qr8ABFXQpQu64/mmJNunjOuhIZpKJvcBAAAAIwGfK2pCvwAI\n",
              "rsBpj4XKj7PmAAVLMGbEhTXjwrOtwME6haCBAAAAj0GbMEmoQWyZTAhv//6nhAAKxhkvZBXIMU0G\n",
              "2ZFWv7qD1C2z3PTUQq4bfpoFQ18QD+j6jQF3V+xkWARG3O3flKOAaz7Q3iQSmPfkhHDcPsXyUEbY\n",
              "M3sv39Scgr0ugozJ3I6lQr/PdDb+X3s7by1sBIkJQynRGBjv5y7ml4Rlmc4YZKQ/3fyyW35T0vre\n",
              "3S2BAAAAU0GfTkUVLC//AAZfc5Qcupez7uHbbSbOxphiGAGmiitkxqgZBKeTMZNlWXiDfFz8a11o\n",
              "RZElBjMFFM/sUpeVy0gDDXaoOKMxgbjLbVc7wzjG2PvAAAAAMQGfbXRCvwAIq6JC5PqsEGDACbns\n",
              "Kf0MrtSBDQkXFlHhckgqKQsZX03eY5cBC8H1jkEAAABIAZ9vakK/AAiuu5hZRo635xOj3bgBNKnS\n",
              "rxWPwD+Isk2xge+pYaZlf73xA1g4Cmj3HsqYlEv7oqc42/95OSZnFRGxVc/ZflTBAAAAYEGbckmo\n",
              "QWyZTBRMO//+qZYABXGPnac5CwAETI+t3T+CGg9imfF8KirsA0PC0FfL+legl2TIh1xje+VRgNEF\n",
              "I3d5GKM/JhX1pw4ZDJV9HI29PQrEb39yb/TjeQGwx7BVYAAAABcBn5FqQr8ABFdf8gocW0CuRnJ2\n",
              "+cH1QAAAAINBm5ZJ4QpSZTAh3/6plgAFb1Qw23KniJZADi6uNvqEDYuCIj1QBNXFnZzenxyuDGvJ\n",
              "EQ95Hk6/5MhZzUDYKCXxJB2LN0EzsWH2SnJr2KSVrIJLc/mbcU/hLREWMsL+W1QkyM33F21CWFyK\n",
              "+Z3jr1389OWMdGl1PnWd6UMT1Odv+84aEQAAACRBn7RFNEwv/wAGScYEjXjvU0JyIJY5buTSrg4+\n",
              "4FuYxQ5EyVMAAAAmAZ/TdEK/AAhroliRRFfpW68KxSxxCIoFvWmTu8Ck64qL2xMGVIEAAAAXAZ/V\n",
              "akK/AAiuu5hajBcWjDLI50YHTKAAAABcQZvZSahBaJlMCHf//qmWAAVwJ1ncYkupPr/uo0eMqbAJ\n",
              "ydKRj52Mq0LCKz2n1Ud3abvU9jlUTLnR8K7v1Mew9vV6gi9U9I/Xr2fgcDWDO1uUe6wTHi3Ku/Iq\n",
              "Mb8AAAAiQZ/3RREsK/8ABHgyvYMkUNfllkf/xKgAQ+hzLGED6TZVMQAAACEBnhhqQr8ABHddfCep\n",
              "OsOIfQp9TAJeHKxroOnPPdzMf8YAAACbQZodSahBbJlMCHf//qmWAAVv1S4E1SMLqIABWG7FjBFg\n",
              "VfRdl5q1TSBn1L/3VGCWOH7C+DaJZxL68ml+W69tJjjCHDNn1WpHdWF9qMuKCBLF9Z3KRsMCYw8J\n",
              "m1lbKC9ifmxufj1aw/yJkPhMbQQHXlX2Sr9EMTmEjD4DyLKidJ3145GOuXq8TuKei9O0+pKFS36/\n",
              "41PSzuh/BFsAAABFQZ47RRUsL/8ABnE98OTockZYlNYGKw0rG4ADaBQElC00S9zrdjOzGCYhOL+/\n",
              "1t5p+fTDru4Bkze0gUkxTRP+8H89qcBBAAAAKgGeWnRCvwAEdcxmi3syhHRdFCXqADzU9WpDcaDR\n",
              "pMhmHLMqqfIx5tOwQAAAACIBnlxqQr8ACK6cGJjyjzODCumlsk9qso6gkK/V+b470rrRAAAAoEGa\n",
              "QEmoQWyZTAh3//6plgACumzGkgAKMhNzi/nWAzQTv4JMg3f3levOV2DzJPcM+C1JSHpxpTmU4oz7\n",
              "uSCTgz+gz/0AW8SihIz357omLL+3mPc5kzk3/qzcJaQx8gwYqoL9pnYeWK0sBSVRhzsRV8NoqA/C\n",
              "p7JP6++HgyAOPXwnUulP6EtUf/w/a8C0i6R93+HHJgmT+qc+abu42t1JEWEAAAApQZ5+RRUsK/8A\n",
              "BHgyI5CUt+wgaWGqcRQSlGUWa6MKbIzugqtGwnaAi6QAAAApAZ6fakK/AAR3YC0dOn6wZ1f4QgPE\n",
              "KBgbmX58mCY4FABdHO2h/tBw2MEAAABQQZqESahBbJlMCG///qeEAALH7woZav/avWh4JkNVPoAU\n",
              "GkXRZqtYtEitpSULniY5SXhcn46P3fjNmEGpQ7PEq3/M/k2qiRyPqGUtyMOatFAAAAAmQZ6iRRUs\n",
              "L/8AA00Rh93sw8mEAy2eB0dzTcjBT59NwiN01VNiLEEAAAAYAZ7BdEK/AAR10R0JK55H1pUUaUof\n",
              "UcatAAAAGQGew2pCvwAEd2AtKHGzXPxq09knZWkkXewAAABzQZrFSahBbJlMCHf//qmWAAK3Q2bZ\n",
              "U6rxYAqwZAy4cirELCmneV62hC0kbFP1nryYzAGbCZnYW5icTGjzAmiolmT0HVoS03cw349esaJe\n",
              "VjlQZF+1oIbKpD69iDNt+e9iTlW1S3vpMu0bkIdy5dlBlNxnwAAAAIJBmulJ4QpSZTAh3/6plgAF\n",
              "b8WvL555tsTavGAEY0f60nSKxaFP/loTySCMT9ruua9CvhH8JlnJDOL/Y/4uEtiKNhhp6w/CxEpM\n",
              "hbSA+HZ5W6BKJTH+ol8h8TPOK9CMnJWMyugFp5lsnGuJUEHOA3QLdyLQGcXe7Wsn6P3kTK4B3VNB\n",
              "AAAAKkGfB0U0TC//AAZxTo3tABNPM0fg8X0p+xuxBwUuCSlUMgxojSz4KcjFgAAAACoBnyZ0Qr8A\n",
              "BHXRGtKltOY/ZCCTFyoNFg2b+tyeHK0hABwYZvEKyAfQrJEAAAAXAZ8oakK/AAI7rrHvevP0agAP\n",
              "RHuxxUAAAACCQZstSahBaJlMCHf//qmWAAVwHj7QSEGDwFAeyvU/C3FTUFtzKzr76x65YYD5o5P6\n",
              "QvYZj4C2gz0GJ5vKJg9FD3I6hsscLgCpceiRI5UvJQH3mqUb9v0V4EcDi5A1Tve/JvYhH6HJwYf9\n",
              "XWE4n7wj8+BjnYENqRbssK8bHOP4Ca2/wQAAACdBn0tFESwv/wAGb0ZkPdtgdQNq1iayS4mgP5yr\n",
              "Re+wgECTpf05H7EAAAAbAZ9qdEK/AAiroUFIfy7B0wpRC4UpsfjZ/8CBAAAAHAGfbGpCvwAEVkJ5\n",
              "jET9TINyLVSFAuw41Gyb420AAACDQZtxSahBbJlMCHf//qmWAAVvPwqwLbMYvssGhxAFaguRBWdj\n",
              "EBNzPUPLi8GFAnt7ridIsZICf/kxZ9nOu/2aqSQqNFtwQ4fQlspjsfAbq2dq3koMGQTZN2NmANsB\n",
              "T0ibz98oa0tfe91InJwtCGqsqF+8K/tsi1sEcXjPKkZRCr9W/8AAAAAnQZ+PRRUsL/8ABnEqo1ym\n",
              "wo4FS0rQFT39Jxq0BOmVPrM9zovSxi1gAAAAGwGfrnRCvwAIb4moGCDuTw0KvIl2MeEFbrkyOQAA\n",
              "AB0Bn7BqQr8ABFUfhE0OZtnTeANud+j30oAf9itvsAAAAJtBm7VJqEFsmUwId//+qZYABXfgGzdp\n",
              "8/mN7SAFlnCs3b37BzMNkdfByczbQWq8p79I4JPPh3DQKAnulI/dm4GwC4VgmSFRHxU9Z5zvnvQV\n",
              "bdPOgHVz32cafm1AhSh8jSgTtcU2PjS6ijTx+fFzWWqroU4ENN3ANE7iaVEVeIXy+OuGyQTa06L5\n",
              "/OXJUcUdAJKWgXs2McE0wj3HQAAAADBBn9NFFSwv/wAGcC/7xXW90MY1Tm9nWTadBSVRQawnVU3d\n",
              "2OQAe9R3tZ28rByNLRsAAAAuAZ/ydEK/AAivfsbQQxPonlU/vQvh56nBFfdX4aOiqADmgAC+upQC\n",
              "bOYpL/f6CQAAACIBn/RqQr8ABFc3SSOVyFhUedajVb6FIeZ+xwDM5YNNeNBBAAAAYkGb+EmoQWyZ\n",
              "TAh3//6plgACuKJX8QEKgBwn6QBXzp6fQC2orvl2wjIihDlR7XmpNaKJMyb0NZw0/gmaR3Jb9NgI\n",
              "ivqXI+5u/wXInRlyztSZMvyS1hORp0iBuu6D9U0ORWQQAAAAKUGeFkUVLCv/AARS54giL2av77za\n",
              "yQTA9nXZxO1IRErKrqF59oVxeNBAAAAAHwGeN2pCvwAEVtOINBMGs9R7bUaCyXM14Kb6k5bxgYMA\n",
              "AADTQZo8SahBbJlMCHf//qmWAAVwRbGoDG1DA5TTSuc0n1tcxPiUvreD/R4AgaQTnAvp/5vIYCV8\n",
              "DElcE/ZF7GdsTFnalaBVqvHw/eroYFYXki6iMKTOz00iAM9rCBkTr4zRqDP8eFvI9sAan/PI8Pca\n",
              "QlOgtogWiQgDFJ81QiFT8F/SBzzfo6bN+PngSmu+t7xqmCwba1kXRQFMDA10MoIv1F0OBWSaqWcc\n",
              "okgJuirUNP3Su4yTteuCr+gAEKNUCtWgJ2Da2mdwcSOdnRKNBSp4u9+3gAAAACRBnlpFFSwv/wAG\n",
              "cC/7v5f/Gao6QrH3p0l0/BAOvhC8FyldGuYAAAAnAZ55dEK/AAiwWdvOH+UmxayW0B0RNM6IBYoM\n",
              "+DYJf5RI/cPWJWxBAAAAFAGee2pCvwAAjshOSVnaZDnioAVQAAAAkUGaYEmoQWyZTAh3//6plgAF\n",
              "b1XWnpEiQaeWAAccAACRTzK33HXzLV8Hepd+svnr4KL2SSGPOi5geZPDNXL7ioqfD4GX55borQqE\n",
              "+N5WtgC7Upu7u0+mW3cDk+MgZqUdpk3EQukioqgI2gH+1lF1WTJinjHSlv+IBdK0lSJy2ez17hJu\n",
              "l+roxUc2wAzFppHTgEEAAAAoQZ6eRRUsL/8ABkj+hqJ6pPPZTn31B+LKnDa2DJGVu8gJlaqIqy/J\n",
              "gQAAACMBnr10Qr8ABEdW/MvN26JwMkXdoMD5TgWDKcTDxcpDccVLYAAAACsBnr9qQr8ABFZCeY8L\n",
              "rE6l4+YpSeg7OW+UNHnGQAEEQFQnlqzccKtSyVdtAAAAokGapEmoQWyZTAhv//6nhAAK1zLtME8l\n",
              "9fVNWAgqSiNAEJ5dYZx/kEskDISbAAyyxI/l/X5VMFWvRenkelrYBPck/c65Wf3X6mdekq99u+QB\n",
              "alcxcgdCQj7J7I7rvcD/Ni3cQ5ruIfpWN1Ew+1OTCGAxqYLy9+T3mU/jxMJWGl8NLWnueAcy+J27\n",
              "ZXOHrK10W4Nf9FgOa4WRExHLiywCr9wUoAAAADdBnsJFFSwv/wAGcS+VhGtC5n8fyu0ZV7Jwm6vo\n",
              "UCIZcCf4hWUDiKp7E6f7zJrOgAAQR5hq4o3BAAAAHwGe4XRCvwABFg+u7MZVv7V3gAV5gMuNP0oq\n",
              "KELR8tMAAAAqAZ7jakK/AAitfhJlZJcW1FMw5FWzEy8zcSf6YWBlAl1HB1UtQdLjSeaBAAAAbkGa\n",
              "5UmoQWyZTAh3//6plgACt/BzAQiLVcmsTNLvuDhcgA3m+bvfarD190huaKQMaEQO4XJ4msJsp7WJ\n",
              "8QDimt7gJ5dfccmndJxw52Q5y8dtN69tok3WUqHOeOC5wOiWl+FIOoHKYT8tc/s5JeqAAAAA2kGb\n",
              "CUnhClJlMCHf/qmWAAV3hb4LNfcFdXQph6T6HiDqa9a0iGsl8RO3RyIZhALLGRgQkbA02UQd3dK0\n",
              "5QD7jbQE8Kr7kYtVu3sun0Kpyc/n49228QYXvBDZlGjXi/ituK2t1+TK0wFQJ1wEo8YGzw0mESl0\n",
              "P0/wW3MaUShDB3YG1BJMU+KpsvllEuTQEaq7KJHExMZC5Tso1wop4mF60/kMqJVPSWztMGQ/rF8g\n",
              "ObMtp+VzpymoGL03psVzr1OZ2zVBfvotEtdHp0kUk5nibD5/sGk8K+hU94l9AAAAIUGfJ0U0TC//\n",
              "AAZwL9Ie5BZgCC8cn9GBQIjJN8esjWZ+wAAAACsBn0Z0Qr8ACJKo5/6RHYNu+s0LaZc6H+eNSEH7\n",
              "agIH9U/ei3ZfpZeLnoGFAAAAEwGfSGpCvwAIbr/PlG7GFjCeAiEAAAB9QZtNSahBaJlMCHf//qmW\n",
              "AAVMHgpfVp3ACo2//Wiy90G0ARXbCwiy8dnUw4FMu4y9ulfzUBnr61lf7I9vAY8ETX9NZ+cTdPwI\n",
              "avxhtmYq15s56LAzxq2uAmVoBq6X5RqKL6wCgU8n7YJ8P9QrQm+4IXJRnTKCV302/5zi3/kAAAAp\n",
              "QZ9rRREsL/8AAzeMSxlKxltHxYDyB+kw21w8CAAlVNU5ftYWeRuOSpEAAAASAZ+KdEK/AACOunUv\n",
              "TbSEzyARAAAAGAGfjGpCvwAEVkJ5eHFnRFYMPzU9wENJgQAAAHpBm5FJqEFsmUwIb//+p4QACsZD\n",
              "1X9l88AX4BTkqfyYs5XXZ83a3Wc3Z6ZQlJ0Ofzbwo+eNEmU+Wy7OFHaVqKGbCwNQfL7/pkvu2gUp\n",
              "qFa431MBrtiTq8yMkA+p4iz8qfh5jfWV3FrbUwye98GKGIKmYRNdZPu3OKzX6QAAAClBn69FFSwv\n",
              "/wADN4otUymSeL3u9h6Scp52P8XFZZyZ8tD19pB41AZkIAAAABYBn850Qr8AAirmxrMF3yWfFs8C\n",
              "AQgRAAAAFQGf0GpCvwAEV13L5qFxWRrlqbBwiQAAADNBm9RJqEFsmUwIb//+p4QACsd+3InxZi/L\n",
              "l/4AnoVXf5mHrFLqBC36oalbtLAREVEJp94AAAAfQZ/yRRUsK/8ACGyQ00MniVQB7ihkD0NOTjjn\n",
              "hYLw2QAAABoBnhNqQr8ABFZCeZAyuB9Y/dAr8QaDbLPfQQAAAD9BmhZJqEFsmUwUTDv//qmWAAK6\n",
              "/qN8NWtBwAW567eknJM62TkrjzYIJ+P0TNev5TF9lt/W8ZLQzVHyFdoli8EAAAAVAZ41akK/AARW\n",
              "Qnl4cV59VtefywIkAAAASEGaOknhClJlMCG//qeEAArIdFGfOy/Twj+fDEijHvCjQy7p7Fcb4hwy\n",
              "7AmYDMANFvxYvZQmUigAJ9DOkk64Z6pDU2aXsya57QAAAD9BnlhFNEwv/wAGcABQ4dM4JzpYnaO5\n",
              "uh78LoBAX4Fm9g6PgATk3eTN7CkVNIQH2wj8JAW/EWbq1Vxw4idqoIEAAAAYAZ53dEK/AARVzY1m\n",
              "CzoXajh88i8lr0uAAAAAHwGeeWpCvwAEVtRxXRjH7CwWNPQLS4+DKrq+5ksc4yQAAABtQZp7SahB\n",
              "aJlMCHf//qmWAAK6Wtu115Wvo4fpA1moc28AFqGqmuv9UUC9X3IcjlD5lmpGmaRciO/7WRV+hiYs\n",
              "jmfZRY5xm+nj/IU+rxGc2UhVfTevuouYYEDO/YT4uR8lmkNTa4HYJhWbSqGgwQAAAK5Bmp9J4QpS\n",
              "ZTAh3/6plgAFd+AbN2nJN2vbDPMGayiPBjxhypkXAAHB4B6s72fvSn/G34Q7wAlUN/hKxvKHoLwu\n",
              "cWikJSMucItmodTxiDqfvfJbrF30wzOWCBtYXI6cNnzRyWgf1XLFLHfQefboqX250wYkBVnkHhXa\n",
              "fBxN1h1Roux9EMmM9jUhSan6+d9WH94Lq0nRCpiypSXeBuBAuKRYbpCCwjRJBgaEya83LDgAAABP\n",
              "QZ69RTRML/8ABnAv+7yA1FibOSqnPAgBthH7P9SmJFvlX/umgqhbYuQZ9hDnI+fPWgYgwIdqpK7r\n",
              "/W3BUI1cHRHprh7S7S6kjx/kq9pcsQAAADUBntx0Qr8ACKubGteiUmVQcAAlKHwqGfrYgdhF0yFR\n",
              "7v4DwnMfo8RznHmctC3XCS7ex/RneQAAAC4Bnt5qQr8ABFQU4DQJ5vspB7+ck4QQfGoACXI9f9nW\n",
              "r13QsX5J7OmR8BVNgNQ0AAAAtkGawkmoQWiZTAh3//6plgAFcivGFYgGZWJBIAUj0OLyimvGrtDz\n",
              "dlwr6TF4iHTkaQvowFtG1kcY3ncHQGwXgackryjQpQBXWmN7IHDSFnwOz+UwH3ohXE3uIX45k7Lb\n",
              "K3RpoyxdkfuX61MUnKlbQonLly/buOTNbzc/3OHVWv3TsyrugdzfluQVmgKu9WBTBj9fiCbbwXFQ\n",
              "KnIMM63lEvFJbOwqt2Wi7FlmK120MQ1yhc4+iL0VAAAAJEGe4EURLCv/AAiqroDo4mWe9sgor3SN\n",
              "6saE6Sc/D7Qd+uLbJAAAABsBnwFqQr8ACG1YQMBSrLEXaykUwSjKlFSC5sMAAAA1QZsGSahBbJlM\n",
              "CG///qeEAAp94y2qumNwaAbgAZZsOWUYNU3n+wwTZSZVn/0Elq4mFq1NH00AAAAaQZ8kRRUsL/8A\n",
              "AzhjhynGrP8UHnf7iF/04IAAAAAPAZ9DdEK/AAhwN4URzcT0AAAAFQGfRWpCvwAIqyoKs9kMmzm/\n",
              "kB7KQQAAAJZBm0lJqEFsmUwIb//+p4QACsYTRIs0SIEuNcTHABwAg7fTzy+34CUHuH8EwpgUTREX\n",
              "kPVm/Q7whLu7HaXILtvBsKfX/7MJcOdqK6k0sy02BphBt9RZDRY66XUNGXiKCotw2F4vZTjXiXw4\n",
              "UXLx5SjVi4yvesJIcuYFjMM1pYQVppsETQwVu5ON8ctBpb+2zyJJ6a2G2McAAAAnQZ9nRRUsK/8A\n",
              "CG8kICJUSn3XF7ReFOMb+PaCbWrjKZ3UPWt1nMUBAAAAIwGfiGpCvwAIbCFUYCWrRq4Vc3K4hEwc\n",
              "L9ZIu8Kct7vRu2vAAAAAnEGbikmoQWyZTAh3//6plgAFS2zhOkth3dl55rY6YXwAEZ/pESvy1Avt\n",
              "6HNL0ev5VqI3rtsHSHCRXLM+z8sJJlIUvfBzZlwglF48r4P7odXuby7g/DZkIY2X/cSKOv9UE+hJ\n",
              "xRIju4UzBUFgiu8Hx7w3uauX5gh+ilIxlXjlVNEp5QIYQf6RUPS1sJnzXAElp7Dt6W6fob5V5rxp\n",
              "gQAAALhBm65J4QpSZTAh3/6plgAFd+AbN2nIqXmtEgBaVF3HxK7DlyyeaX2HyDXNtEYW8CjWAyFh\n",
              "QR67n6bCaampUbFgMqE/7Ele89XAaS5hyKhkT00/obOFzhq25QhClGzXyuAM0MK13UGFvTlgYMXh\n",
              "QkIRMtWRj72zZI6UCfEMrOy/cDpLRbSczOdd1CoDOv+lQdyNvlORU/TIi6uROt9BIgQ4MIFoTmmv\n",
              "6nlrJaBd82Vhm2XH/QNdHq9BAAAANUGfzEU0TC//AAZfc4yEEV76qDcIajcptfqBfQcoNzIEO5MR\n",
              "zGAWrV6KBW5GP0twJ5B5ZKW3AAAAJQGf63RCvwAIr37HLZXES08gA6oUa3PJREpINrn+Nfbt825U\n",
              "2MEAAAAqAZ/takK/AARW0xF7399cTJ+Ytmbfk1Pq+TC71e7SxNnOhDB5R7i50xeaAAAAokGb8kmo\n",
              "QWiZTAh3//6plgAFcF12gVGhJgL5GjEF/CveKUxtnjd0IvTnL1KFCxH/wWE7Mgl4+Gh7JM3Wioy1\n",
              "Tvccg/Cnj30AkTUUJgMOBt0AGlwTk8+YiTV5driNT+N0mjCJRhMPsvQBXVL6ielz8ZDijFJuDcBv\n",
              "9VJeD8sYf8H2Ck1gm/4twQQrgiMqiLA1jp2f3ksoHfuYWQ5hQ1yifLQijgAAAElBnhBFESwv/wAG\n",
              "cC/8FZVt/JPLeGFCS9VFPuPl6alJ5IDjkRV8uVOzFt3j6CSYMstqzpPAACBgXU/F7FGvkjT1Cgdy\n",
              "lg+rXj6BAAAAJAGeL3RCvwAIq3pENh6KibuLknbIvF5+T97q9U3mnGVHGKViwAAAAB4BnjFqQr8A\n",
              "CKxDba7UWLPMHnoxgHa3WPw2e0hAYHAAAACFQZo2SahBbJlMCHf//qmWAAVvbOCIuioAVx9L8yxr\n",
              "/4cuszsXsQzNS7Cjt2DlnX/z3TZFktiJ+S//g189ZeNUjGQndoLPzz2SLERY24RS1N5s/l1Dt90S\n",
              "r+ADPtLbTUIqKj48e2Ytzmu7Z6pBQHLF1TB94/4TVdTBYrGfC8S1lgjiM7lQaQAAAB9BnlRFFSwv\n",
              "/wAGcDROqGt34TMKdiDZ/2Ew+zaqoHPNAAAAFQGec3RCvwAEU5zzJkMqPnQoMZrvMQAAABUBnnVq\n",
              "Qr8AARWQnq1QNdbEq7aLYzYAAACVQZp6SahBbJlMCHf//qmWAAVvVdnj1NH+xuLAFUpGbuEkJoHa\n",
              "ZUZgJKLcQV76tTuLKYYu0TcaYHIC5ySvARQhA8SqsJSKhd0+TzodamHXRFKLQAAEl0IlYb01ZlNg\n",
              "o/P+qAeajXfW0cZLFqU7yhUXHtpWz+EWEiO5yMpUiOmxHwHf9/+T0G8m8xFXN6of/tQdvX2E+SgA\n",
              "AAAnQZ6YRRUsL/8AAzhjEDwmUdofJzRs3rxENpHIYFjGP8QWNQmsmpIRAAAALQGet3RCvwAEVc2N\n",
              "a+cFX4XInhOc/6QaWADZaWBbF2Fyr765KDYg2qJwvqO2bAAAAB4BnrlqQr8ABFUfP73pEU1Coq6O\n",
              "UMfQTSe87bboXSAAAABoQZq+SahBbJlMCHf//qmWAAVvbMhxb7XMz4AcZ2+0TTYLlK5MmiILF8GL\n",
              "ikum7V0Tv9+WMQ/uPbCtixhgXXnbwcdIpLyiYB4Vdg7RC2paVoa9hDl/H8ICD/LuePy+s+Alxv7s\n",
              "cycxooEAAAAcQZ7cRRUsL/8ABkg1HBXH0s5hoLbDJzbA9sBsBAAAABgBnvt0Qr8ABFfB4+TPhl6w\n",
              "+rFTrmycDWkAAAASAZ79akK/AACO7FffdTrAFmVJAAAAj0Ga4kmoQWyZTAh3//6plgAFTFj8J15y\n",
              "0angCD6f13mKT3cBmfycMtsnvrQITLyOWjlCZJvpeXE3IJxhzDTJMhAIu1Om6RIkmsZXLZBRWnXs\n",
              "ssXEuUNxSFYkzqJ9+ZMdVZcUAyiEvMARMo9GgDcZSBusZLdaHAuQQYhr7zOssNJph0lZW9mfyIeD\n",
              "1ZoJA2IwAAAALkGfAEUVLC//AAZIEYIvElLj9xDwF82tjXD7EnEl2jGI6oQN3hyNcTJ8Hzp41IEA\n",
              "AAApAZ8/dEK/AAhroe5RKOX5HsjRFd+/EkWIksJIR0qW0AHFKVLMpnGRRWAAAAAcAZ8hakK/AART\n",
              "qrAwCWC/GzN18k+yt+QpOL1VoQAAAFdBmyRJqEFsmUwUTDv//qmWAAVMJ1zugLrtSPy4XlF65smN\n",
              "YBsaxEHKVOkalBu5ikHVPFgae00wXscrkdZo6breQP7oySjtggmJg55sGRLCm6FWAC59Qx0AAAAV\n",
              "AZ9DakK/AAIrdCb74FR0jFfpL8OMAAAAkUGbSEnhClJlMCHf/qmWAAVvYzRDy9zBoAbkC7KoU7G4\n",
              "ZSp4Mtv94Nu/wlmU1aw4/ObbQIUH4LAhHJq+5fW+cIArE4UgOM6gcg7jvQbpY890qcZ2uGjPV7IO\n",
              "fiE+glb84F0w0e9jaAzRStFTutjca5uKIHsDKpTSMj5CUvjU3cIXtvL25LxGPR1/y05oqiNanDQA\n",
              "AAApQZ9mRTRML/8AAzarRATxFrWiPL6o8jax52MXf7sBUN14LKKFAxq/+10AAAAYAZ+FdEK/AAIq\n",
              "6BTo9KbyrvPjCsiAyO4MAAAAIwGfh2pCvwAEUXbkhhr9BEIVTUKbwnMJJ91tK0vLvt0LHOcpAAAA\n",
              "uUGbjEmoQWiZTAh3//6plgAFd+BR/f56vlyLdeHgCAZiIa6cQxScDsl6JBGvnkA9+kigqfoYtKtX\n",
              "IiiNJxYdtgdbz5Zgh7f0mQDUg2U2V/DCbf2oHFMargaKJxqeunKnD/MpoqJzqaOgV4GoLjKe2kUC\n",
              "DzQXQ+qtGR7oCngocxUH+IC7Z+CAfPFWC9iGoqsHNM157Ru5Zy5DRrn0kvpHvxfSc3bHc4P/GIB6\n",
              "8ca9rema7Z1ZbomJEIWAAAAAOkGfqkURLC//AAZtywQG6/FcGgNX7tK4Bq+ClBKaf8z2WmgKHqT5\n",
              "T/zsHcXtFl52HKnfNtJkQiGECzEAAAArAZ/JdEK/AAiroR6vO9i+b9A9ZC4mlGNMBY4yuEWIAQqd\n",
              "y/o1hCWlFRj74QAAACABn8tqQr8ACKyHVaZM/iSJUrj9UlPeplEyLC9pYDDJQQAAAIZBm9BJqEFs\n",
              "mUwId//+qZYABXBTj63OFA75+AATsbAwhy1Oaa3H7KKXO8TSnqutoM0PALF2JTjZBE2291lmWFwG\n",
              "LQY+D1Pv0ESwPkreYGrcXHr5E7Gbhj2D9P36AHqzFPfwH5J8KL+uF6y0r6j64a8fFV051VP3kTuE\n",
              "4o9mRVD/oRdBSWQ+3wAAAD1Bn+5FFSwv/wAGcUa/3AG86cJlPYCGF/I/b0T+QASvqdRB6FFhlF5o\n",
              "AXULcFBxp6aNnMuZvoASjX0PLwV0AAAAMwGeDXRCvwAIa6JIFWT0K9PM3QtFOhQACZcbpPig6oHQ\n",
              "suVFKuypM0QOVK1wwwb5o/gIuQAAAC8Bng9qQr8ACK67l6RYHMnNoDWqiRyHi3kE66WVzqgAIaTM\n",
              "zit6Zg3u2ic4pVMFQQAAAGZBmhJJqEFsmUwUTDv//qmWAAK38djnAXmvHixAEL2drudpLUOK2aTw\n",
              "RdqElLQCdnmiFJluqxAKFwb4L8T2eQMhmeh6vBQbWy2KEocgD+ZnVrgZXA5j3KXGA/eAlD13KW1P\n",
              "cw+AZZAAAAAXAZ4xakK/AAQ3YDTHFy2FkI7j7HUB+uEAAACoQZo2SeEKUmUwId/+qZYABW9ACA6p\n",
              "2JJDE1ABdU/eGYNzS7ni3XGkJMz51Hr8ga6maH4ua0J8VkagsVuJAQh2Wkz3a1/IA39Om2G8FUuY\n",
              "547hunDONougP56PfRsUvR9szA3vVvczzH7HI/s9Pnno5qdYehQQZmwvqzLp6ECJ5n8Da47gbpFy\n",
              "ac0AX3KoErWGCynceXE7UWO9YvLt3OKMIClEBrX1kVWBAAAAM0GeVEU0TC//AAZcavbORHJh0TOJ\n",
              "qcuWAbndx0usNACHjGpQ4Btb5MwrYywivWDk6G6HnwAAACEBnnN0Qr8ABFYjIrWOczjTmAbtr/C8\n",
              "a9Jl2x8It9EcnrEAAAAnAZ51akK/AAhuwGgb7ASkcNKu3VJR1WXtt1sDy/t/LZEt+mSXk9mCAAAA\n",
              "tEGaekmoQWiZTAh3//6plgAFd+BR/f56vkwxU+AwQDMPwqACsPbZXfsVfeFlQhN9VXrxnJxRiBCw\n",
              "GGxfLtobOcPlXF8KI2vH0zGhBZblpZagMfmxgyWy1quLToJyhpzx7rMtfihak1ukas5W3Fy3lGHn\n",
              "jfaffJLIPerf5EhainWQxF5gcZCv9CAed7UY0YjcxpxZbZ7+a7vfmd5RUooRb89tC1ADtllT17Ac\n",
              "guwJjAviGoEv0AAAADZBnphFESwv/wADNDlAK7NnYgsP0F/wzAnmpnekqWMDAB4DzACMd6HY8HtW\n",
              "h6qIgtCywJk9VMEAAAAqAZ63dEK/AARWICOzeYKEES2J54ykAATjV4VxpDUG7v9sOSHK4C7dL1wE\n",
              "AAAAJQGeuWpCvwAIrITylQNYxawRspcUxI+XFhl0oj3lByDiGpnScrAAAACYQZq+SahBbJlMCHf/\n",
              "/qmWAAVwXXaBUe8706k0O0vE1+3TFzm1xN7vYUuVfkTM2MqWTu8MoEZXLtset/A3WfZ12oKmXciq\n",
              "IacOIzJQsS1ehcD1imE3aUmLfWSZXRBbuGecOk7/w3BWZLva48YNhBybSONPXzv/0L1Oi/LZU4qU\n",
              "a/4SFUHB+bHyotjmKlo0WCWVrF0HiJygqMEAAAAzQZ7cRRUsL/8ABm+Ey4ZD20RhRVCl75GF8oQA\n",
              "q8C9bRIfRGA/FGo6pItHkBqbk52oysmAAAAAMgGe+3RCvwAIr4Mh8gNUxXA8ovDUAI3tVMi6iDF9\n",
              "i6QsvlCR9pr4Rj+pcxJgkw51zlwhAAAAJQGe/WpCvwAEVj7m76YKBhPQDXmjuCaQAbLSwLYuwuVi\n",
              "cYq/NqEAAABfQZriSahBbJlMCG///qeEAAVE5uPXpn+UAN+gt7WoXk287rp1nU2lWAIOMvsDdZys\n",
              "S7HxytxB7qpvWhWsGgMvxv7y3B6neMrexG5vMGsrjGooBWnmmSIuqe1lkQHmCcAAAAA7QZ8ARRUs\n",
              "L/8AAZf1hABhflrJmm3IIenRu3wt/rNu7rwfsdqXyiq0ivbBo/k5lJpmzXdEPrBooAXnbgkAAAAW\n",
              "AZ8/dEK/AAIb4otItgSk4R9nTgqcYAAAABgBnyFqQr8AAishPUOMMA6M6d6z/SCIqoEAAABLQZsm\n",
              "SahBbJlMCG///qeEAArGfuIoVwtzE/gBTxvGqfTWedLIt1ag3h+RN6RTms9zyWNuVMCs4UFEaUGa\n",
              "vwpOyrtCR3jw1jOXauKrAAAAH0GfREUVLC//AAM4pkPVFe+wRUcfNcai3dDKTSattywAAAAqAZ9j\n",
              "dEK/AACOuO2jU0LCxgSEAFo19/EUw97tdKiAjKleh4gRw4N7NrBMAAAALgGfZWpCvwAIsGZYn8Dv\n",
              "jeMVQVK+/BtGsAAN8c6W+ph713NXe7nEP5DykAp42CEAAABnQZtnSahBbJlMCG///qeEAAVj0JsD\n",
              "wADjgAAffmfywkn+UnQDrI//bp+Ag+LCYYJoWQjA/weJQ76Ce4OqTVbKqAyljIvwA1nvl320As6F\n",
              "l53eZzlvysch6S0yfmHUUkv3t+p/AYiaQAAAAHxBm4tJ4QpSZTAhn/6eEAAp9W1JeaH99+Xc67IA\n",
              "biYGf/fHm2f2IRgEnMCZs3hjwgMv/bnBY6FZBR5sn0Sxe8ppxJLjCbtyqihyRn22RoPy+gMJKopU\n",
              "6g2CGv8RawlHy7wh7rIsR0F1/V2aShEEE8sRO6tuDx84MK8e+k5hAAAAMkGfqUU0TC//AAZJ17ll\n",
              "lvNP9N3ufMSLjScCWm+QOjLQAEkMUdScDZTM2CXXthYkwd3AAAAAJAGfyHRCvwAIbVp4MjtaLy9g\n",
              "GpOkAtYrflFiKl9P3J3ik0mA4wAAAB8Bn8pqQr8ACG7AaBvx+svdDkW8SOD1vvMVRpq5gWbxAAAA\n",
              "XUGbzkmoQWiZTAhX//44QACke1sta4Oy6aYAsPXzEtnqQShVj2g3CrSggemGqFGhtKbseupS63B9\n",
              "1BRZu6wSnVHmnbws0CbTOM83XnDZIVngqlf6JFjpX9XX7p02rQAAADlBn+xFESwr/wAEVNTbfnio\n",
              "pdhaagBqv+rUXm8qcrLSFTphbpOCz6nkPGtlZyFhsS9HKu/b7b0TOqEAAAAwAZ4NakK/AAishPNN\n",
              "4IRd6+QAl+ArxSouEBXhvLmJNnBDrxEuICH597cVvUUwrc+wAAAX/m1vb3YAAABsbXZoZAAAAAAA\n",
              "AAAAAAAAAAAAA+gAAEdoAAEAAAEAAAAAAAAAAAAAAAABAAAAAAAAAAAAAAAAAAAAAQAAAAAAAAAA\n",
              "AAAAAAAAQAAAAAAAAAAAAAAAAAAAAAAAAAAAAAAAAAAAAAAAAAIAABcodHJhawAAAFx0a2hkAAAA\n",
              "AwAAAAAAAAAAAAAAAQAAAAAAAEdoAAAAAAAAAAAAAAAAAAAAAAABAAAAAAAAAAAAAAAAAAAAAQAA\n",
              "AAAAAAAAAAAAAAAAQAAAAAGwAAABIAAAAAAAJGVkdHMAAAAcZWxzdAAAAAAAAAABAABHaAAABAAA\n",
              "AQAAAAAWoG1kaWEAAAAgbWRoZAAAAAAAAAAAAAAAAAAAMgAAA5IAVcQAAAAAAC1oZGxyAAAAAAAA\n",
              "AAB2aWRlAAAAAAAAAAAAAAAAVmlkZW9IYW5kbGVyAAAAFkttaW5mAAAAFHZtaGQAAAABAAAAAAAA\n",
              "AAAAAAAkZGluZgAAABxkcmVmAAAAAAAAAAEAAAAMdXJsIAAAAAEAABYLc3RibAAAALNzdHNkAAAA\n",
              "AAAAAAEAAACjYXZjMQAAAAAAAAABAAAAAAAAAAAAAAAAAAAAAAGwASAASAAAAEgAAAAAAAAAAQAA\n",
              "AAAAAAAAAAAAAAAAAAAAAAAAAAAAAAAAAAAAAAAAABj//wAAADFhdmNDAWQAFf/hABhnZAAVrNlB\n",
              "sJaEAAADAAQAAAMAyDxYtlgBAAZo6+PLIsAAAAAcdXVpZGtoQPJfJE/FujmlG88DI/MAAAAAAAAA\n",
              "GHN0dHMAAAAAAAAAAQAAAckAAAIAAAAAGHN0c3MAAAAAAAAAAgAAAAEAAAD7AAANuGN0dHMAAAAA\n",
              "AAABtQAAAAEAAAQAAAAAAQAACgAAAAABAAAEAAAAAAEAAAAAAAAAAQAAAgAAAAABAAAKAAAAAAEA\n",
              "AAQAAAAAAQAAAAAAAAABAAACAAAAAAEAAAoAAAAAAQAABAAAAAABAAAAAAAAAAEAAAIAAAAAAQAA\n",
              "CgAAAAABAAAEAAAAAAEAAAAAAAAAAQAAAgAAAAABAAAKAAAAAAEAAAQAAAAAAQAAAAAAAAABAAAC\n",
              "AAAAAAEAAAYAAAAAAQAAAgAAAAABAAAKAAAAAAEAAAQAAAAAAQAAAAAAAAABAAACAAAAAAEAAAoA\n",
              "AAAAAQAABAAAAAABAAAAAAAAAAEAAAIAAAAAAQAACgAAAAABAAAEAAAAAAEAAAAAAAAAAQAAAgAA\n",
              "AAABAAAKAAAAAAEAAAQAAAAAAQAAAAAAAAABAAACAAAAAAEAAAgAAAAAAgAAAgAAAAABAAAKAAAA\n",
              "AAEAAAQAAAAAAQAAAAAAAAABAAACAAAAAAEAAAgAAAAAAgAAAgAAAAACAAAEAAAAAAEAAAYAAAAA\n",
              "AQAAAgAAAAABAAAKAAAAAAEAAAQAAAAAAQAAAAAAAAABAAACAAAAAAEAAAoAAAAAAQAABAAAAAAB\n",
              "AAAAAAAAAAEAAAIAAAAAAQAABgAAAAABAAACAAAAAAEAAAYAAAAAAQAAAgAAAAACAAAEAAAAAAEA\n",
              "AAoAAAAAAQAABAAAAAABAAAAAAAAAAEAAAIAAAAAAQAACgAAAAABAAAEAAAAAAEAAAAAAAAAAQAA\n",
              "AgAAAAABAAAKAAAAAAEAAAQAAAAAAQAAAAAAAAABAAACAAAAAAEAAAoAAAAAAQAABAAAAAABAAAA\n",
              "AAAAAAEAAAIAAAAAAQAACAAAAAACAAACAAAAAAEAAAoAAAAAAQAABAAAAAABAAAAAAAAAAEAAAIA\n",
              "AAAAAQAACgAAAAABAAAEAAAAAAEAAAAAAAAAAQAAAgAAAAABAAAKAAAAAAEAAAQAAAAAAQAAAAAA\n",
              "AAABAAACAAAAAAEAAAoAAAAAAQAABAAAAAABAAAAAAAAAAEAAAIAAAAAAQAACgAAAAABAAAEAAAA\n",
              "AAEAAAAAAAAAAQAAAgAAAAABAAAKAAAAAAEAAAQAAAAAAQAAAAAAAAABAAACAAAAAAEAAAoAAAAA\n",
              "AQAABAAAAAABAAAAAAAAAAEAAAIAAAAAAQAACgAAAAABAAAEAAAAAAEAAAAAAAAAAQAAAgAAAAAB\n",
              "AAAKAAAAAAEAAAQAAAAAAQAAAAAAAAABAAACAAAAAAEAAAYAAAAAAQAAAgAAAAABAAAKAAAAAAEA\n",
              "AAQAAAAAAQAAAAAAAAABAAACAAAAAAEAAAoAAAAAAQAABAAAAAABAAAAAAAAAAEAAAIAAAAAAQAA\n",
              "BgAAAAABAAACAAAAAAEAAAoAAAAAAQAABAAAAAABAAAAAAAAAAEAAAIAAAAAAQAACgAAAAABAAAE\n",
              "AAAAAAEAAAAAAAAAAQAAAgAAAAABAAAIAAAAAAIAAAIAAAAAAQAACgAAAAABAAAEAAAAAAEAAAAA\n",
              "AAAAAQAAAgAAAAABAAAKAAAAAAEAAAQAAAAAAQAAAAAAAAABAAACAAAAAAEAAAoAAAAAAQAABAAA\n",
              "AAABAAAAAAAAAAEAAAIAAAAAAQAACAAAAAACAAACAAAAAAEAAAoAAAAAAQAABAAAAAABAAAAAAAA\n",
              "AAEAAAIAAAAAAQAACgAAAAABAAAEAAAAAAEAAAAAAAAAAQAAAgAAAAABAAAGAAAAAAEAAAIAAAAA\n",
              "AQAACgAAAAABAAAEAAAAAAEAAAAAAAAAAQAAAgAAAAABAAAKAAAAAAEAAAQAAAAAAQAAAAAAAAAB\n",
              "AAACAAAAAAEAAAoAAAAAAQAABAAAAAABAAAAAAAAAAEAAAIAAAAAAQAACgAAAAABAAAEAAAAAAEA\n",
              "AAAAAAAAAQAAAgAAAAABAAAKAAAAAAEAAAQAAAAAAQAAAAAAAAABAAACAAAAAAEAAAQAAAAAAQAA\n",
              "BgAAAAABAAACAAAAAAEAAAgAAAAAAgAAAgAAAAABAAAIAAAAAAIAAAIAAAAAAQAACAAAAAACAAAC\n",
              "AAAAAAEAAAoAAAAAAQAABAAAAAABAAAAAAAAAAEAAAIAAAAAAQAACgAAAAABAAAEAAAAAAEAAAAA\n",
              "AAAAAQAAAgAAAAABAAAKAAAAAAEAAAQAAAAAAQAAAAAAAAABAAACAAAAAAEAAAoAAAAAAQAABAAA\n",
              "AAABAAAAAAAAAAEAAAIAAAAAAQAACgAAAAABAAAEAAAAAAEAAAAAAAAAAQAAAgAAAAABAAAKAAAA\n",
              "AAEAAAQAAAAAAQAAAAAAAAABAAACAAAAAAEAAAoAAAAAAQAABAAAAAABAAAAAAAAAAEAAAIAAAAA\n",
              "AQAACgAAAAABAAAEAAAAAAEAAAAAAAAAAQAAAgAAAAABAAAGAAAAAAEAAAIAAAAAAQAACgAAAAAB\n",
              "AAAEAAAAAAEAAAAAAAAAAQAAAgAAAAABAAAKAAAAAAEAAAQAAAAAAQAAAAAAAAABAAACAAAAAAEA\n",
              "AAoAAAAAAQAABAAAAAABAAAAAAAAAAEAAAIAAAAAAQAABgAAAAABAAACAAAAAAEAAAQAAAAAAQAA\n",
              "CgAAAAABAAAEAAAAAAEAAAAAAAAAAQAAAgAAAAABAAAKAAAAAAEAAAQAAAAAAQAAAAAAAAABAAAC\n",
              "AAAAAAEAAAoAAAAAAQAABAAAAAABAAAAAAAAAAEAAAIAAAAAAQAACgAAAAABAAAEAAAAAAEAAAAA\n",
              "AAAAAQAAAgAAAAABAAAIAAAAAAIAAAIAAAAAAQAACgAAAAABAAAEAAAAAAEAAAAAAAAAAQAAAgAA\n",
              "AAACAAAEAAAAAAEAAAoAAAAAAQAABAAAAAABAAAAAAAAAAEAAAIAAAAAAQAACgAAAAABAAAEAAAA\n",
              "AAEAAAAAAAAAAQAAAgAAAAABAAAKAAAAAAEAAAQAAAAAAQAAAAAAAAABAAACAAAAAAEAAAgAAAAA\n",
              "AgAAAgAAAAABAAAKAAAAAAEAAAQAAAAAAQAAAAAAAAABAAACAAAAAAEAAAoAAAAAAQAABAAAAAAB\n",
              "AAAAAAAAAAEAAAIAAAAAAQAABgAAAAABAAACAAAAAAEAAAoAAAAAAQAABAAAAAABAAAAAAAAAAEA\n",
              "AAIAAAAAAQAACAAAAAACAAACAAAAAAEAAAoAAAAAAQAABAAAAAABAAAAAAAAAAEAAAIAAAAAAQAA\n",
              "CAAAAAACAAACAAAAAAEAAAoAAAAAAQAABAAAAAABAAAAAAAAAAEAAAIAAAAAAQAABAAAAAABAAAK\n",
              "AAAAAAEAAAQAAAAAAQAAAAAAAAABAAACAAAAAAEAAAoAAAAAAQAABAAAAAABAAAAAAAAAAEAAAIA\n",
              "AAAAAQAACgAAAAABAAAEAAAAAAEAAAAAAAAAAQAAAgAAAAABAAAKAAAAAAEAAAQAAAAAAQAAAAAA\n",
              "AAABAAACAAAAAAEAAAgAAAAAAgAAAgAAAAABAAAKAAAAAAEAAAQAAAAAAQAAAAAAAAABAAACAAAA\n",
              "AAEAAAoAAAAAAQAABAAAAAABAAAAAAAAAAEAAAIAAAAAAQAACgAAAAABAAAEAAAAAAEAAAAAAAAA\n",
              "AQAAAgAAAAABAAAEAAAAAAEAAAoAAAAAAQAABAAAAAABAAAAAAAAAAEAAAIAAAAAAQAACgAAAAAB\n",
              "AAAEAAAAAAEAAAAAAAAAAQAAAgAAAAABAAAKAAAAAAEAAAQAAAAAAQAAAAAAAAABAAACAAAAAAEA\n",
              "AAgAAAAAAgAAAgAAAAABAAAGAAAAAAEAAAIAAAAAAQAACgAAAAABAAAEAAAAAAEAAAAAAAAAAQAA\n",
              "AgAAAAABAAAEAAAAAAEAAAoAAAAAAQAABAAAAAABAAAAAAAAAAEAAAIAAAAAAQAACAAAAAACAAAC\n",
              "AAAAAAEAAAoAAAAAAQAABAAAAAABAAAAAAAAAAEAAAIAAAAAAQAACAAAAAACAAACAAAAAAEAAAQA\n",
              "AAAAAQAACgAAAAABAAAEAAAAAAEAAAAAAAAAAQAAAgAAAAABAAAKAAAAAAEAAAQAAAAAAQAAAAAA\n",
              "AAABAAACAAAAAAEAAAoAAAAAAQAABAAAAAABAAAAAAAAAAEAAAIAAAAAAQAACgAAAAABAAAEAAAA\n",
              "AAEAAAAAAAAAAQAAAgAAAAABAAAKAAAAAAEAAAQAAAAAAQAAAAAAAAABAAACAAAAAAEAAAoAAAAA\n",
              "AQAABAAAAAABAAAAAAAAAAEAAAIAAAAAAQAABgAAAAABAAACAAAAAAEAAAoAAAAAAQAABAAAAAAB\n",
              "AAAAAAAAAAEAAAIAAAAAAQAACgAAAAABAAAEAAAAAAEAAAAAAAAAAQAAAgAAAAABAAAKAAAAAAEA\n",
              "AAQAAAAAAQAAAAAAAAABAAACAAAAAAEAAAYAAAAAAQAAAgAAAAABAAAKAAAAAAEAAAQAAAAAAQAA\n",
              "AAAAAAABAAACAAAAAAEAAAoAAAAAAQAABAAAAAABAAAAAAAAAAEAAAIAAAAAAQAACgAAAAABAAAE\n",
              "AAAAAAEAAAAAAAAAAQAAAgAAAAABAAAKAAAAAAEAAAQAAAAAAQAAAAAAAAABAAACAAAAAAEAAAoA\n",
              "AAAAAQAABAAAAAABAAAAAAAAAAEAAAIAAAAAAQAABAAAAAABAAAKAAAAAAEAAAQAAAAAAQAAAAAA\n",
              "AAABAAACAAAAAAEAAAgAAAAAAgAAAgAAAAAcc3RzYwAAAAAAAAABAAAAAQAAAckAAAABAAAHOHN0\n",
              "c3oAAAAAAAAAAAAAAckAAAQkAAAAqQAAACoAAAAcAAAAJQAAAOsAAABDAAAAMgAAADMAAACVAAAA\n",
              "TwAAAEAAAAAwAAAAcAAAAC0AAAAcAAAALQAAAGoAAAApAAAAHgAAABYAAACGAAAAHwAAAKIAAAA3\n",
              "AAAAHwAAAB0AAAB6AAAAHQAAABoAAAAPAAAAbwAAACIAAAARAAAAKAAAABkAAAAyAAAAGgAAABkA\n",
              "AACUAAAANgAAACAAAACbAAAAOQAAAB4AAAAhAAAAhgAAACoAAAAlAAAAcgAAAHcAAADyAAAALwAA\n",
              "AG8AAAAtAAAAHAAAABkAAAB2AAAAHAAAACkAAAAPAAAAdQAAABsAAAB5AAAAJQAAAHEAAAB/AAAA\n",
              "hwAAACsAAAAsAAAAJAAAAHIAAAAzAAAAHAAAACUAAACiAAAAQAAAACkAAAAuAAABKAAAADEAAAA+\n",
              "AAAAIwAAAB4AAAAaAAAAGQAAAKQAAAAtAAAAGwAAABsAAAB0AAAAJwAAADAAAAA9AAAAfwAAACwA\n",
              "AAAfAAAAHQAAAKcAAABNAAAAJgAAACMAAACwAAAAQgAAACIAAAA/AAAAfgAAADQAAAAdAAAALQAA\n",
              "AG0AAAAjAAAAEwAAACUAAACgAAAAQwAAACgAAAArAAAAyQAAAEQAAAA9AAAAOAAAAJ4AAAAgAAAA\n",
              "hQAAACoAAAAvAAAAGgAAAGIAAAAmAAAAJwAAADQAAABsAAAANgAAAJ4AAABFAAAAKgAAAB4AAAC1\n",
              "AAAARwAAACoAAAA1AAAAxwAAADMAAAAYAAAAGQAAACUAAAAZAAAAGQAAAHcAAAAmAAAAHwAAABsA\n",
              "AACRAAAALAAAAB0AAAAsAAAAiQAAAC0AAAAxAAAAiwAAAE0AAAA7AAAANAAAAH8AAAA3AAAAHQAA\n",
              "ADAAAACgAAAAJgAAAIoAAAA8AAAAKgAAACgAAADtAAAAJQAAABwAAAAhAAAAWgAAACQAAAAaAAAA\n",
              "IQAAAKAAAAA+AAAAKAAAADMAAAC1AAAASAAAACwAAAA9AAAAtgAAAJ4AAAAkAAAAswAAADEAAAAo\n",
              "AAAAgQAAADYAAAAYAAAAVgAAABoAAAAYAAAAZgAAACwAAAAZAAAAHAAAAGQAAAAoAAAAGAAAACQA\n",
              "AAB2AAAAOQAAACYAAAAmAAAAgQAAADcAAAAoAAAAJwAAAHYAAAA0AAAAKQAAAC4AAABZAAAAPwAA\n",
              "AC8AAAAoAAAAygAAAD0AAAAyAAAAOQAAAKEAAAAtAAAALQAAADQAAACwAAAAKgAAAK0AAAAsAAAA\n",
              "JgAAAC8AAACrAAAAXAAAADgAAAA9AAAAcwAAACwAAAARAAAAMwAAAD0AAAAeAAABxwAAAIsAAAAc\n",
              "AAAAIgAAABYAAABeAAAAHwAAABEAAAAZAAAAewAAAB8AAAAcAAAAGgAAAEcAAAAfAAAAGgAAABgA\n",
              "AABMAAAAHQAAABgAAAC6AAAAOwAAACMAAAAoAAAAbQAAAGEAAAC8AAAAPAAAADAAAAAnAAAAZwAA\n",
              "ACEAAAAeAAAAFgAAAH0AAAAcAAAAGAAAABMAAAB/AAAAJAAAACYAAACJAAAAMgAAACAAAAAnAAAA\n",
              "kwAAAFcAAAA1AAAATAAAAGQAAAAbAAAAhwAAACgAAAAqAAAAGwAAAGAAAAAmAAAAJQAAAJ8AAABJ\n",
              "AAAALgAAACYAAACkAAAALQAAAC0AAABUAAAAKgAAABwAAAAdAAAAdwAAAIYAAAAuAAAALgAAABsA\n",
              "AACGAAAAKwAAAB8AAAAgAAAAhwAAACsAAAAfAAAAIQAAAJ8AAAA0AAAAMgAAACYAAABmAAAALQAA\n",
              "ACMAAADXAAAAKAAAACsAAAAYAAAAlQAAACwAAAAnAAAALwAAAKYAAAA7AAAAIwAAAC4AAAByAAAA\n",
              "3gAAACUAAAAvAAAAFwAAAIEAAAAtAAAAFgAAABwAAAB+AAAALQAAABoAAAAZAAAANwAAACMAAAAe\n",
              "AAAAQwAAABkAAABMAAAAQwAAABwAAAAjAAAAcQAAALIAAABTAAAAOQAAADIAAAC6AAAAKAAAAB8A\n",
              "AAA5AAAAHgAAABMAAAAZAAAAmgAAACsAAAAnAAAAoAAAALwAAAA5AAAAKQAAAC4AAACmAAAATQAA\n",
              "ACgAAAAiAAAAiQAAACMAAAAZAAAAGQAAAJkAAAArAAAAMQAAACIAAABsAAAAIAAAABwAAAAWAAAA\n",
              "kwAAADIAAAAtAAAAIAAAAFsAAAAZAAAAlQAAAC0AAAAcAAAAJwAAAL0AAAA+AAAALwAAACQAAACK\n",
              "AAAAQQAAADcAAAAzAAAAagAAABsAAACsAAAANwAAACUAAAArAAAAuAAAADoAAAAuAAAAKQAAAJwA\n",
              "AAA3AAAANgAAACkAAABjAAAAPwAAABoAAAAcAAAATwAAACMAAAAuAAAAMgAAAGsAAACAAAAANgAA\n",
              "ACgAAAAjAAAAYQAAAD0AAAA0AAAAFHN0Y28AAAAAAAAAAQAAACwAAABidWR0YQAAAFptZXRhAAAA\n",
              "AAAAACFoZGxyAAAAAAAAAABtZGlyYXBwbAAAAAAAAAAAAAAAAC1pbHN0AAAAJal0b28AAAAdZGF0\n",
              "YQAAAAEAAAAATGF2ZjU3LjgzLjEwMA==\n",
              "\">\n",
              "  Your browser does not support the video tag.\n",
              "</video>"
            ]
          },
          "metadata": {},
          "execution_count": 13
        },
        {
          "output_type": "display_data",
          "data": {
            "text/plain": [
              "<Figure size 640x480 with 0 Axes>"
            ]
          },
          "metadata": {}
        }
      ],
      "source": [
        "#Para visaluzar cómo se comportó el agente en los 15 episodios anteriores donde solo usó aciones aleatorias\n",
        "\n",
        "figure(figsize=(8, 6), dpi=80)\n",
        "\n",
        "# Aqui se crea el display virtual que usaremos más adelante\n",
        "_display = pyvirtualdisplay.Display(visible=False, size=(1400, 900))\n",
        "_ = _display.start()\n",
        "\n",
        "from matplotlib.animation import FuncAnimation\n",
        "\n",
        "def update_scene(num, frames, patch):\n",
        "    patch.set_data(frames[num])\n",
        "    return patch,\n",
        "\n",
        "def plot_animation(frames, repeat=False, interval=40):\n",
        "    fig = plt.figure()\n",
        "    patch = plt.imshow(frames[0])\n",
        "    plt.axis('off')\n",
        "    anim = FuncAnimation(\n",
        "        fig, update_scene, fargs=(frames, patch),\n",
        "        frames=len(frames), repeat=repeat, interval=interval)\n",
        "    plt.close()\n",
        "    return anim\n",
        "\n",
        "anim = plot_animation(frames)\n",
        "\n",
        "from IPython.display import HTML\n",
        "HTML(anim.to_html5_video())"
      ],
      "id": "bZtA4Lyxf__w"
    },
    {
      "cell_type": "markdown",
      "metadata": {
        "id": "54ad8830"
      },
      "source": [
        "**Modelo DRL usando redes neuronales**"
      ],
      "id": "54ad8830"
    },
    {
      "cell_type": "code",
      "execution_count": null,
      "metadata": {
        "colab": {
          "base_uri": "https://localhost:8080/"
        },
        "id": "fdaa0fc4",
        "outputId": "d72d83ca-2f21-4655-9aba-b0e80243a184"
      },
      "outputs": [
        {
          "output_type": "stream",
          "name": "stderr",
          "text": [
            "/usr/local/lib/python3.8/dist-packages/tensorflow/python/framework/dtypes.py:513: DeprecationWarning: `np.object` is a deprecated alias for the builtin `object`. To silence this warning, use `object` by itself. Doing this will not modify any behavior and is safe. \n",
            "Deprecated in NumPy 1.20; for more details and guidance: https://numpy.org/devdocs/release/1.20.0-notes.html#deprecations\n",
            "  np.object,\n",
            "/usr/local/lib/python3.8/dist-packages/tensorflow/python/framework/dtypes.py:521: DeprecationWarning: `np.bool` is a deprecated alias for the builtin `bool`. To silence this warning, use `bool` by itself. Doing this will not modify any behavior and is safe. If you specifically wanted the numpy scalar type, use `np.bool_` here.\n",
            "Deprecated in NumPy 1.20; for more details and guidance: https://numpy.org/devdocs/release/1.20.0-notes.html#deprecations\n",
            "  np.bool,\n",
            "/usr/local/lib/python3.8/dist-packages/tensorflow/python/framework/tensor_util.py:107: DeprecationWarning: `np.object` is a deprecated alias for the builtin `object`. To silence this warning, use `object` by itself. Doing this will not modify any behavior and is safe. \n",
            "Deprecated in NumPy 1.20; for more details and guidance: https://numpy.org/devdocs/release/1.20.0-notes.html#deprecations\n",
            "  np.object:\n",
            "/usr/local/lib/python3.8/dist-packages/tensorflow/python/framework/tensor_util.py:109: DeprecationWarning: `np.bool` is a deprecated alias for the builtin `bool`. To silence this warning, use `bool` by itself. Doing this will not modify any behavior and is safe. If you specifically wanted the numpy scalar type, use `np.bool_` here.\n",
            "Deprecated in NumPy 1.20; for more details and guidance: https://numpy.org/devdocs/release/1.20.0-notes.html#deprecations\n",
            "  np.bool:\n",
            "/usr/local/lib/python3.8/dist-packages/tensorflow/python/data/ops/iterator_ops.py:546: DeprecationWarning: Using or importing the ABCs from 'collections' instead of from 'collections.abc' is deprecated since Python 3.3, and in 3.10 it will stop working\n",
            "  class IteratorBase(collections.Iterator, trackable.Trackable,\n",
            "/usr/local/lib/python3.8/dist-packages/tensorflow/python/data/ops/dataset_ops.py:106: DeprecationWarning: Using or importing the ABCs from 'collections' instead of from 'collections.abc' is deprecated since Python 3.3, and in 3.10 it will stop working\n",
            "  class DatasetV2(collections.Iterable, tracking_base.Trackable,\n",
            "/usr/local/lib/python3.8/dist-packages/h5py/__init__.py:46: DeprecationWarning: `np.typeDict` is a deprecated alias for `np.sctypeDict`.\n",
            "  from ._conv import register_converters as _register_converters\n",
            "/usr/local/lib/python3.8/dist-packages/scipy/sparse/sputils.py:17: DeprecationWarning: `np.typeDict` is a deprecated alias for `np.sctypeDict`.\n",
            "  supported_dtypes = [np.typeDict[x] for x in supported_dtypes]\n"
          ]
        }
      ],
      "source": [
        "#importación de paqueterías\n",
        "\n",
        "import numpy as np                               #se necesitará porque usaremos matrices\n",
        "from tensorflow.keras.models import Sequential   #usaremos el modelo sequential de keras para la red neuronal\n",
        "from tensorflow.keras.layers import Dense, Flatten \n",
        "from tensorflow.keras.optimizers import Adam     #usaremos el optimizador Adam para los pesos\n"
      ],
      "id": "fdaa0fc4"
    },
    {
      "cell_type": "code",
      "execution_count": null,
      "metadata": {
        "id": "79bf0efb"
      },
      "outputs": [],
      "source": [
        "#Construcción del modelo de la red neuronal en una función para llamarla facilmente y reutilizarla\n",
        "\n",
        "# Sus argumentos son los estados y las acciones porque lo que se busca optimizar son las acciones para obtener\n",
        "#la máxima recompensa en cada estado.\n",
        "\n",
        "def build_model(states, actions):\n",
        "    model = Sequential()\n",
        "    model.add(Flatten(input_shape=(1,states))) #primera capa con la entrada de estados de forma flatten\n",
        "    model.add(Dense(24, activation='relu'))    # segunda capa con 24 neuronas y función de activación relu\n",
        "    model.add(Dense(24, activation='relu'))    # tercera capa con 24 nueronas y función de activación relu\n",
        "    model.add(Dense(actions, activation='linear')) #última capa de acitivación linear\n",
        "    return model\n"
      ],
      "id": "79bf0efb"
    },
    {
      "cell_type": "code",
      "execution_count": null,
      "metadata": {
        "id": "NUJpAefdECIu"
      },
      "outputs": [],
      "source": [
        "del model # Ejecutar celda solo si aparece el error <<'Sequential' object has no attribute '_compile_time_distribution_strategy'>>\n",
        "          # al correr la línea de código dn.fit más adelante, ya que esto lo resuelve\n",
        "          # y después volver a corre todas las celdas siguientes"
      ],
      "id": "NUJpAefdECIu"
    },
    {
      "cell_type": "code",
      "execution_count": null,
      "metadata": {
        "id": "39919c8b"
      },
      "outputs": [],
      "source": [
        "#creando el modelo con los estados y acciones del ambiente\n",
        "model = build_model(states, actions)"
      ],
      "id": "39919c8b"
    },
    {
      "cell_type": "code",
      "execution_count": null,
      "metadata": {
        "colab": {
          "base_uri": "https://localhost:8080/"
        },
        "id": "a01dabc9",
        "outputId": "d5bed9e7-2a42-4538-81dd-4b8d3cdf7802"
      },
      "outputs": [
        {
          "output_type": "stream",
          "name": "stdout",
          "text": [
            "Model: \"sequential_2\"\n",
            "_________________________________________________________________\n",
            "Layer (type)                 Output Shape              Param #   \n",
            "=================================================================\n",
            "flatten_2 (Flatten)          (None, 4)                 0         \n",
            "_________________________________________________________________\n",
            "dense_6 (Dense)              (None, 24)                120       \n",
            "_________________________________________________________________\n",
            "dense_7 (Dense)              (None, 24)                600       \n",
            "_________________________________________________________________\n",
            "dense_8 (Dense)              (None, 2)                 50        \n",
            "=================================================================\n",
            "Total params: 770\n",
            "Trainable params: 770\n",
            "Non-trainable params: 0\n",
            "_________________________________________________________________\n"
          ]
        }
      ],
      "source": [
        "model.summary()"
      ],
      "id": "a01dabc9"
    },
    {
      "cell_type": "markdown",
      "metadata": {
        "id": "53a48f54"
      },
      "source": [
        "**Creando el agente con Keras-RL**"
      ],
      "id": "53a48f54"
    },
    {
      "cell_type": "code",
      "execution_count": null,
      "metadata": {
        "id": "d818d31e"
      },
      "outputs": [],
      "source": [
        "#importación de paqueterías\n",
        "from rl.agents import DQNAgent          #deep q-network agent\n",
        "from rl.policy import BoltzmannQPolicy  #política epsilon-greedy\n",
        "from rl.memory import SequentialMemory  #esto al usarlo permitirá que el agente guarde en memoria episodios anteriores"
      ],
      "id": "d818d31e"
    },
    {
      "cell_type": "code",
      "execution_count": null,
      "metadata": {
        "id": "eca41c15"
      },
      "outputs": [],
      "source": [
        "##Construcción del modelo del agente en una función para llamarla facilmente y reutilizarla\n",
        "\n",
        "def build_agent(model, actions):\n",
        "    policy = BoltzmannQPolicy()                                     # Usaremos esta política como comentado en la introducción\n",
        "    memory = SequentialMemory(limit=50000, window_length=1)         # Limitaremos a 1 observacion como entrada y una memoria de 50 mil indica lo maximo de episodios que recordará\n",
        "    dqn = DQNAgent(model=model, memory=memory, policy=policy,       # Creamos el agente de Deep Q Neural Network con la política y memoria anteriores, le agregamos las acciones que puede tomar y un \n",
        "                  nb_actions=actions, nb_steps_warmup=10000, target_model_update=1e-2) #calentamiento de 10 mil pasos hará que las primeras 10 mil interaciones no se esté realmente aprendiendo\n",
        "                                                                  # Como le ponemos un target_model_update <1 hará un soft update, es decir (1 - target_model_update) * old + target_model_update * new\n",
        "    return dqn"
      ],
      "id": "eca41c15"
    },
    {
      "cell_type": "code",
      "execution_count": null,
      "metadata": {
        "colab": {
          "base_uri": "https://localhost:8080/"
        },
        "id": "kxKLcisoEJQK",
        "outputId": "0aa74b1c-24b1-4e79-c3b4-f2da397b251e"
      },
      "outputs": [
        {
          "output_type": "stream",
          "name": "stderr",
          "text": [
            "/usr/local/lib/python3.8/dist-packages/tensorflow/python/keras/engine/training_utils.py:1446: DeprecationWarning: Using or importing the ABCs from 'collections' instead of from 'collections.abc' is deprecated since Python 3.3, and in 3.10 it will stop working\n",
            "  if isinstance(sample_weight_mode, collections.Mapping):\n"
          ]
        }
      ],
      "source": [
        "dqn = build_agent(model, actions)                        #creación del agente dqn\n",
        "dqn.compile(Adam(lr=1e-3), metrics=['mae'])              #con .compile se le indica el optimizador de los pesos y la métrica a optimizar"
      ],
      "id": "kxKLcisoEJQK"
    },
    {
      "cell_type": "code",
      "execution_count": null,
      "metadata": {
        "colab": {
          "base_uri": "https://localhost:8080/"
        },
        "id": "d662ed37",
        "outputId": "7a62361e-6da6-41a1-85b2-89c61bbaa10a"
      },
      "outputs": [
        {
          "output_type": "stream",
          "name": "stdout",
          "text": [
            "Training for 50000 steps ...\n",
            "Interval 1 (0 steps performed)\n",
            "10000/10000 [==============================] - 8s 781us/step - reward: 1.0000\n",
            "477 episodes - episode_reward: 20.962 [8.000, 85.000]\n",
            "\n",
            "Interval 2 (10000 steps performed)\n",
            "10000/10000 [==============================] - 57s 6ms/step - reward: 1.0000\n",
            "111 episodes - episode_reward: 89.667 [10.000, 200.000] - loss: 3.788 - mae: 20.485 - mean_q: 41.854\n",
            "\n",
            "Interval 3 (20000 steps performed)\n",
            "10000/10000 [==============================] - 59s 6ms/step - reward: 1.0000\n",
            "50 episodes - episode_reward: 198.800 [177.000, 200.000] - loss: 17.517 - mae: 53.515 - mean_q: 109.000\n",
            "\n",
            "Interval 4 (30000 steps performed)\n",
            "10000/10000 [==============================] - 60s 6ms/step - reward: 1.0000\n",
            "53 episodes - episode_reward: 189.340 [149.000, 200.000] - loss: 15.519 - mae: 62.362 - mean_q: 126.856\n",
            "\n",
            "Interval 5 (40000 steps performed)\n",
            "10000/10000 [==============================] - 58s 6ms/step - reward: 1.0000\n",
            "done, took 241.271 seconds\n"
          ]
        },
        {
          "output_type": "execute_result",
          "data": {
            "text/plain": [
              "<tensorflow.python.keras.callbacks.History at 0x7f4507e5fc70>"
            ]
          },
          "metadata": {},
          "execution_count": 32
        }
      ],
      "source": [
        "dqn.fit(env, nb_steps=50000, visualize=False, verbose=1) #con .fit el agente entrena"
      ],
      "id": "d662ed37"
    },
    {
      "cell_type": "markdown",
      "metadata": {
        "id": "NDDxUD442kUj"
      },
      "source": [
        "## Evaluación del modelo"
      ],
      "id": "NDDxUD442kUj"
    },
    {
      "cell_type": "markdown",
      "metadata": {
        "id": "cf6cbe8a"
      },
      "source": [
        "**Test del modelo**"
      ],
      "id": "cf6cbe8a"
    },
    {
      "cell_type": "markdown",
      "metadata": {
        "id": "QD7yH6BbATd7"
      },
      "source": [
        "Para probar la efectividad del modelo se probó en 100 episodios nuevos y se imprimió el score que tuvo en cada uno."
      ],
      "id": "QD7yH6BbATd7"
    },
    {
      "cell_type": "code",
      "execution_count": null,
      "metadata": {
        "colab": {
          "base_uri": "https://localhost:8080/"
        },
        "id": "78c56518",
        "outputId": "c4e37e95-8e3d-44e3-8226-2185cd4d2b1c"
      },
      "outputs": [
        {
          "output_type": "stream",
          "name": "stdout",
          "text": [
            "Testing for 100 episodes ...\n",
            "Episode 1: reward: 200.000, steps: 200\n",
            "Episode 2: reward: 200.000, steps: 200\n",
            "Episode 3: reward: 200.000, steps: 200\n",
            "Episode 4: reward: 200.000, steps: 200\n",
            "Episode 5: reward: 200.000, steps: 200\n",
            "Episode 6: reward: 200.000, steps: 200\n",
            "Episode 7: reward: 200.000, steps: 200\n",
            "Episode 8: reward: 200.000, steps: 200\n",
            "Episode 9: reward: 200.000, steps: 200\n",
            "Episode 10: reward: 200.000, steps: 200\n",
            "Episode 11: reward: 200.000, steps: 200\n",
            "Episode 12: reward: 200.000, steps: 200\n",
            "Episode 13: reward: 200.000, steps: 200\n",
            "Episode 14: reward: 200.000, steps: 200\n",
            "Episode 15: reward: 200.000, steps: 200\n",
            "Episode 16: reward: 200.000, steps: 200\n",
            "Episode 17: reward: 200.000, steps: 200\n",
            "Episode 18: reward: 200.000, steps: 200\n",
            "Episode 19: reward: 200.000, steps: 200\n",
            "Episode 20: reward: 200.000, steps: 200\n",
            "Episode 21: reward: 200.000, steps: 200\n",
            "Episode 22: reward: 200.000, steps: 200\n",
            "Episode 23: reward: 200.000, steps: 200\n",
            "Episode 24: reward: 200.000, steps: 200\n",
            "Episode 25: reward: 200.000, steps: 200\n",
            "Episode 26: reward: 200.000, steps: 200\n",
            "Episode 27: reward: 200.000, steps: 200\n",
            "Episode 28: reward: 200.000, steps: 200\n",
            "Episode 29: reward: 200.000, steps: 200\n",
            "Episode 30: reward: 200.000, steps: 200\n",
            "Episode 31: reward: 200.000, steps: 200\n",
            "Episode 32: reward: 200.000, steps: 200\n",
            "Episode 33: reward: 200.000, steps: 200\n",
            "Episode 34: reward: 200.000, steps: 200\n",
            "Episode 35: reward: 200.000, steps: 200\n",
            "Episode 36: reward: 200.000, steps: 200\n",
            "Episode 37: reward: 200.000, steps: 200\n",
            "Episode 38: reward: 200.000, steps: 200\n",
            "Episode 39: reward: 200.000, steps: 200\n",
            "Episode 40: reward: 200.000, steps: 200\n",
            "Episode 41: reward: 200.000, steps: 200\n",
            "Episode 42: reward: 200.000, steps: 200\n",
            "Episode 43: reward: 200.000, steps: 200\n",
            "Episode 44: reward: 200.000, steps: 200\n",
            "Episode 45: reward: 200.000, steps: 200\n",
            "Episode 46: reward: 200.000, steps: 200\n",
            "Episode 47: reward: 200.000, steps: 200\n",
            "Episode 48: reward: 200.000, steps: 200\n",
            "Episode 49: reward: 200.000, steps: 200\n",
            "Episode 50: reward: 200.000, steps: 200\n",
            "Episode 51: reward: 200.000, steps: 200\n",
            "Episode 52: reward: 200.000, steps: 200\n",
            "Episode 53: reward: 200.000, steps: 200\n",
            "Episode 54: reward: 200.000, steps: 200\n",
            "Episode 55: reward: 200.000, steps: 200\n",
            "Episode 56: reward: 200.000, steps: 200\n",
            "Episode 57: reward: 200.000, steps: 200\n",
            "Episode 58: reward: 200.000, steps: 200\n",
            "Episode 59: reward: 200.000, steps: 200\n",
            "Episode 60: reward: 200.000, steps: 200\n",
            "Episode 61: reward: 200.000, steps: 200\n",
            "Episode 62: reward: 200.000, steps: 200\n",
            "Episode 63: reward: 200.000, steps: 200\n",
            "Episode 64: reward: 200.000, steps: 200\n",
            "Episode 65: reward: 200.000, steps: 200\n",
            "Episode 66: reward: 200.000, steps: 200\n",
            "Episode 67: reward: 200.000, steps: 200\n",
            "Episode 68: reward: 200.000, steps: 200\n",
            "Episode 69: reward: 200.000, steps: 200\n",
            "Episode 70: reward: 200.000, steps: 200\n",
            "Episode 71: reward: 200.000, steps: 200\n",
            "Episode 72: reward: 200.000, steps: 200\n",
            "Episode 73: reward: 200.000, steps: 200\n",
            "Episode 74: reward: 200.000, steps: 200\n",
            "Episode 75: reward: 200.000, steps: 200\n",
            "Episode 76: reward: 200.000, steps: 200\n",
            "Episode 77: reward: 200.000, steps: 200\n",
            "Episode 78: reward: 200.000, steps: 200\n",
            "Episode 79: reward: 200.000, steps: 200\n",
            "Episode 80: reward: 200.000, steps: 200\n",
            "Episode 81: reward: 200.000, steps: 200\n",
            "Episode 82: reward: 200.000, steps: 200\n",
            "Episode 83: reward: 200.000, steps: 200\n",
            "Episode 84: reward: 200.000, steps: 200\n",
            "Episode 85: reward: 200.000, steps: 200\n",
            "Episode 86: reward: 200.000, steps: 200\n",
            "Episode 87: reward: 200.000, steps: 200\n",
            "Episode 88: reward: 200.000, steps: 200\n",
            "Episode 89: reward: 200.000, steps: 200\n",
            "Episode 90: reward: 200.000, steps: 200\n",
            "Episode 91: reward: 200.000, steps: 200\n",
            "Episode 92: reward: 200.000, steps: 200\n",
            "Episode 93: reward: 200.000, steps: 200\n",
            "Episode 94: reward: 200.000, steps: 200\n",
            "Episode 95: reward: 200.000, steps: 200\n",
            "Episode 96: reward: 200.000, steps: 200\n",
            "Episode 97: reward: 200.000, steps: 200\n",
            "Episode 98: reward: 200.000, steps: 200\n",
            "Episode 99: reward: 200.000, steps: 200\n",
            "Episode 100: reward: 200.000, steps: 200\n",
            "200.0\n"
          ]
        }
      ],
      "source": [
        "scores = dqn.test(env, nb_episodes=100, visualize=False)\n",
        "print(np.mean(scores.history['episode_reward']))\n"
      ],
      "id": "78c56518"
    },
    {
      "cell_type": "markdown",
      "metadata": {
        "id": "3c93223e"
      },
      "source": [
        "**Guardar el modelo**"
      ],
      "id": "3c93223e"
    },
    {
      "cell_type": "code",
      "execution_count": null,
      "metadata": {
        "id": "d7285b3c"
      },
      "outputs": [],
      "source": [
        "dqn.save_weights('dqn_weights.h5f', overwrite=True)"
      ],
      "id": "d7285b3c"
    },
    {
      "cell_type": "code",
      "execution_count": null,
      "metadata": {
        "id": "VJRJYy8L2vui"
      },
      "outputs": [],
      "source": [
        "#Borrar el modelo, el agente y el ambiente para despues cintruir y probar el modelo guardado de nuevo\n",
        "del model\n",
        "del dqn\n",
        "del env\n"
      ],
      "id": "VJRJYy8L2vui"
    },
    {
      "cell_type": "markdown",
      "metadata": {
        "id": "66e6d970"
      },
      "source": [
        "**Llamar al modelo guardado y probarlo**"
      ],
      "id": "66e6d970"
    },
    {
      "cell_type": "code",
      "execution_count": null,
      "metadata": {
        "id": "c455cb46",
        "colab": {
          "base_uri": "https://localhost:8080/"
        },
        "outputId": "d7a31f30-aa69-4167-8474-ffd8bc504f4f"
      },
      "outputs": [
        {
          "output_type": "stream",
          "name": "stderr",
          "text": [
            "/usr/local/lib/python3.8/dist-packages/gym/envs/registration.py:593: UserWarning: \u001b[33mWARN: The environment CartPole-v0 is out of date. You should consider upgrading to version `v1`.\u001b[0m\n",
            "  logger.warn(\n",
            "/usr/local/lib/python3.8/dist-packages/gym/core.py:317: DeprecationWarning: \u001b[33mWARN: Initializing wrapper in old step API which returns one bool instead of two. It is recommended to set `new_step_api=True` to use new step API. This will be the default behaviour in future.\u001b[0m\n",
            "  deprecation(\n",
            "/usr/local/lib/python3.8/dist-packages/gym/wrappers/step_api_compatibility.py:39: DeprecationWarning: \u001b[33mWARN: Initializing environment in old step API which returns one bool instead of two. It is recommended to set `new_step_api=True` to use new step API. This will be the default behaviour in future.\u001b[0m\n",
            "  deprecation(\n"
          ]
        }
      ],
      "source": [
        "#Contruir el ambiente, la red y el agente de nuevo\n",
        "env = gym.make('CartPole-v0')\n",
        "actions = env.action_space.n\n",
        "states = env.observation_space.shape[0]\n",
        "model = build_model(states, actions)\n",
        "dqn = build_agent(model, actions)\n",
        "dqn.compile(Adam(lr=1e-3), metrics=['mae'])\n"
      ],
      "id": "c455cb46"
    },
    {
      "cell_type": "code",
      "execution_count": null,
      "metadata": {
        "id": "4bsi2KLoJfP9"
      },
      "outputs": [],
      "source": [
        "# Cargar los pesos pre entrenados al modelo\n",
        "dqn.load_weights('dqn_weights.h5f')\n"
      ],
      "id": "4bsi2KLoJfP9"
    },
    {
      "cell_type": "code",
      "execution_count": null,
      "metadata": {
        "id": "Lx758s0VJo9T",
        "colab": {
          "base_uri": "https://localhost:8080/"
        },
        "outputId": "391aa519-18f5-41c5-fa45-2f9f626ba637"
      },
      "outputs": [
        {
          "output_type": "stream",
          "name": "stdout",
          "text": [
            "Testing for 20 episodes ...\n",
            "Episode 1: reward: 200.000, steps: 200\n",
            "Episode 2: reward: 200.000, steps: 200\n",
            "Episode 3: reward: 200.000, steps: 200\n",
            "Episode 4: reward: 200.000, steps: 200\n",
            "Episode 5: reward: 200.000, steps: 200\n",
            "Episode 6: reward: 200.000, steps: 200\n",
            "Episode 7: reward: 200.000, steps: 200\n",
            "Episode 8: reward: 200.000, steps: 200\n",
            "Episode 9: reward: 200.000, steps: 200\n",
            "Episode 10: reward: 200.000, steps: 200\n",
            "Episode 11: reward: 200.000, steps: 200\n",
            "Episode 12: reward: 200.000, steps: 200\n",
            "Episode 13: reward: 200.000, steps: 200\n",
            "Episode 14: reward: 200.000, steps: 200\n",
            "Episode 15: reward: 200.000, steps: 200\n",
            "Episode 16: reward: 200.000, steps: 200\n",
            "Episode 17: reward: 200.000, steps: 200\n",
            "Episode 18: reward: 200.000, steps: 200\n",
            "Episode 19: reward: 200.000, steps: 200\n",
            "Episode 20: reward: 200.000, steps: 200\n"
          ]
        }
      ],
      "source": [
        "#Probar al modelo guardado\n",
        "_ = dqn.test(env, nb_episodes=20, visualize= False)"
      ],
      "id": "Lx758s0VJo9T"
    },
    {
      "cell_type": "markdown",
      "metadata": {
        "id": "4JVt46FK2tTK"
      },
      "source": [
        "## Conclusiones"
      ],
      "id": "4JVt46FK2tTK"
    },
    {
      "cell_type": "markdown",
      "metadata": {
        "id": "yqkQAzq3EVrM"
      },
      "source": [
        "Al inicio del proyecto pensamos usar RL para un entorno de atari, en específico un juego de ping pong del gimnasio de OpenAI, pero nos dimos cuenta que tardaría mucho en entrenar, ya que en una hora sólo entrenó menos de 3,000 episodios de los 10,000,000 de episodios que recomiendan los expertos en el tema. Esto debido a que son entornos más complejos, con un gran número de estados y mayor número de acciones, e incluso se necesitan redes convolucionales para que el agente aprenda lo importante de cada frame en el entorno. Es por ello y por el poco tiempo antes de la entrega del proyecto que decidimos mejor usar un entorno más sencillo que nos permitiera entrenar a la red para poder probar y desarrollar un agente de DRL. \n",
        "  "
      ],
      "id": "yqkQAzq3EVrM"
    },
    {
      "cell_type": "markdown",
      "source": [
        "\n",
        "Este proyecto nos permitió entender un poco más sobre cómo funciona el aprendizaje por refuerzo y sobretodo el poder combinarlo con redes neuronales. En particular, por los resultados del test del modelo se puede ver que la red aprendió a obtener la recompensa máxima en cada episodio (200 puntos), en comparación con el agente que usaba puras acciones aleatorias, el cual nunca pudo sobrepasar los 42 puntos, aunque en la mayoría de los episodios su puntaje rondó los 15 puntos. Esto muestra la utilidad del DLR e invita a pensar sobre las ventajas que tiene para problemas donde se quiere mejorar la habilidad del agente sobre la habilidad humana. Sin emabrgo, hay que tener en cuenta que entre más complejo sea el entorno y el número de acciones aumente, también implicará un costo computacional mayor.  Y aveces estas dificultades no se pueden identificar de manera directa en el desarrollo de la teoría de este tipo de herramientas o se pueden subestimar. Por ejemplo, el costo computacional de entrenar una red puede ser alto, la simulación de los entornos usando el gimansio de OpenAI y el entrenamiento del agente puede ser una tarea difícil que requerirá mucho tiempo de entrenamiento y todo esto crece según el nivel de complejidad con el que se ha de definir el modelo y según el nivel de dificultad del problema a solucionar. \n"
      ],
      "metadata": {
        "id": "TJdiL3_hgcBR"
      },
      "id": "TJdiL3_hgcBR"
    },
    {
      "cell_type": "markdown",
      "source": [
        "Por otro lado, es importante notar que las métricas de evaluación de un modelo de RL son diferentes a las de las redes neuronales comunes. Ya no se abordaron en este notebook, pero es importate hacer énfasis que existen métricas de evaluación del modelo para medir la efectividad de la política óptima aprendida más allá de solo evaluar el desempeño del agente en un entorno de test (como se hizo en este proyecto - se vio si sacó el score máximo en cada ensayo del test). \n",
        "\n"
      ],
      "metadata": {
        "id": "G-nA0Jj6giEL"
      },
      "id": "G-nA0Jj6giEL"
    },
    {
      "cell_type": "markdown",
      "source": [
        "Finalmente, este proyecto sirvió como un acercamiento inicial al aprendizaje por refuerzo profundo y como una demostración de algunas de las cosas que aprendimos en el curso de redes neuronales a lo largo del semestre, pero es necesario conocer más de esta rama de la inteligencia artificial para desarrollar algoritmos más eficientes, así como ahodar en el conocimiento e implementación del deep learning. "
      ],
      "metadata": {
        "id": "rXCRLT45gfc2"
      },
      "id": "rXCRLT45gfc2"
    },
    {
      "cell_type": "markdown",
      "source": [
        "# Referencias: \n",
        "\n",
        "*   O'Reilly. (2018). En O'Reilly: BoltzmannQPolicy. Recuperado el 8 de diciembre de 2022. https://www.oreilly.com/library/view/keras-deep-learning/9781788621755/d1cb3da7-ff8b-425f-8968-1ba2f60cb7c6.xhtml\n",
        "\n",
        "*   Francois-Lavet, V. Henderson, P. Islam, R. Bellemare, M. G. y Pineau, J. (2018). Foundations and Trends in Machine Learning, 11 (3-4). https://doi.org/10.1561/2200000071\n",
        "\n",
        "*   Harmon, M. y Harmon, S. (2000). Reinforcement Learning: A tutorial. Recuperado el 8 de diciembre de 2022. https://www.researchgate.net/publication/2464216_Reinforcement_Learning_A_Tutorial\n",
        "\n",
        "*   Jang, B. Kim, M. Harerimana, G. y Kim, J.W. (2019). \"Q-Learning Algorithms: A Comprehensive Classification and Applications,\". IEEE Access, vol. 7,133653-133667, doi: 10.1109/ACCESS.2019.2941229\n",
        "\n",
        "* OpenAI. (2022). Gym Documentation: CartPole. https://www.gymlibrary.dev/environments/classic_control/cart_pole/\n",
        "\n",
        "*   Palminteri, S. y Pessiglione, M. (2013). Reinforcement Learning and Tourette Syndrome. Academic Press, 112, 131-153. https://www.sciencedirect.com/science/article/abs/pii/B9780124115460000056\n",
        "\n",
        "*   Ravindran, B. (2013). Relativized hierarchical decomposition of Markov decision processes. Elsevier, 202, 465-488. https://www.sciencedirect.com/science/article/abs/pii/B978044462604200023X\n",
        "\n",
        "*   Sagar, R. (2020). On-Policy vs Off-Policy: Reinforcement Learning. En Analytics India Mag. Recuperado el 9 de diciembre de 2022. https://analyticsindiamag.com/reinforcement-learning-policy/\n",
        "\n",
        "*    Shyalika, C. (2019). A Beginners Guide to Q-Learning. En Towards Data Science. Recuperado el 8 de diciembre de 2022. https://towardsdatascience.com/a-beginners-guide-to-q-learning-c3e2a30a653c\n",
        "\n",
        "*   Silver, D. (s.f.). Turorial: Deep Reinforcement Learning. Recuperado el 8 de diciembre de 2022. https://www.davidsilver.uk/wp-content/uploads/2020/03/deep_rl_tutorial_small_compressed.pdf\n",
        "\n",
        "*   Sutton, R. y Barto, A. G. (2015). Reinforcemente Learning: An Introduction (segunda edición). The MIT Press. \n",
        "\n",
        "*    Vallejo del Moral, M. (2021). Algoritmo Deep Q-Learning para el\n",
        "aprendizaje por refuerzo de una estrategia de conducción en 2D [Trabajo de Fin de Grado]. Universidad Pública de Navarra. https://academica-e.unavarra.es/bitstream/handle/2454/40521/TFG_Mikel_Vallejo.pdf?sequence=1&isAllowed=y\n",
        "\n",
        "\n"
      ],
      "metadata": {
        "id": "1MwipGFmPVEo"
      },
      "id": "1MwipGFmPVEo"
    }
  ],
  "metadata": {
    "accelerator": "GPU",
    "colab": {
      "provenance": [],
      "collapsed_sections": [
        "4JVt46FK2tTK"
      ]
    },
    "gpuClass": "standard",
    "kernelspec": {
      "display_name": "Python 3 (ipykernel)",
      "language": "python",
      "name": "python3"
    },
    "language_info": {
      "codemirror_mode": {
        "name": "ipython",
        "version": 3
      },
      "file_extension": ".py",
      "mimetype": "text/x-python",
      "name": "python",
      "nbconvert_exporter": "python",
      "pygments_lexer": "ipython3",
      "version": "3.8.8"
    }
  },
  "nbformat": 4,
  "nbformat_minor": 5
}